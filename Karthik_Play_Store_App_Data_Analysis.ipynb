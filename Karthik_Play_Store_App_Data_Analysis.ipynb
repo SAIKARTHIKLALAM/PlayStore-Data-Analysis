{
  "nbformat": 4,
  "nbformat_minor": 0,
  "metadata": {
    "colab": {
      "provenance": [],
      "collapsed_sections": [],
      "include_colab_link": true
    },
    "kernelspec": {
      "name": "python3",
      "display_name": "Python 3"
    },
    "language_info": {
      "name": "python"
    }
  },
  "cells": [
    {
      "cell_type": "markdown",
      "metadata": {
        "id": "view-in-github",
        "colab_type": "text"
      },
      "source": [
        "<a href=\"https://colab.research.google.com/github/SAIKARTHIKLALAM/PlayStore-data-analysis/blob/main/Karthik_Play_Store_App_Data_Analysis.ipynb\" target=\"_parent\"><img src=\"https://colab.research.google.com/assets/colab-badge.svg\" alt=\"Open In Colab\"/></a>"
      ]
    },
    {
      "cell_type": "markdown",
      "source": [
        "#Welcome to the EDA Capstone Project \n",
        "\n",
        "Topic - Plastore Data and User Review Data Analysis\n",
        "\n",
        "* To begin with we are importing all the required Libraries\n",
        "* Then we are going to mount the drive and import both data files and store them as pandas dataframe in variable platstore_df and review_df\n"
      ],
      "metadata": {
        "id": "md3NmNDswUaX"
      }
    },
    {
      "cell_type": "code",
      "execution_count": null,
      "metadata": {
        "id": "Mf5VW7iQuiUp"
      },
      "outputs": [],
      "source": [
        "#Importing all important libraries \n",
        "import numpy as np\n",
        "import pandas as pd\n",
        "from datetime import datetime\n",
        "import matplotlib.pyplot as plt\n",
        "%matplotlib inline \n",
        "import seaborn as sns"
      ]
    },
    {
      "cell_type": "code",
      "source": [
        "#Uploading the directory and file as pandas dataframe\n",
        "\n",
        "playstore_df = pd.read_csv('Play Store Data.csv')\n",
        "review_df = pd.read_csv('User Reviews.csv')"
      ],
      "metadata": {
        "id": "ok1PAUXguzos"
      },
      "execution_count": null,
      "outputs": []
    },
    {
      "cell_type": "markdown",
      "source": [
        "#Let's analyse the data by checking out the head of both the data"
      ],
      "metadata": {
        "id": "4de5QIXFxsES"
      }
    },
    {
      "cell_type": "code",
      "source": [
        "playstore_df.head()\n"
      ],
      "metadata": {
        "id": "Z8nD8t9Sxpz7",
        "colab": {
          "base_uri": "https://localhost:8080/",
          "height": 337
        },
        "outputId": "765b9d45-ea60-4f0f-bea4-2c729826874d"
      },
      "execution_count": null,
      "outputs": [
        {
          "output_type": "execute_result",
          "data": {
            "text/plain": [
              "                                                 App        Category  Rating  \\\n",
              "0     Photo Editor & Candy Camera & Grid & ScrapBook  ART_AND_DESIGN     4.1   \n",
              "1                                Coloring book moana  ART_AND_DESIGN     3.9   \n",
              "2  U Launcher Lite – FREE Live Cool Themes, Hide ...  ART_AND_DESIGN     4.7   \n",
              "3                              Sketch - Draw & Paint  ART_AND_DESIGN     4.5   \n",
              "4              Pixel Draw - Number Art Coloring Book  ART_AND_DESIGN     4.3   \n",
              "\n",
              "  Reviews  Size     Installs  Type Price Content Rating  \\\n",
              "0     159   19M      10,000+  Free     0       Everyone   \n",
              "1     967   14M     500,000+  Free     0       Everyone   \n",
              "2   87510  8.7M   5,000,000+  Free     0       Everyone   \n",
              "3  215644   25M  50,000,000+  Free     0           Teen   \n",
              "4     967  2.8M     100,000+  Free     0       Everyone   \n",
              "\n",
              "                      Genres      Last Updated         Current Ver  \\\n",
              "0               Art & Design   January 7, 2018               1.0.0   \n",
              "1  Art & Design;Pretend Play  January 15, 2018               2.0.0   \n",
              "2               Art & Design    August 1, 2018               1.2.4   \n",
              "3               Art & Design      June 8, 2018  Varies with device   \n",
              "4    Art & Design;Creativity     June 20, 2018                 1.1   \n",
              "\n",
              "    Android Ver  \n",
              "0  4.0.3 and up  \n",
              "1  4.0.3 and up  \n",
              "2  4.0.3 and up  \n",
              "3    4.2 and up  \n",
              "4    4.4 and up  "
            ],
            "text/html": [
              "\n",
              "  <div id=\"df-e21e8aa5-7da9-48b4-a558-0b997f150199\">\n",
              "    <div class=\"colab-df-container\">\n",
              "      <div>\n",
              "<style scoped>\n",
              "    .dataframe tbody tr th:only-of-type {\n",
              "        vertical-align: middle;\n",
              "    }\n",
              "\n",
              "    .dataframe tbody tr th {\n",
              "        vertical-align: top;\n",
              "    }\n",
              "\n",
              "    .dataframe thead th {\n",
              "        text-align: right;\n",
              "    }\n",
              "</style>\n",
              "<table border=\"1\" class=\"dataframe\">\n",
              "  <thead>\n",
              "    <tr style=\"text-align: right;\">\n",
              "      <th></th>\n",
              "      <th>App</th>\n",
              "      <th>Category</th>\n",
              "      <th>Rating</th>\n",
              "      <th>Reviews</th>\n",
              "      <th>Size</th>\n",
              "      <th>Installs</th>\n",
              "      <th>Type</th>\n",
              "      <th>Price</th>\n",
              "      <th>Content Rating</th>\n",
              "      <th>Genres</th>\n",
              "      <th>Last Updated</th>\n",
              "      <th>Current Ver</th>\n",
              "      <th>Android Ver</th>\n",
              "    </tr>\n",
              "  </thead>\n",
              "  <tbody>\n",
              "    <tr>\n",
              "      <th>0</th>\n",
              "      <td>Photo Editor &amp; Candy Camera &amp; Grid &amp; ScrapBook</td>\n",
              "      <td>ART_AND_DESIGN</td>\n",
              "      <td>4.1</td>\n",
              "      <td>159</td>\n",
              "      <td>19M</td>\n",
              "      <td>10,000+</td>\n",
              "      <td>Free</td>\n",
              "      <td>0</td>\n",
              "      <td>Everyone</td>\n",
              "      <td>Art &amp; Design</td>\n",
              "      <td>January 7, 2018</td>\n",
              "      <td>1.0.0</td>\n",
              "      <td>4.0.3 and up</td>\n",
              "    </tr>\n",
              "    <tr>\n",
              "      <th>1</th>\n",
              "      <td>Coloring book moana</td>\n",
              "      <td>ART_AND_DESIGN</td>\n",
              "      <td>3.9</td>\n",
              "      <td>967</td>\n",
              "      <td>14M</td>\n",
              "      <td>500,000+</td>\n",
              "      <td>Free</td>\n",
              "      <td>0</td>\n",
              "      <td>Everyone</td>\n",
              "      <td>Art &amp; Design;Pretend Play</td>\n",
              "      <td>January 15, 2018</td>\n",
              "      <td>2.0.0</td>\n",
              "      <td>4.0.3 and up</td>\n",
              "    </tr>\n",
              "    <tr>\n",
              "      <th>2</th>\n",
              "      <td>U Launcher Lite – FREE Live Cool Themes, Hide ...</td>\n",
              "      <td>ART_AND_DESIGN</td>\n",
              "      <td>4.7</td>\n",
              "      <td>87510</td>\n",
              "      <td>8.7M</td>\n",
              "      <td>5,000,000+</td>\n",
              "      <td>Free</td>\n",
              "      <td>0</td>\n",
              "      <td>Everyone</td>\n",
              "      <td>Art &amp; Design</td>\n",
              "      <td>August 1, 2018</td>\n",
              "      <td>1.2.4</td>\n",
              "      <td>4.0.3 and up</td>\n",
              "    </tr>\n",
              "    <tr>\n",
              "      <th>3</th>\n",
              "      <td>Sketch - Draw &amp; Paint</td>\n",
              "      <td>ART_AND_DESIGN</td>\n",
              "      <td>4.5</td>\n",
              "      <td>215644</td>\n",
              "      <td>25M</td>\n",
              "      <td>50,000,000+</td>\n",
              "      <td>Free</td>\n",
              "      <td>0</td>\n",
              "      <td>Teen</td>\n",
              "      <td>Art &amp; Design</td>\n",
              "      <td>June 8, 2018</td>\n",
              "      <td>Varies with device</td>\n",
              "      <td>4.2 and up</td>\n",
              "    </tr>\n",
              "    <tr>\n",
              "      <th>4</th>\n",
              "      <td>Pixel Draw - Number Art Coloring Book</td>\n",
              "      <td>ART_AND_DESIGN</td>\n",
              "      <td>4.3</td>\n",
              "      <td>967</td>\n",
              "      <td>2.8M</td>\n",
              "      <td>100,000+</td>\n",
              "      <td>Free</td>\n",
              "      <td>0</td>\n",
              "      <td>Everyone</td>\n",
              "      <td>Art &amp; Design;Creativity</td>\n",
              "      <td>June 20, 2018</td>\n",
              "      <td>1.1</td>\n",
              "      <td>4.4 and up</td>\n",
              "    </tr>\n",
              "  </tbody>\n",
              "</table>\n",
              "</div>\n",
              "      <button class=\"colab-df-convert\" onclick=\"convertToInteractive('df-e21e8aa5-7da9-48b4-a558-0b997f150199')\"\n",
              "              title=\"Convert this dataframe to an interactive table.\"\n",
              "              style=\"display:none;\">\n",
              "        \n",
              "  <svg xmlns=\"http://www.w3.org/2000/svg\" height=\"24px\"viewBox=\"0 0 24 24\"\n",
              "       width=\"24px\">\n",
              "    <path d=\"M0 0h24v24H0V0z\" fill=\"none\"/>\n",
              "    <path d=\"M18.56 5.44l.94 2.06.94-2.06 2.06-.94-2.06-.94-.94-2.06-.94 2.06-2.06.94zm-11 1L8.5 8.5l.94-2.06 2.06-.94-2.06-.94L8.5 2.5l-.94 2.06-2.06.94zm10 10l.94 2.06.94-2.06 2.06-.94-2.06-.94-.94-2.06-.94 2.06-2.06.94z\"/><path d=\"M17.41 7.96l-1.37-1.37c-.4-.4-.92-.59-1.43-.59-.52 0-1.04.2-1.43.59L10.3 9.45l-7.72 7.72c-.78.78-.78 2.05 0 2.83L4 21.41c.39.39.9.59 1.41.59.51 0 1.02-.2 1.41-.59l7.78-7.78 2.81-2.81c.8-.78.8-2.07 0-2.86zM5.41 20L4 18.59l7.72-7.72 1.47 1.35L5.41 20z\"/>\n",
              "  </svg>\n",
              "      </button>\n",
              "      \n",
              "  <style>\n",
              "    .colab-df-container {\n",
              "      display:flex;\n",
              "      flex-wrap:wrap;\n",
              "      gap: 12px;\n",
              "    }\n",
              "\n",
              "    .colab-df-convert {\n",
              "      background-color: #E8F0FE;\n",
              "      border: none;\n",
              "      border-radius: 50%;\n",
              "      cursor: pointer;\n",
              "      display: none;\n",
              "      fill: #1967D2;\n",
              "      height: 32px;\n",
              "      padding: 0 0 0 0;\n",
              "      width: 32px;\n",
              "    }\n",
              "\n",
              "    .colab-df-convert:hover {\n",
              "      background-color: #E2EBFA;\n",
              "      box-shadow: 0px 1px 2px rgba(60, 64, 67, 0.3), 0px 1px 3px 1px rgba(60, 64, 67, 0.15);\n",
              "      fill: #174EA6;\n",
              "    }\n",
              "\n",
              "    [theme=dark] .colab-df-convert {\n",
              "      background-color: #3B4455;\n",
              "      fill: #D2E3FC;\n",
              "    }\n",
              "\n",
              "    [theme=dark] .colab-df-convert:hover {\n",
              "      background-color: #434B5C;\n",
              "      box-shadow: 0px 1px 3px 1px rgba(0, 0, 0, 0.15);\n",
              "      filter: drop-shadow(0px 1px 2px rgba(0, 0, 0, 0.3));\n",
              "      fill: #FFFFFF;\n",
              "    }\n",
              "  </style>\n",
              "\n",
              "      <script>\n",
              "        const buttonEl =\n",
              "          document.querySelector('#df-e21e8aa5-7da9-48b4-a558-0b997f150199 button.colab-df-convert');\n",
              "        buttonEl.style.display =\n",
              "          google.colab.kernel.accessAllowed ? 'block' : 'none';\n",
              "\n",
              "        async function convertToInteractive(key) {\n",
              "          const element = document.querySelector('#df-e21e8aa5-7da9-48b4-a558-0b997f150199');\n",
              "          const dataTable =\n",
              "            await google.colab.kernel.invokeFunction('convertToInteractive',\n",
              "                                                     [key], {});\n",
              "          if (!dataTable) return;\n",
              "\n",
              "          const docLinkHtml = 'Like what you see? Visit the ' +\n",
              "            '<a target=\"_blank\" href=https://colab.research.google.com/notebooks/data_table.ipynb>data table notebook</a>'\n",
              "            + ' to learn more about interactive tables.';\n",
              "          element.innerHTML = '';\n",
              "          dataTable['output_type'] = 'display_data';\n",
              "          await google.colab.output.renderOutput(dataTable, element);\n",
              "          const docLink = document.createElement('div');\n",
              "          docLink.innerHTML = docLinkHtml;\n",
              "          element.appendChild(docLink);\n",
              "        }\n",
              "      </script>\n",
              "    </div>\n",
              "  </div>\n",
              "  "
            ]
          },
          "metadata": {},
          "execution_count": 10
        }
      ]
    },
    {
      "cell_type": "code",
      "source": [
        "review_df.head()"
      ],
      "metadata": {
        "colab": {
          "base_uri": "https://localhost:8080/",
          "height": 206
        },
        "id": "lVY1hviGyHcW",
        "outputId": "fc1f7449-d3c7-403e-9f62-a29e42465b77"
      },
      "execution_count": null,
      "outputs": [
        {
          "output_type": "execute_result",
          "data": {
            "text/plain": [
              "                     App                                  Translated_Review  \\\n",
              "0  10 Best Foods for You  I like eat delicious food. That's I'm cooking ...   \n",
              "1  10 Best Foods for You    This help eating healthy exercise regular basis   \n",
              "2  10 Best Foods for You                                                NaN   \n",
              "3  10 Best Foods for You         Works great especially going grocery store   \n",
              "4  10 Best Foods for You                                       Best idea us   \n",
              "\n",
              "  Sentiment  Sentiment_Polarity  Sentiment_Subjectivity  \n",
              "0  Positive                1.00                0.533333  \n",
              "1  Positive                0.25                0.288462  \n",
              "2       NaN                 NaN                     NaN  \n",
              "3  Positive                0.40                0.875000  \n",
              "4  Positive                1.00                0.300000  "
            ],
            "text/html": [
              "\n",
              "  <div id=\"df-b0bd2ad5-89cb-447b-a7dd-4f045ce52e1a\">\n",
              "    <div class=\"colab-df-container\">\n",
              "      <div>\n",
              "<style scoped>\n",
              "    .dataframe tbody tr th:only-of-type {\n",
              "        vertical-align: middle;\n",
              "    }\n",
              "\n",
              "    .dataframe tbody tr th {\n",
              "        vertical-align: top;\n",
              "    }\n",
              "\n",
              "    .dataframe thead th {\n",
              "        text-align: right;\n",
              "    }\n",
              "</style>\n",
              "<table border=\"1\" class=\"dataframe\">\n",
              "  <thead>\n",
              "    <tr style=\"text-align: right;\">\n",
              "      <th></th>\n",
              "      <th>App</th>\n",
              "      <th>Translated_Review</th>\n",
              "      <th>Sentiment</th>\n",
              "      <th>Sentiment_Polarity</th>\n",
              "      <th>Sentiment_Subjectivity</th>\n",
              "    </tr>\n",
              "  </thead>\n",
              "  <tbody>\n",
              "    <tr>\n",
              "      <th>0</th>\n",
              "      <td>10 Best Foods for You</td>\n",
              "      <td>I like eat delicious food. That's I'm cooking ...</td>\n",
              "      <td>Positive</td>\n",
              "      <td>1.00</td>\n",
              "      <td>0.533333</td>\n",
              "    </tr>\n",
              "    <tr>\n",
              "      <th>1</th>\n",
              "      <td>10 Best Foods for You</td>\n",
              "      <td>This help eating healthy exercise regular basis</td>\n",
              "      <td>Positive</td>\n",
              "      <td>0.25</td>\n",
              "      <td>0.288462</td>\n",
              "    </tr>\n",
              "    <tr>\n",
              "      <th>2</th>\n",
              "      <td>10 Best Foods for You</td>\n",
              "      <td>NaN</td>\n",
              "      <td>NaN</td>\n",
              "      <td>NaN</td>\n",
              "      <td>NaN</td>\n",
              "    </tr>\n",
              "    <tr>\n",
              "      <th>3</th>\n",
              "      <td>10 Best Foods for You</td>\n",
              "      <td>Works great especially going grocery store</td>\n",
              "      <td>Positive</td>\n",
              "      <td>0.40</td>\n",
              "      <td>0.875000</td>\n",
              "    </tr>\n",
              "    <tr>\n",
              "      <th>4</th>\n",
              "      <td>10 Best Foods for You</td>\n",
              "      <td>Best idea us</td>\n",
              "      <td>Positive</td>\n",
              "      <td>1.00</td>\n",
              "      <td>0.300000</td>\n",
              "    </tr>\n",
              "  </tbody>\n",
              "</table>\n",
              "</div>\n",
              "      <button class=\"colab-df-convert\" onclick=\"convertToInteractive('df-b0bd2ad5-89cb-447b-a7dd-4f045ce52e1a')\"\n",
              "              title=\"Convert this dataframe to an interactive table.\"\n",
              "              style=\"display:none;\">\n",
              "        \n",
              "  <svg xmlns=\"http://www.w3.org/2000/svg\" height=\"24px\"viewBox=\"0 0 24 24\"\n",
              "       width=\"24px\">\n",
              "    <path d=\"M0 0h24v24H0V0z\" fill=\"none\"/>\n",
              "    <path d=\"M18.56 5.44l.94 2.06.94-2.06 2.06-.94-2.06-.94-.94-2.06-.94 2.06-2.06.94zm-11 1L8.5 8.5l.94-2.06 2.06-.94-2.06-.94L8.5 2.5l-.94 2.06-2.06.94zm10 10l.94 2.06.94-2.06 2.06-.94-2.06-.94-.94-2.06-.94 2.06-2.06.94z\"/><path d=\"M17.41 7.96l-1.37-1.37c-.4-.4-.92-.59-1.43-.59-.52 0-1.04.2-1.43.59L10.3 9.45l-7.72 7.72c-.78.78-.78 2.05 0 2.83L4 21.41c.39.39.9.59 1.41.59.51 0 1.02-.2 1.41-.59l7.78-7.78 2.81-2.81c.8-.78.8-2.07 0-2.86zM5.41 20L4 18.59l7.72-7.72 1.47 1.35L5.41 20z\"/>\n",
              "  </svg>\n",
              "      </button>\n",
              "      \n",
              "  <style>\n",
              "    .colab-df-container {\n",
              "      display:flex;\n",
              "      flex-wrap:wrap;\n",
              "      gap: 12px;\n",
              "    }\n",
              "\n",
              "    .colab-df-convert {\n",
              "      background-color: #E8F0FE;\n",
              "      border: none;\n",
              "      border-radius: 50%;\n",
              "      cursor: pointer;\n",
              "      display: none;\n",
              "      fill: #1967D2;\n",
              "      height: 32px;\n",
              "      padding: 0 0 0 0;\n",
              "      width: 32px;\n",
              "    }\n",
              "\n",
              "    .colab-df-convert:hover {\n",
              "      background-color: #E2EBFA;\n",
              "      box-shadow: 0px 1px 2px rgba(60, 64, 67, 0.3), 0px 1px 3px 1px rgba(60, 64, 67, 0.15);\n",
              "      fill: #174EA6;\n",
              "    }\n",
              "\n",
              "    [theme=dark] .colab-df-convert {\n",
              "      background-color: #3B4455;\n",
              "      fill: #D2E3FC;\n",
              "    }\n",
              "\n",
              "    [theme=dark] .colab-df-convert:hover {\n",
              "      background-color: #434B5C;\n",
              "      box-shadow: 0px 1px 3px 1px rgba(0, 0, 0, 0.15);\n",
              "      filter: drop-shadow(0px 1px 2px rgba(0, 0, 0, 0.3));\n",
              "      fill: #FFFFFF;\n",
              "    }\n",
              "  </style>\n",
              "\n",
              "      <script>\n",
              "        const buttonEl =\n",
              "          document.querySelector('#df-b0bd2ad5-89cb-447b-a7dd-4f045ce52e1a button.colab-df-convert');\n",
              "        buttonEl.style.display =\n",
              "          google.colab.kernel.accessAllowed ? 'block' : 'none';\n",
              "\n",
              "        async function convertToInteractive(key) {\n",
              "          const element = document.querySelector('#df-b0bd2ad5-89cb-447b-a7dd-4f045ce52e1a');\n",
              "          const dataTable =\n",
              "            await google.colab.kernel.invokeFunction('convertToInteractive',\n",
              "                                                     [key], {});\n",
              "          if (!dataTable) return;\n",
              "\n",
              "          const docLinkHtml = 'Like what you see? Visit the ' +\n",
              "            '<a target=\"_blank\" href=https://colab.research.google.com/notebooks/data_table.ipynb>data table notebook</a>'\n",
              "            + ' to learn more about interactive tables.';\n",
              "          element.innerHTML = '';\n",
              "          dataTable['output_type'] = 'display_data';\n",
              "          await google.colab.output.renderOutput(dataTable, element);\n",
              "          const docLink = document.createElement('div');\n",
              "          docLink.innerHTML = docLinkHtml;\n",
              "          element.appendChild(docLink);\n",
              "        }\n",
              "      </script>\n",
              "    </div>\n",
              "  </div>\n",
              "  "
            ]
          },
          "metadata": {},
          "execution_count": 11
        }
      ]
    },
    {
      "cell_type": "markdown",
      "source": [
        "# To proceed we have to first clean our data which we will do by analysing the unique data corresponding to each column and removing the unwanted data\n",
        "\n",
        "- First check the list of columns and their types using info method and isnull method for Playstore Apps data "
      ],
      "metadata": {
        "id": "cc23Vf9wyqG0"
      }
    },
    {
      "cell_type": "code",
      "source": [
        "# Inspecting the dtypes of all the columns \n",
        "playstore_df.info()"
      ],
      "metadata": {
        "id": "vjT9jvxLynMk",
        "colab": {
          "base_uri": "https://localhost:8080/"
        },
        "outputId": "ea164e68-c693-478d-bf60-2ec06d965407"
      },
      "execution_count": null,
      "outputs": [
        {
          "output_type": "stream",
          "name": "stdout",
          "text": [
            "<class 'pandas.core.frame.DataFrame'>\n",
            "RangeIndex: 10841 entries, 0 to 10840\n",
            "Data columns (total 13 columns):\n",
            " #   Column          Non-Null Count  Dtype  \n",
            "---  ------          --------------  -----  \n",
            " 0   App             10841 non-null  object \n",
            " 1   Category        10841 non-null  object \n",
            " 2   Rating          9367 non-null   float64\n",
            " 3   Reviews         10841 non-null  object \n",
            " 4   Size            10841 non-null  object \n",
            " 5   Installs        10841 non-null  object \n",
            " 6   Type            10840 non-null  object \n",
            " 7   Price           10841 non-null  object \n",
            " 8   Content Rating  10840 non-null  object \n",
            " 9   Genres          10841 non-null  object \n",
            " 10  Last Updated    10841 non-null  object \n",
            " 11  Current Ver     10833 non-null  object \n",
            " 12  Android Ver     10838 non-null  object \n",
            "dtypes: float64(1), object(12)\n",
            "memory usage: 1.1+ MB\n"
          ]
        }
      ]
    },
    {
      "cell_type": "code",
      "source": [
        "#Inspecting the null value present in all the columns \n",
        "playstore_df.isnull().sum()"
      ],
      "metadata": {
        "id": "lzIli_jEzYfy",
        "colab": {
          "base_uri": "https://localhost:8080/"
        },
        "outputId": "f726fd8c-dd11-41b2-8da2-8266389c6a8b"
      },
      "execution_count": null,
      "outputs": [
        {
          "output_type": "execute_result",
          "data": {
            "text/plain": [
              "App                  0\n",
              "Category             0\n",
              "Rating            1474\n",
              "Reviews              0\n",
              "Size                 0\n",
              "Installs             0\n",
              "Type                 1\n",
              "Price                0\n",
              "Content Rating       1\n",
              "Genres               0\n",
              "Last Updated         0\n",
              "Current Ver          8\n",
              "Android Ver          3\n",
              "dtype: int64"
            ]
          },
          "metadata": {},
          "execution_count": 13
        }
      ]
    },
    {
      "cell_type": "markdown",
      "source": [
        "- As we can see that the column name [Type, Content Rating, current Ver, Android Ver] have very few null values so first we will get rid of them. \n",
        "\n",
        "# Lets clean our first column 'Type'"
      ],
      "metadata": {
        "id": "k5AuJjCrzueF"
      }
    },
    {
      "cell_type": "code",
      "source": [
        "playstore_df['Type'].unique()"
      ],
      "metadata": {
        "colab": {
          "base_uri": "https://localhost:8080/"
        },
        "id": "zzL7Muj3zldb",
        "outputId": "fd24b734-b299-4302-fcb4-582c9374ee86"
      },
      "execution_count": null,
      "outputs": [
        {
          "output_type": "execute_result",
          "data": {
            "text/plain": [
              "array(['Free', 'Paid', nan, '0'], dtype=object)"
            ]
          },
          "metadata": {},
          "execution_count": 14
        }
      ]
    },
    {
      "cell_type": "markdown",
      "source": [
        "- As we can see that there is a unwanted value '0' so we will check how many rows has that value and then we will get rid of it "
      ],
      "metadata": {
        "id": "7FGBcUgo0Unl"
      }
    },
    {
      "cell_type": "code",
      "source": [
        "playstore_df[playstore_df['Type']== '0']"
      ],
      "metadata": {
        "id": "xFk08EFG0TEW",
        "colab": {
          "base_uri": "https://localhost:8080/",
          "height": 81
        },
        "outputId": "08a6442e-9400-4db8-cc1c-875697c7d18a"
      },
      "execution_count": null,
      "outputs": [
        {
          "output_type": "execute_result",
          "data": {
            "text/plain": [
              "                                           App Category  Rating Reviews  \\\n",
              "10472  Life Made WI-Fi Touchscreen Photo Frame      1.9    19.0    3.0M   \n",
              "\n",
              "         Size Installs Type     Price Content Rating             Genres  \\\n",
              "10472  1,000+     Free    0  Everyone            NaN  February 11, 2018   \n",
              "\n",
              "      Last Updated Current Ver Android Ver  \n",
              "10472       1.0.19  4.0 and up         NaN  "
            ],
            "text/html": [
              "\n",
              "  <div id=\"df-a9b67877-aa56-42ba-9af3-b2f9519dbd29\">\n",
              "    <div class=\"colab-df-container\">\n",
              "      <div>\n",
              "<style scoped>\n",
              "    .dataframe tbody tr th:only-of-type {\n",
              "        vertical-align: middle;\n",
              "    }\n",
              "\n",
              "    .dataframe tbody tr th {\n",
              "        vertical-align: top;\n",
              "    }\n",
              "\n",
              "    .dataframe thead th {\n",
              "        text-align: right;\n",
              "    }\n",
              "</style>\n",
              "<table border=\"1\" class=\"dataframe\">\n",
              "  <thead>\n",
              "    <tr style=\"text-align: right;\">\n",
              "      <th></th>\n",
              "      <th>App</th>\n",
              "      <th>Category</th>\n",
              "      <th>Rating</th>\n",
              "      <th>Reviews</th>\n",
              "      <th>Size</th>\n",
              "      <th>Installs</th>\n",
              "      <th>Type</th>\n",
              "      <th>Price</th>\n",
              "      <th>Content Rating</th>\n",
              "      <th>Genres</th>\n",
              "      <th>Last Updated</th>\n",
              "      <th>Current Ver</th>\n",
              "      <th>Android Ver</th>\n",
              "    </tr>\n",
              "  </thead>\n",
              "  <tbody>\n",
              "    <tr>\n",
              "      <th>10472</th>\n",
              "      <td>Life Made WI-Fi Touchscreen Photo Frame</td>\n",
              "      <td>1.9</td>\n",
              "      <td>19.0</td>\n",
              "      <td>3.0M</td>\n",
              "      <td>1,000+</td>\n",
              "      <td>Free</td>\n",
              "      <td>0</td>\n",
              "      <td>Everyone</td>\n",
              "      <td>NaN</td>\n",
              "      <td>February 11, 2018</td>\n",
              "      <td>1.0.19</td>\n",
              "      <td>4.0 and up</td>\n",
              "      <td>NaN</td>\n",
              "    </tr>\n",
              "  </tbody>\n",
              "</table>\n",
              "</div>\n",
              "      <button class=\"colab-df-convert\" onclick=\"convertToInteractive('df-a9b67877-aa56-42ba-9af3-b2f9519dbd29')\"\n",
              "              title=\"Convert this dataframe to an interactive table.\"\n",
              "              style=\"display:none;\">\n",
              "        \n",
              "  <svg xmlns=\"http://www.w3.org/2000/svg\" height=\"24px\"viewBox=\"0 0 24 24\"\n",
              "       width=\"24px\">\n",
              "    <path d=\"M0 0h24v24H0V0z\" fill=\"none\"/>\n",
              "    <path d=\"M18.56 5.44l.94 2.06.94-2.06 2.06-.94-2.06-.94-.94-2.06-.94 2.06-2.06.94zm-11 1L8.5 8.5l.94-2.06 2.06-.94-2.06-.94L8.5 2.5l-.94 2.06-2.06.94zm10 10l.94 2.06.94-2.06 2.06-.94-2.06-.94-.94-2.06-.94 2.06-2.06.94z\"/><path d=\"M17.41 7.96l-1.37-1.37c-.4-.4-.92-.59-1.43-.59-.52 0-1.04.2-1.43.59L10.3 9.45l-7.72 7.72c-.78.78-.78 2.05 0 2.83L4 21.41c.39.39.9.59 1.41.59.51 0 1.02-.2 1.41-.59l7.78-7.78 2.81-2.81c.8-.78.8-2.07 0-2.86zM5.41 20L4 18.59l7.72-7.72 1.47 1.35L5.41 20z\"/>\n",
              "  </svg>\n",
              "      </button>\n",
              "      \n",
              "  <style>\n",
              "    .colab-df-container {\n",
              "      display:flex;\n",
              "      flex-wrap:wrap;\n",
              "      gap: 12px;\n",
              "    }\n",
              "\n",
              "    .colab-df-convert {\n",
              "      background-color: #E8F0FE;\n",
              "      border: none;\n",
              "      border-radius: 50%;\n",
              "      cursor: pointer;\n",
              "      display: none;\n",
              "      fill: #1967D2;\n",
              "      height: 32px;\n",
              "      padding: 0 0 0 0;\n",
              "      width: 32px;\n",
              "    }\n",
              "\n",
              "    .colab-df-convert:hover {\n",
              "      background-color: #E2EBFA;\n",
              "      box-shadow: 0px 1px 2px rgba(60, 64, 67, 0.3), 0px 1px 3px 1px rgba(60, 64, 67, 0.15);\n",
              "      fill: #174EA6;\n",
              "    }\n",
              "\n",
              "    [theme=dark] .colab-df-convert {\n",
              "      background-color: #3B4455;\n",
              "      fill: #D2E3FC;\n",
              "    }\n",
              "\n",
              "    [theme=dark] .colab-df-convert:hover {\n",
              "      background-color: #434B5C;\n",
              "      box-shadow: 0px 1px 3px 1px rgba(0, 0, 0, 0.15);\n",
              "      filter: drop-shadow(0px 1px 2px rgba(0, 0, 0, 0.3));\n",
              "      fill: #FFFFFF;\n",
              "    }\n",
              "  </style>\n",
              "\n",
              "      <script>\n",
              "        const buttonEl =\n",
              "          document.querySelector('#df-a9b67877-aa56-42ba-9af3-b2f9519dbd29 button.colab-df-convert');\n",
              "        buttonEl.style.display =\n",
              "          google.colab.kernel.accessAllowed ? 'block' : 'none';\n",
              "\n",
              "        async function convertToInteractive(key) {\n",
              "          const element = document.querySelector('#df-a9b67877-aa56-42ba-9af3-b2f9519dbd29');\n",
              "          const dataTable =\n",
              "            await google.colab.kernel.invokeFunction('convertToInteractive',\n",
              "                                                     [key], {});\n",
              "          if (!dataTable) return;\n",
              "\n",
              "          const docLinkHtml = 'Like what you see? Visit the ' +\n",
              "            '<a target=\"_blank\" href=https://colab.research.google.com/notebooks/data_table.ipynb>data table notebook</a>'\n",
              "            + ' to learn more about interactive tables.';\n",
              "          element.innerHTML = '';\n",
              "          dataTable['output_type'] = 'display_data';\n",
              "          await google.colab.output.renderOutput(dataTable, element);\n",
              "          const docLink = document.createElement('div');\n",
              "          docLink.innerHTML = docLinkHtml;\n",
              "          element.appendChild(docLink);\n",
              "        }\n",
              "      </script>\n",
              "    </div>\n",
              "  </div>\n",
              "  "
            ]
          },
          "metadata": {},
          "execution_count": 15
        }
      ]
    },
    {
      "cell_type": "markdown",
      "source": [
        "- Though we can see at row index 10472, the type is '0' but when we analyse the data we found that from column 'Category' the data is wrongly put and the data should shift one column.\n",
        "- So lets do the shifting of data "
      ],
      "metadata": {
        "id": "bqPikc9K0sR_"
      }
    },
    {
      "cell_type": "code",
      "source": [
        "playstore_df.iloc[10472, 2:] = playstore_df.iloc[10472, 1: 12]"
      ],
      "metadata": {
        "id": "7skBLBJW0PmK"
      },
      "execution_count": null,
      "outputs": []
    },
    {
      "cell_type": "code",
      "source": [
        "playstore_df.iloc[10472]"
      ],
      "metadata": {
        "id": "pQJeSH_H1Pmn",
        "colab": {
          "base_uri": "https://localhost:8080/"
        },
        "outputId": "9cd0f366-88ed-423a-fada-dfa1d72c38d9"
      },
      "execution_count": null,
      "outputs": [
        {
          "output_type": "execute_result",
          "data": {
            "text/plain": [
              "App               Life Made WI-Fi Touchscreen Photo Frame\n",
              "Category                                              1.9\n",
              "Rating                                                1.9\n",
              "Reviews                                              19.0\n",
              "Size                                                 3.0M\n",
              "Installs                                           1,000+\n",
              "Type                                                 Free\n",
              "Price                                                   0\n",
              "Content Rating                                   Everyone\n",
              "Genres                                                NaN\n",
              "Last Updated                            February 11, 2018\n",
              "Current Ver                                        1.0.19\n",
              "Android Ver                                    4.0 and up\n",
              "Name: 10472, dtype: object"
            ]
          },
          "metadata": {},
          "execution_count": 17
        }
      ]
    },
    {
      "cell_type": "markdown",
      "source": [
        "- But we can see the value is column Category corresponding to row index 10472 is a missmatch, so we will exchange it with NaN "
      ],
      "metadata": {
        "id": "J4H5qQEB-9vc"
      }
    },
    {
      "cell_type": "code",
      "source": [
        "playstore_df['Category'].iloc[10472] = np.nan"
      ],
      "metadata": {
        "id": "2dkVmaWl_M12"
      },
      "execution_count": null,
      "outputs": []
    },
    {
      "cell_type": "code",
      "source": [
        "playstore_df['Type'].unique()"
      ],
      "metadata": {
        "id": "MK61FFge1TRt",
        "colab": {
          "base_uri": "https://localhost:8080/"
        },
        "outputId": "60deb3d1-7b5d-4a69-fa4c-88c6e846e99e"
      },
      "execution_count": null,
      "outputs": [
        {
          "output_type": "execute_result",
          "data": {
            "text/plain": [
              "array(['Free', 'Paid', nan], dtype=object)"
            ]
          },
          "metadata": {},
          "execution_count": 19
        }
      ]
    },
    {
      "cell_type": "markdown",
      "source": [
        "- Now we will get rid of the Nan by exchanging with the most common value"
      ],
      "metadata": {
        "id": "eHvXr_pa5jKH"
      }
    },
    {
      "cell_type": "code",
      "source": [
        "playstore_df.groupby('Type').count()"
      ],
      "metadata": {
        "id": "QyDuAVnc4_qN",
        "colab": {
          "base_uri": "https://localhost:8080/",
          "height": 143
        },
        "outputId": "1f513066-6deb-4026-e43a-87982f2261bb"
      },
      "execution_count": null,
      "outputs": [
        {
          "output_type": "execute_result",
          "data": {
            "text/plain": [
              "        App  Category  Rating  Reviews   Size  Installs  Price  \\\n",
              "Type                                                             \n",
              "Free  10040     10039    8720    10040  10040     10040  10040   \n",
              "Paid    800       800     647      800    800       800    800   \n",
              "\n",
              "      Content Rating  Genres  Last Updated  Current Ver  Android Ver  \n",
              "Type                                                                  \n",
              "Free           10040   10039         10040        10034        10039  \n",
              "Paid             800     800           800          798          799  "
            ],
            "text/html": [
              "\n",
              "  <div id=\"df-bbf48d70-24a8-466b-9ee3-a066dee25b70\">\n",
              "    <div class=\"colab-df-container\">\n",
              "      <div>\n",
              "<style scoped>\n",
              "    .dataframe tbody tr th:only-of-type {\n",
              "        vertical-align: middle;\n",
              "    }\n",
              "\n",
              "    .dataframe tbody tr th {\n",
              "        vertical-align: top;\n",
              "    }\n",
              "\n",
              "    .dataframe thead th {\n",
              "        text-align: right;\n",
              "    }\n",
              "</style>\n",
              "<table border=\"1\" class=\"dataframe\">\n",
              "  <thead>\n",
              "    <tr style=\"text-align: right;\">\n",
              "      <th></th>\n",
              "      <th>App</th>\n",
              "      <th>Category</th>\n",
              "      <th>Rating</th>\n",
              "      <th>Reviews</th>\n",
              "      <th>Size</th>\n",
              "      <th>Installs</th>\n",
              "      <th>Price</th>\n",
              "      <th>Content Rating</th>\n",
              "      <th>Genres</th>\n",
              "      <th>Last Updated</th>\n",
              "      <th>Current Ver</th>\n",
              "      <th>Android Ver</th>\n",
              "    </tr>\n",
              "    <tr>\n",
              "      <th>Type</th>\n",
              "      <th></th>\n",
              "      <th></th>\n",
              "      <th></th>\n",
              "      <th></th>\n",
              "      <th></th>\n",
              "      <th></th>\n",
              "      <th></th>\n",
              "      <th></th>\n",
              "      <th></th>\n",
              "      <th></th>\n",
              "      <th></th>\n",
              "      <th></th>\n",
              "    </tr>\n",
              "  </thead>\n",
              "  <tbody>\n",
              "    <tr>\n",
              "      <th>Free</th>\n",
              "      <td>10040</td>\n",
              "      <td>10039</td>\n",
              "      <td>8720</td>\n",
              "      <td>10040</td>\n",
              "      <td>10040</td>\n",
              "      <td>10040</td>\n",
              "      <td>10040</td>\n",
              "      <td>10040</td>\n",
              "      <td>10039</td>\n",
              "      <td>10040</td>\n",
              "      <td>10034</td>\n",
              "      <td>10039</td>\n",
              "    </tr>\n",
              "    <tr>\n",
              "      <th>Paid</th>\n",
              "      <td>800</td>\n",
              "      <td>800</td>\n",
              "      <td>647</td>\n",
              "      <td>800</td>\n",
              "      <td>800</td>\n",
              "      <td>800</td>\n",
              "      <td>800</td>\n",
              "      <td>800</td>\n",
              "      <td>800</td>\n",
              "      <td>800</td>\n",
              "      <td>798</td>\n",
              "      <td>799</td>\n",
              "    </tr>\n",
              "  </tbody>\n",
              "</table>\n",
              "</div>\n",
              "      <button class=\"colab-df-convert\" onclick=\"convertToInteractive('df-bbf48d70-24a8-466b-9ee3-a066dee25b70')\"\n",
              "              title=\"Convert this dataframe to an interactive table.\"\n",
              "              style=\"display:none;\">\n",
              "        \n",
              "  <svg xmlns=\"http://www.w3.org/2000/svg\" height=\"24px\"viewBox=\"0 0 24 24\"\n",
              "       width=\"24px\">\n",
              "    <path d=\"M0 0h24v24H0V0z\" fill=\"none\"/>\n",
              "    <path d=\"M18.56 5.44l.94 2.06.94-2.06 2.06-.94-2.06-.94-.94-2.06-.94 2.06-2.06.94zm-11 1L8.5 8.5l.94-2.06 2.06-.94-2.06-.94L8.5 2.5l-.94 2.06-2.06.94zm10 10l.94 2.06.94-2.06 2.06-.94-2.06-.94-.94-2.06-.94 2.06-2.06.94z\"/><path d=\"M17.41 7.96l-1.37-1.37c-.4-.4-.92-.59-1.43-.59-.52 0-1.04.2-1.43.59L10.3 9.45l-7.72 7.72c-.78.78-.78 2.05 0 2.83L4 21.41c.39.39.9.59 1.41.59.51 0 1.02-.2 1.41-.59l7.78-7.78 2.81-2.81c.8-.78.8-2.07 0-2.86zM5.41 20L4 18.59l7.72-7.72 1.47 1.35L5.41 20z\"/>\n",
              "  </svg>\n",
              "      </button>\n",
              "      \n",
              "  <style>\n",
              "    .colab-df-container {\n",
              "      display:flex;\n",
              "      flex-wrap:wrap;\n",
              "      gap: 12px;\n",
              "    }\n",
              "\n",
              "    .colab-df-convert {\n",
              "      background-color: #E8F0FE;\n",
              "      border: none;\n",
              "      border-radius: 50%;\n",
              "      cursor: pointer;\n",
              "      display: none;\n",
              "      fill: #1967D2;\n",
              "      height: 32px;\n",
              "      padding: 0 0 0 0;\n",
              "      width: 32px;\n",
              "    }\n",
              "\n",
              "    .colab-df-convert:hover {\n",
              "      background-color: #E2EBFA;\n",
              "      box-shadow: 0px 1px 2px rgba(60, 64, 67, 0.3), 0px 1px 3px 1px rgba(60, 64, 67, 0.15);\n",
              "      fill: #174EA6;\n",
              "    }\n",
              "\n",
              "    [theme=dark] .colab-df-convert {\n",
              "      background-color: #3B4455;\n",
              "      fill: #D2E3FC;\n",
              "    }\n",
              "\n",
              "    [theme=dark] .colab-df-convert:hover {\n",
              "      background-color: #434B5C;\n",
              "      box-shadow: 0px 1px 3px 1px rgba(0, 0, 0, 0.15);\n",
              "      filter: drop-shadow(0px 1px 2px rgba(0, 0, 0, 0.3));\n",
              "      fill: #FFFFFF;\n",
              "    }\n",
              "  </style>\n",
              "\n",
              "      <script>\n",
              "        const buttonEl =\n",
              "          document.querySelector('#df-bbf48d70-24a8-466b-9ee3-a066dee25b70 button.colab-df-convert');\n",
              "        buttonEl.style.display =\n",
              "          google.colab.kernel.accessAllowed ? 'block' : 'none';\n",
              "\n",
              "        async function convertToInteractive(key) {\n",
              "          const element = document.querySelector('#df-bbf48d70-24a8-466b-9ee3-a066dee25b70');\n",
              "          const dataTable =\n",
              "            await google.colab.kernel.invokeFunction('convertToInteractive',\n",
              "                                                     [key], {});\n",
              "          if (!dataTable) return;\n",
              "\n",
              "          const docLinkHtml = 'Like what you see? Visit the ' +\n",
              "            '<a target=\"_blank\" href=https://colab.research.google.com/notebooks/data_table.ipynb>data table notebook</a>'\n",
              "            + ' to learn more about interactive tables.';\n",
              "          element.innerHTML = '';\n",
              "          dataTable['output_type'] = 'display_data';\n",
              "          await google.colab.output.renderOutput(dataTable, element);\n",
              "          const docLink = document.createElement('div');\n",
              "          docLink.innerHTML = docLinkHtml;\n",
              "          element.appendChild(docLink);\n",
              "        }\n",
              "      </script>\n",
              "    </div>\n",
              "  </div>\n",
              "  "
            ]
          },
          "metadata": {},
          "execution_count": 20
        }
      ]
    },
    {
      "cell_type": "markdown",
      "source": [
        "- As we can see that the number of Free values is very high, so we will convert the Nan with free "
      ],
      "metadata": {
        "id": "OxdARjLy6NY0"
      }
    },
    {
      "cell_type": "code",
      "source": [
        "playstore_df['Type'].fillna('Free', inplace = True)"
      ],
      "metadata": {
        "id": "CeBSTm1h5_CO"
      },
      "execution_count": null,
      "outputs": []
    },
    {
      "cell_type": "code",
      "source": [
        "playstore_df['Type'].unique()"
      ],
      "metadata": {
        "id": "BXO1bm006iQF",
        "colab": {
          "base_uri": "https://localhost:8080/"
        },
        "outputId": "6e9288dd-ef2f-479b-86f9-dfc89911027b"
      },
      "execution_count": null,
      "outputs": [
        {
          "output_type": "execute_result",
          "data": {
            "text/plain": [
              "array(['Free', 'Paid'], dtype=object)"
            ]
          },
          "metadata": {},
          "execution_count": 22
        }
      ]
    },
    {
      "cell_type": "markdown",
      "source": [
        "# Now we repeat the above process on next column, 'Content Rating' "
      ],
      "metadata": {
        "id": "Vkghtan06wna"
      }
    },
    {
      "cell_type": "code",
      "source": [
        "playstore_df['Content Rating'].unique()"
      ],
      "metadata": {
        "id": "Nv5DUlWt6olO",
        "colab": {
          "base_uri": "https://localhost:8080/"
        },
        "outputId": "a9f26652-7a4a-469d-90d6-b179ed71aae2"
      },
      "execution_count": null,
      "outputs": [
        {
          "output_type": "execute_result",
          "data": {
            "text/plain": [
              "array(['Everyone', 'Teen', 'Everyone 10+', 'Mature 17+',\n",
              "       'Adults only 18+', 'Unrated'], dtype=object)"
            ]
          },
          "metadata": {},
          "execution_count": 23
        }
      ]
    },
    {
      "cell_type": "code",
      "source": [
        "playstore_df.isnull().sum()"
      ],
      "metadata": {
        "id": "43Jqgz2K7luu",
        "colab": {
          "base_uri": "https://localhost:8080/"
        },
        "outputId": "dd136459-1f8c-4fe1-b415-784776a69745"
      },
      "execution_count": null,
      "outputs": [
        {
          "output_type": "execute_result",
          "data": {
            "text/plain": [
              "App                  0\n",
              "Category             1\n",
              "Rating            1474\n",
              "Reviews              0\n",
              "Size                 0\n",
              "Installs             0\n",
              "Type                 0\n",
              "Price                0\n",
              "Content Rating       0\n",
              "Genres               1\n",
              "Last Updated         0\n",
              "Current Ver          8\n",
              "Android Ver          2\n",
              "dtype: int64"
            ]
          },
          "metadata": {},
          "execution_count": 24
        }
      ]
    },
    {
      "cell_type": "markdown",
      "source": [
        "# So we can observe that due to our previous steps, the Null value in Content Rating is also corrected\n",
        "\n",
        "# Now we will check the next column Genres"
      ],
      "metadata": {
        "id": "uyl2TS-b89aX"
      }
    },
    {
      "cell_type": "code",
      "source": [
        "playstore_df[playstore_df['Genres']== np.nan]"
      ],
      "metadata": {
        "colab": {
          "base_uri": "https://localhost:8080/",
          "height": 49
        },
        "id": "pC7sje7g733-",
        "outputId": "dd157d60-efcf-4b84-ab33-6589fbba3ed4"
      },
      "execution_count": null,
      "outputs": [
        {
          "output_type": "execute_result",
          "data": {
            "text/plain": [
              "Empty DataFrame\n",
              "Columns: [App, Category, Rating, Reviews, Size, Installs, Type, Price, Content Rating, Genres, Last Updated, Current Ver, Android Ver]\n",
              "Index: []"
            ],
            "text/html": [
              "\n",
              "  <div id=\"df-392971e2-9e71-4a55-b60c-2ebd1c4312d5\">\n",
              "    <div class=\"colab-df-container\">\n",
              "      <div>\n",
              "<style scoped>\n",
              "    .dataframe tbody tr th:only-of-type {\n",
              "        vertical-align: middle;\n",
              "    }\n",
              "\n",
              "    .dataframe tbody tr th {\n",
              "        vertical-align: top;\n",
              "    }\n",
              "\n",
              "    .dataframe thead th {\n",
              "        text-align: right;\n",
              "    }\n",
              "</style>\n",
              "<table border=\"1\" class=\"dataframe\">\n",
              "  <thead>\n",
              "    <tr style=\"text-align: right;\">\n",
              "      <th></th>\n",
              "      <th>App</th>\n",
              "      <th>Category</th>\n",
              "      <th>Rating</th>\n",
              "      <th>Reviews</th>\n",
              "      <th>Size</th>\n",
              "      <th>Installs</th>\n",
              "      <th>Type</th>\n",
              "      <th>Price</th>\n",
              "      <th>Content Rating</th>\n",
              "      <th>Genres</th>\n",
              "      <th>Last Updated</th>\n",
              "      <th>Current Ver</th>\n",
              "      <th>Android Ver</th>\n",
              "    </tr>\n",
              "  </thead>\n",
              "  <tbody>\n",
              "  </tbody>\n",
              "</table>\n",
              "</div>\n",
              "      <button class=\"colab-df-convert\" onclick=\"convertToInteractive('df-392971e2-9e71-4a55-b60c-2ebd1c4312d5')\"\n",
              "              title=\"Convert this dataframe to an interactive table.\"\n",
              "              style=\"display:none;\">\n",
              "        \n",
              "  <svg xmlns=\"http://www.w3.org/2000/svg\" height=\"24px\"viewBox=\"0 0 24 24\"\n",
              "       width=\"24px\">\n",
              "    <path d=\"M0 0h24v24H0V0z\" fill=\"none\"/>\n",
              "    <path d=\"M18.56 5.44l.94 2.06.94-2.06 2.06-.94-2.06-.94-.94-2.06-.94 2.06-2.06.94zm-11 1L8.5 8.5l.94-2.06 2.06-.94-2.06-.94L8.5 2.5l-.94 2.06-2.06.94zm10 10l.94 2.06.94-2.06 2.06-.94-2.06-.94-.94-2.06-.94 2.06-2.06.94z\"/><path d=\"M17.41 7.96l-1.37-1.37c-.4-.4-.92-.59-1.43-.59-.52 0-1.04.2-1.43.59L10.3 9.45l-7.72 7.72c-.78.78-.78 2.05 0 2.83L4 21.41c.39.39.9.59 1.41.59.51 0 1.02-.2 1.41-.59l7.78-7.78 2.81-2.81c.8-.78.8-2.07 0-2.86zM5.41 20L4 18.59l7.72-7.72 1.47 1.35L5.41 20z\"/>\n",
              "  </svg>\n",
              "      </button>\n",
              "      \n",
              "  <style>\n",
              "    .colab-df-container {\n",
              "      display:flex;\n",
              "      flex-wrap:wrap;\n",
              "      gap: 12px;\n",
              "    }\n",
              "\n",
              "    .colab-df-convert {\n",
              "      background-color: #E8F0FE;\n",
              "      border: none;\n",
              "      border-radius: 50%;\n",
              "      cursor: pointer;\n",
              "      display: none;\n",
              "      fill: #1967D2;\n",
              "      height: 32px;\n",
              "      padding: 0 0 0 0;\n",
              "      width: 32px;\n",
              "    }\n",
              "\n",
              "    .colab-df-convert:hover {\n",
              "      background-color: #E2EBFA;\n",
              "      box-shadow: 0px 1px 2px rgba(60, 64, 67, 0.3), 0px 1px 3px 1px rgba(60, 64, 67, 0.15);\n",
              "      fill: #174EA6;\n",
              "    }\n",
              "\n",
              "    [theme=dark] .colab-df-convert {\n",
              "      background-color: #3B4455;\n",
              "      fill: #D2E3FC;\n",
              "    }\n",
              "\n",
              "    [theme=dark] .colab-df-convert:hover {\n",
              "      background-color: #434B5C;\n",
              "      box-shadow: 0px 1px 3px 1px rgba(0, 0, 0, 0.15);\n",
              "      filter: drop-shadow(0px 1px 2px rgba(0, 0, 0, 0.3));\n",
              "      fill: #FFFFFF;\n",
              "    }\n",
              "  </style>\n",
              "\n",
              "      <script>\n",
              "        const buttonEl =\n",
              "          document.querySelector('#df-392971e2-9e71-4a55-b60c-2ebd1c4312d5 button.colab-df-convert');\n",
              "        buttonEl.style.display =\n",
              "          google.colab.kernel.accessAllowed ? 'block' : 'none';\n",
              "\n",
              "        async function convertToInteractive(key) {\n",
              "          const element = document.querySelector('#df-392971e2-9e71-4a55-b60c-2ebd1c4312d5');\n",
              "          const dataTable =\n",
              "            await google.colab.kernel.invokeFunction('convertToInteractive',\n",
              "                                                     [key], {});\n",
              "          if (!dataTable) return;\n",
              "\n",
              "          const docLinkHtml = 'Like what you see? Visit the ' +\n",
              "            '<a target=\"_blank\" href=https://colab.research.google.com/notebooks/data_table.ipynb>data table notebook</a>'\n",
              "            + ' to learn more about interactive tables.';\n",
              "          element.innerHTML = '';\n",
              "          dataTable['output_type'] = 'display_data';\n",
              "          await google.colab.output.renderOutput(dataTable, element);\n",
              "          const docLink = document.createElement('div');\n",
              "          docLink.innerHTML = docLinkHtml;\n",
              "          element.appendChild(docLink);\n",
              "        }\n",
              "      </script>\n",
              "    </div>\n",
              "  </div>\n",
              "  "
            ]
          },
          "metadata": {},
          "execution_count": 25
        }
      ]
    },
    {
      "cell_type": "code",
      "source": [
        "playstore_df['Genres'].unique()"
      ],
      "metadata": {
        "id": "nDZjbqQz8S6G",
        "colab": {
          "base_uri": "https://localhost:8080/"
        },
        "outputId": "2d133b07-6ea4-4106-d3ee-744a7c67370f"
      },
      "execution_count": null,
      "outputs": [
        {
          "output_type": "execute_result",
          "data": {
            "text/plain": [
              "array(['Art & Design', 'Art & Design;Pretend Play',\n",
              "       'Art & Design;Creativity', 'Art & Design;Action & Adventure',\n",
              "       'Auto & Vehicles', 'Beauty', 'Books & Reference', 'Business',\n",
              "       'Comics', 'Comics;Creativity', 'Communication', 'Dating',\n",
              "       'Education;Education', 'Education', 'Education;Creativity',\n",
              "       'Education;Music & Video', 'Education;Action & Adventure',\n",
              "       'Education;Pretend Play', 'Education;Brain Games', 'Entertainment',\n",
              "       'Entertainment;Music & Video', 'Entertainment;Brain Games',\n",
              "       'Entertainment;Creativity', 'Events', 'Finance', 'Food & Drink',\n",
              "       'Health & Fitness', 'House & Home', 'Libraries & Demo',\n",
              "       'Lifestyle', 'Lifestyle;Pretend Play',\n",
              "       'Adventure;Action & Adventure', 'Arcade', 'Casual', 'Card',\n",
              "       'Casual;Pretend Play', 'Action', 'Strategy', 'Puzzle', 'Sports',\n",
              "       'Music', 'Word', 'Racing', 'Casual;Creativity',\n",
              "       'Casual;Action & Adventure', 'Simulation', 'Adventure', 'Board',\n",
              "       'Trivia', 'Role Playing', 'Simulation;Education',\n",
              "       'Action;Action & Adventure', 'Casual;Brain Games',\n",
              "       'Simulation;Action & Adventure', 'Educational;Creativity',\n",
              "       'Puzzle;Brain Games', 'Educational;Education', 'Card;Brain Games',\n",
              "       'Educational;Brain Games', 'Educational;Pretend Play',\n",
              "       'Entertainment;Education', 'Casual;Education',\n",
              "       'Music;Music & Video', 'Racing;Action & Adventure',\n",
              "       'Arcade;Pretend Play', 'Role Playing;Action & Adventure',\n",
              "       'Simulation;Pretend Play', 'Puzzle;Creativity',\n",
              "       'Sports;Action & Adventure', 'Educational;Action & Adventure',\n",
              "       'Arcade;Action & Adventure', 'Entertainment;Action & Adventure',\n",
              "       'Puzzle;Action & Adventure', 'Strategy;Action & Adventure',\n",
              "       'Music & Audio;Music & Video', 'Health & Fitness;Education',\n",
              "       'Adventure;Education', 'Board;Brain Games',\n",
              "       'Board;Action & Adventure', 'Board;Pretend Play',\n",
              "       'Casual;Music & Video', 'Role Playing;Pretend Play',\n",
              "       'Entertainment;Pretend Play', 'Video Players & Editors;Creativity',\n",
              "       'Card;Action & Adventure', 'Medical', 'Social', 'Shopping',\n",
              "       'Photography', 'Travel & Local',\n",
              "       'Travel & Local;Action & Adventure', 'Tools', 'Tools;Education',\n",
              "       'Personalization', 'Productivity', 'Parenting',\n",
              "       'Parenting;Music & Video', 'Parenting;Education',\n",
              "       'Parenting;Brain Games', 'Weather', 'Video Players & Editors',\n",
              "       'Video Players & Editors;Music & Video', 'News & Magazines',\n",
              "       'Maps & Navigation', 'Health & Fitness;Action & Adventure',\n",
              "       'Educational', 'Casino', 'Adventure;Brain Games',\n",
              "       'Trivia;Education', 'Lifestyle;Education',\n",
              "       'Books & Reference;Creativity', 'Books & Reference;Education',\n",
              "       'Puzzle;Education', 'Role Playing;Education',\n",
              "       'Role Playing;Brain Games', 'Strategy;Education',\n",
              "       'Racing;Pretend Play', 'Communication;Creativity', nan,\n",
              "       'Strategy;Creativity'], dtype=object)"
            ]
          },
          "metadata": {},
          "execution_count": 26
        }
      ]
    },
    {
      "cell_type": "markdown",
      "source": [
        "- As we can see there is one Null value, so it is advisable to drop that row"
      ],
      "metadata": {
        "id": "jfGmJozX90fu"
      }
    },
    {
      "cell_type": "code",
      "source": [
        "playstore_df.dropna(subset = ['Genres'], inplace = True)"
      ],
      "metadata": {
        "id": "CCmll6H79jHF"
      },
      "execution_count": null,
      "outputs": []
    },
    {
      "cell_type": "code",
      "source": [
        "playstore_df.isnull().sum()"
      ],
      "metadata": {
        "id": "rGFxG4lZAGl3",
        "colab": {
          "base_uri": "https://localhost:8080/"
        },
        "outputId": "08428f02-1155-41e8-d102-1d08b66603ad"
      },
      "execution_count": null,
      "outputs": [
        {
          "output_type": "execute_result",
          "data": {
            "text/plain": [
              "App                  0\n",
              "Category             0\n",
              "Rating            1474\n",
              "Reviews              0\n",
              "Size                 0\n",
              "Installs             0\n",
              "Type                 0\n",
              "Price                0\n",
              "Content Rating       0\n",
              "Genres               0\n",
              "Last Updated         0\n",
              "Current Ver          8\n",
              "Android Ver          2\n",
              "dtype: int64"
            ]
          },
          "metadata": {},
          "execution_count": 28
        }
      ]
    },
    {
      "cell_type": "markdown",
      "source": [
        "- So we can observe that we got rid of the Nan value in column Genres\n",
        "\n",
        "# Now we will Analyse the current version column and Android version column"
      ],
      "metadata": {
        "id": "KqZmS8u_ASbh"
      }
    },
    {
      "cell_type": "code",
      "source": [
        "playstore_df.dropna(subset = ['Current Ver'], inplace = True)"
      ],
      "metadata": {
        "id": "lYG1UapJAOvS"
      },
      "execution_count": null,
      "outputs": []
    },
    {
      "cell_type": "code",
      "source": [
        "playstore_df.dropna(subset = ['Android Ver'], inplace = True)"
      ],
      "metadata": {
        "id": "HcOAnolzK9N1"
      },
      "execution_count": null,
      "outputs": []
    },
    {
      "cell_type": "code",
      "source": [
        "playstore_df.isnull().sum()"
      ],
      "metadata": {
        "id": "2E1b6cYnL5JW",
        "colab": {
          "base_uri": "https://localhost:8080/"
        },
        "outputId": "b8c4bdfd-d7b7-4cda-b579-934f388baf19"
      },
      "execution_count": null,
      "outputs": [
        {
          "output_type": "execute_result",
          "data": {
            "text/plain": [
              "App                  0\n",
              "Category             0\n",
              "Rating            1470\n",
              "Reviews              0\n",
              "Size                 0\n",
              "Installs             0\n",
              "Type                 0\n",
              "Price                0\n",
              "Content Rating       0\n",
              "Genres               0\n",
              "Last Updated         0\n",
              "Current Ver          0\n",
              "Android Ver          0\n",
              "dtype: int64"
            ]
          },
          "metadata": {},
          "execution_count": 31
        }
      ]
    },
    {
      "cell_type": "markdown",
      "source": [
        "# As we have got rid of the Null values in all dataset except Rating, so now analyse the data type of the remaining columns \n",
        "\n",
        "- We start with Category\n",
        "- Then we will check the Rating column \n",
        "- Then we wil check Review\n",
        "- Then we will analyse the size column \n",
        "- Then we will analyse the Installs column\n",
        "- Then we wil analyse price column \n",
        "- Then we will analyse the Last Updated column"
      ],
      "metadata": {
        "id": "K1DdcEDjMF42"
      }
    },
    {
      "cell_type": "code",
      "source": [
        "playstore_df['Category'].unique()"
      ],
      "metadata": {
        "id": "QZ47u3irMCIj",
        "colab": {
          "base_uri": "https://localhost:8080/"
        },
        "outputId": "78a2694c-78b7-45fe-88b1-a1ba72e637af"
      },
      "execution_count": null,
      "outputs": [
        {
          "output_type": "execute_result",
          "data": {
            "text/plain": [
              "array(['ART_AND_DESIGN', 'AUTO_AND_VEHICLES', 'BEAUTY',\n",
              "       'BOOKS_AND_REFERENCE', 'BUSINESS', 'COMICS', 'COMMUNICATION',\n",
              "       'DATING', 'EDUCATION', 'ENTERTAINMENT', 'EVENTS', 'FINANCE',\n",
              "       'FOOD_AND_DRINK', 'HEALTH_AND_FITNESS', 'HOUSE_AND_HOME',\n",
              "       'LIBRARIES_AND_DEMO', 'LIFESTYLE', 'GAME', 'FAMILY', 'MEDICAL',\n",
              "       'SOCIAL', 'SHOPPING', 'PHOTOGRAPHY', 'SPORTS', 'TRAVEL_AND_LOCAL',\n",
              "       'TOOLS', 'PERSONALIZATION', 'PRODUCTIVITY', 'PARENTING', 'WEATHER',\n",
              "       'VIDEO_PLAYERS', 'NEWS_AND_MAGAZINES', 'MAPS_AND_NAVIGATION'],\n",
              "      dtype=object)"
            ]
          },
          "metadata": {},
          "execution_count": 32
        }
      ]
    },
    {
      "cell_type": "code",
      "source": [
        "playstore_df['Rating'].unique()"
      ],
      "metadata": {
        "id": "0Hg7Z7kfMcWh",
        "colab": {
          "base_uri": "https://localhost:8080/"
        },
        "outputId": "0167e841-bdff-4228-a9b1-f08d595d4980"
      },
      "execution_count": null,
      "outputs": [
        {
          "output_type": "execute_result",
          "data": {
            "text/plain": [
              "array([4.1, 3.9, 4.7, 4.5, 4.3, 4.4, 3.8, 4.2, 4.6, 4.0, nan, 4.8, 4.9,\n",
              "       3.6, 3.7, 3.2, 3.3, 3.4, 3.5, 3.1, 5.0, 2.6, 3.0, 1.9, 2.5, 2.8,\n",
              "       2.7, 1.0, 2.9, 2.3, 2.2, 1.7, 2.0, 1.8, 2.4, 1.6, 2.1, 1.4, 1.5,\n",
              "       1.2], dtype=object)"
            ]
          },
          "metadata": {},
          "execution_count": 33
        }
      ]
    },
    {
      "cell_type": "markdown",
      "source": [
        "- As we can see the data type as object, let us now change it to data type float using pd.to_numeric function\n",
        "- Then we will find the mean of all the values of Rating and replace the NaN with mean value. "
      ],
      "metadata": {
        "id": "iNKYd4C0M_qt"
      }
    },
    {
      "cell_type": "code",
      "source": [
        "playstore_df['Rating'] = pd.to_numeric(playstore_df['Rating'], errors='coerce')\n",
        "playstore_df['Rating'].dtype"
      ],
      "metadata": {
        "colab": {
          "base_uri": "https://localhost:8080/"
        },
        "id": "oTIZVLSWM2rI",
        "outputId": "ae1b2617-48d0-4973-ad92-ea3fe8e64d05"
      },
      "execution_count": null,
      "outputs": [
        {
          "output_type": "execute_result",
          "data": {
            "text/plain": [
              "dtype('float64')"
            ]
          },
          "metadata": {},
          "execution_count": 34
        }
      ]
    },
    {
      "cell_type": "code",
      "source": [
        "mean_value_rating = playstore_df['Rating'].mean().round(1)\n",
        "playstore_df['Rating'].fillna(mean_value_rating, inplace = True)"
      ],
      "metadata": {
        "id": "iyGBTctSNSbU"
      },
      "execution_count": null,
      "outputs": []
    },
    {
      "cell_type": "code",
      "source": [
        "playstore_df.isnull().sum()"
      ],
      "metadata": {
        "id": "344pWqK5NiGP",
        "colab": {
          "base_uri": "https://localhost:8080/"
        },
        "outputId": "5afe999e-a159-4c2b-e86d-8cb0f96946ab"
      },
      "execution_count": null,
      "outputs": [
        {
          "output_type": "execute_result",
          "data": {
            "text/plain": [
              "App               0\n",
              "Category          0\n",
              "Rating            0\n",
              "Reviews           0\n",
              "Size              0\n",
              "Installs          0\n",
              "Type              0\n",
              "Price             0\n",
              "Content Rating    0\n",
              "Genres            0\n",
              "Last Updated      0\n",
              "Current Ver       0\n",
              "Android Ver       0\n",
              "dtype: int64"
            ]
          },
          "metadata": {},
          "execution_count": 36
        }
      ]
    },
    {
      "cell_type": "code",
      "source": [
        "playstore_df['Reviews'].unique()"
      ],
      "metadata": {
        "id": "Wiacch8sOI7f",
        "colab": {
          "base_uri": "https://localhost:8080/"
        },
        "outputId": "0191025a-e30d-4dc1-cffa-d6e2ea29b850"
      },
      "execution_count": null,
      "outputs": [
        {
          "output_type": "execute_result",
          "data": {
            "text/plain": [
              "array(['159', '967', '87510', ..., '603', '1195', '398307'], dtype=object)"
            ]
          },
          "metadata": {},
          "execution_count": 37
        }
      ]
    },
    {
      "cell_type": "markdown",
      "source": [
        "- we again face the same problem with reviews, as the dtype is object, so we will change it to integer, using astype method "
      ],
      "metadata": {
        "id": "xv0aN0_FOmpY"
      }
    },
    {
      "cell_type": "code",
      "source": [
        "playstore_df['Reviews'] = playstore_df['Reviews'].astype('int64')\n",
        "playstore_df['Reviews'].dtype"
      ],
      "metadata": {
        "colab": {
          "base_uri": "https://localhost:8080/"
        },
        "id": "gDTZv2p3OjxP",
        "outputId": "e2f03978-af1a-486d-b7c2-07608fc8c022"
      },
      "execution_count": null,
      "outputs": [
        {
          "output_type": "execute_result",
          "data": {
            "text/plain": [
              "dtype('int64')"
            ]
          },
          "metadata": {},
          "execution_count": 38
        }
      ]
    },
    {
      "cell_type": "code",
      "source": [
        "#Repeating the above steps with size column, like changing the data type to float and removing unwanted values \n",
        "playstore_df['Size'].unique()"
      ],
      "metadata": {
        "id": "4eMevUNmPKTq",
        "colab": {
          "base_uri": "https://localhost:8080/"
        },
        "outputId": "d731fea8-3c36-4742-e86e-7609b7f57fec"
      },
      "execution_count": null,
      "outputs": [
        {
          "output_type": "execute_result",
          "data": {
            "text/plain": [
              "array(['19M', '14M', '8.7M', '25M', '2.8M', '5.6M', '29M', '33M', '3.1M',\n",
              "       '28M', '12M', '20M', '21M', '37M', '5.5M', '17M', '39M', '31M',\n",
              "       '4.2M', '7.0M', '23M', '6.0M', '6.1M', '4.6M', '9.2M', '5.2M',\n",
              "       '11M', '24M', 'Varies with device', '9.4M', '15M', '10M', '1.2M',\n",
              "       '26M', '8.0M', '7.9M', '56M', '57M', '35M', '54M', '201k', '3.6M',\n",
              "       '5.7M', '8.6M', '2.4M', '27M', '2.7M', '2.5M', '16M', '3.4M',\n",
              "       '8.9M', '3.9M', '2.9M', '38M', '32M', '5.4M', '18M', '1.1M',\n",
              "       '2.2M', '4.5M', '9.8M', '52M', '9.0M', '6.7M', '30M', '2.6M',\n",
              "       '7.1M', '3.7M', '22M', '7.4M', '6.4M', '3.2M', '8.2M', '9.9M',\n",
              "       '4.9M', '9.5M', '5.0M', '5.9M', '13M', '73M', '6.8M', '3.5M',\n",
              "       '4.0M', '2.3M', '7.2M', '2.1M', '42M', '7.3M', '9.1M', '55M',\n",
              "       '23k', '6.5M', '1.5M', '7.5M', '51M', '41M', '48M', '8.5M', '46M',\n",
              "       '8.3M', '4.3M', '4.7M', '3.3M', '40M', '7.8M', '8.8M', '6.6M',\n",
              "       '5.1M', '61M', '66M', '79k', '8.4M', '118k', '44M', '695k', '1.6M',\n",
              "       '6.2M', '18k', '53M', '1.4M', '3.0M', '5.8M', '3.8M', '9.6M',\n",
              "       '45M', '63M', '49M', '77M', '4.4M', '4.8M', '70M', '6.9M', '9.3M',\n",
              "       '10.0M', '8.1M', '36M', '84M', '97M', '2.0M', '1.9M', '1.8M',\n",
              "       '5.3M', '47M', '556k', '526k', '76M', '7.6M', '59M', '9.7M', '78M',\n",
              "       '72M', '43M', '7.7M', '6.3M', '334k', '34M', '93M', '65M', '79M',\n",
              "       '100M', '58M', '50M', '68M', '64M', '67M', '60M', '94M', '232k',\n",
              "       '99M', '624k', '95M', '8.5k', '41k', '292k', '80M', '1.7M', '74M',\n",
              "       '62M', '69M', '75M', '98M', '85M', '82M', '96M', '87M', '71M',\n",
              "       '86M', '91M', '81M', '92M', '83M', '88M', '704k', '862k', '899k',\n",
              "       '378k', '266k', '375k', '1.3M', '975k', '980k', '4.1M', '89M',\n",
              "       '696k', '544k', '525k', '920k', '779k', '853k', '720k', '713k',\n",
              "       '772k', '318k', '58k', '241k', '196k', '857k', '51k', '953k',\n",
              "       '865k', '251k', '930k', '540k', '313k', '746k', '203k', '26k',\n",
              "       '314k', '239k', '371k', '220k', '730k', '756k', '91k', '293k',\n",
              "       '17k', '74k', '14k', '317k', '78k', '924k', '902k', '818k', '81k',\n",
              "       '939k', '169k', '45k', '475k', '965k', '90M', '545k', '61k',\n",
              "       '283k', '655k', '714k', '93k', '872k', '121k', '322k', '1.0M',\n",
              "       '976k', '172k', '238k', '549k', '206k', '954k', '444k', '717k',\n",
              "       '210k', '609k', '308k', '705k', '306k', '904k', '473k', '175k',\n",
              "       '350k', '383k', '454k', '421k', '70k', '812k', '442k', '842k',\n",
              "       '417k', '412k', '459k', '478k', '335k', '782k', '721k', '430k',\n",
              "       '429k', '192k', '200k', '460k', '728k', '496k', '816k', '414k',\n",
              "       '506k', '887k', '613k', '243k', '569k', '778k', '683k', '592k',\n",
              "       '319k', '186k', '840k', '647k', '191k', '373k', '437k', '598k',\n",
              "       '716k', '585k', '982k', '219k', '55k', '948k', '323k', '691k',\n",
              "       '511k', '951k', '963k', '25k', '554k', '351k', '27k', '82k',\n",
              "       '208k', '913k', '514k', '551k', '29k', '103k', '898k', '743k',\n",
              "       '116k', '153k', '209k', '353k', '499k', '173k', '597k', '809k',\n",
              "       '122k', '411k', '400k', '801k', '787k', '50k', '643k', '986k',\n",
              "       '97k', '516k', '837k', '780k', '961k', '269k', '20k', '498k',\n",
              "       '600k', '749k', '642k', '881k', '72k', '656k', '601k', '221k',\n",
              "       '228k', '108k', '940k', '176k', '33k', '663k', '34k', '942k',\n",
              "       '259k', '164k', '458k', '245k', '629k', '28k', '288k', '775k',\n",
              "       '785k', '636k', '916k', '994k', '309k', '485k', '914k', '903k',\n",
              "       '608k', '500k', '54k', '562k', '847k', '957k', '688k', '811k',\n",
              "       '270k', '48k', '329k', '523k', '921k', '874k', '981k', '784k',\n",
              "       '280k', '24k', '518k', '754k', '892k', '154k', '860k', '364k',\n",
              "       '387k', '626k', '161k', '879k', '39k', '970k', '170k', '141k',\n",
              "       '160k', '144k', '143k', '190k', '376k', '193k', '246k', '73k',\n",
              "       '992k', '253k', '420k', '404k', '470k', '226k', '240k', '89k',\n",
              "       '234k', '257k', '861k', '467k', '157k', '44k', '676k', '67k',\n",
              "       '552k', '885k', '1020k', '582k', '619k'], dtype=object)"
            ]
          },
          "metadata": {},
          "execution_count": 39
        }
      ]
    },
    {
      "cell_type": "code",
      "source": [
        "#Replacing srting with NaN\n",
        "playstore_df['Size'] = playstore_df.Size.replace(\"Varies with device\",np.nan)"
      ],
      "metadata": {
        "id": "QjnjSJbEP4dX"
      },
      "execution_count": null,
      "outputs": []
    },
    {
      "cell_type": "code",
      "source": [
        "#Droping the NaN value\n",
        "playstore_df.dropna(subset = ['Size'], inplace = True)"
      ],
      "metadata": {
        "id": "NFR-L04ffA9q"
      },
      "execution_count": null,
      "outputs": []
    },
    {
      "cell_type": "code",
      "source": [
        "def size_change(sizevalue):\n",
        "  '''This function will take the value as string and if at last 'M' is present \n",
        "  it will return a float value after multiplying by 1000 \n",
        "  and if at last 'k' is present it will remove 'k' and return the remaining value as float'''\n",
        "  sizevalue = str(sizevalue)\n",
        "  if sizevalue[-1] == 'M':\n",
        "    return float(sizevalue[:-1])*1000\n",
        "  elif sizevalue[-1] == 'k':\n",
        "    return float(sizevalue[:-1])"
      ],
      "metadata": {
        "id": "ud31inLARl-u"
      },
      "execution_count": null,
      "outputs": []
    },
    {
      "cell_type": "code",
      "source": [
        "#USing the above defined function to apply on the column 'Size'\n",
        "playstore_df['Size'] = playstore_df.apply(lambda x: size_change(x['Size']), axis = 1)"
      ],
      "metadata": {
        "id": "lb9fWCiYRmgw"
      },
      "execution_count": null,
      "outputs": []
    },
    {
      "cell_type": "code",
      "source": [
        "#COnverting the datatype to float\n",
        "playstore_df['Size'] = playstore_df['Size'].astype(float)"
      ],
      "metadata": {
        "id": "D8MpLOM7SClR"
      },
      "execution_count": null,
      "outputs": []
    },
    {
      "cell_type": "code",
      "source": [
        "#Finally checking if all vaules are appropriate or not\n",
        "playstore_df['Size'].unique()"
      ],
      "metadata": {
        "id": "bmgTO8beSM_g",
        "colab": {
          "base_uri": "https://localhost:8080/"
        },
        "outputId": "37dafac3-7a0e-48ee-b1e7-d8caea466758"
      },
      "execution_count": null,
      "outputs": [
        {
          "output_type": "execute_result",
          "data": {
            "text/plain": [
              "array([1.90e+04, 1.40e+04, 8.70e+03, 2.50e+04, 2.80e+03, 5.60e+03,\n",
              "       2.90e+04, 3.30e+04, 3.10e+03, 2.80e+04, 1.20e+04, 2.00e+04,\n",
              "       2.10e+04, 3.70e+04, 5.50e+03, 1.70e+04, 3.90e+04, 3.10e+04,\n",
              "       4.20e+03, 7.00e+03, 2.30e+04, 6.00e+03, 6.10e+03, 4.60e+03,\n",
              "       9.20e+03, 5.20e+03, 1.10e+04, 2.40e+04, 9.40e+03, 1.50e+04,\n",
              "       1.00e+04, 1.20e+03, 2.60e+04, 8.00e+03, 7.90e+03, 5.60e+04,\n",
              "       5.70e+04, 3.50e+04, 5.40e+04, 2.01e+02, 3.60e+03, 5.70e+03,\n",
              "       8.60e+03, 2.40e+03, 2.70e+04, 2.70e+03, 2.50e+03, 1.60e+04,\n",
              "       3.40e+03, 8.90e+03, 3.90e+03, 2.90e+03, 3.80e+04, 3.20e+04,\n",
              "       5.40e+03, 1.80e+04, 1.10e+03, 2.20e+03, 4.50e+03, 9.80e+03,\n",
              "       5.20e+04, 9.00e+03, 6.70e+03, 3.00e+04, 2.60e+03, 7.10e+03,\n",
              "       3.70e+03, 2.20e+04, 7.40e+03, 6.40e+03, 3.20e+03, 8.20e+03,\n",
              "       9.90e+03, 4.90e+03, 9.50e+03, 5.00e+03, 5.90e+03, 1.30e+04,\n",
              "       7.30e+04, 6.80e+03, 3.50e+03, 4.00e+03, 2.30e+03, 7.20e+03,\n",
              "       2.10e+03, 4.20e+04, 7.30e+03, 9.10e+03, 5.50e+04, 2.30e+01,\n",
              "       6.50e+03, 1.50e+03, 7.50e+03, 5.10e+04, 4.10e+04, 4.80e+04,\n",
              "       8.50e+03, 4.60e+04, 8.30e+03, 4.30e+03, 4.70e+03, 3.30e+03,\n",
              "       4.00e+04, 7.80e+03, 8.80e+03, 6.60e+03, 5.10e+03, 6.10e+04,\n",
              "       6.60e+04, 7.90e+01, 8.40e+03, 1.18e+02, 4.40e+04, 6.95e+02,\n",
              "       1.60e+03, 6.20e+03, 1.80e+01, 5.30e+04, 1.40e+03, 3.00e+03,\n",
              "       5.80e+03, 3.80e+03, 9.60e+03, 4.50e+04, 6.30e+04, 4.90e+04,\n",
              "       7.70e+04, 4.40e+03, 4.80e+03, 7.00e+04, 6.90e+03, 9.30e+03,\n",
              "       8.10e+03, 3.60e+04, 8.40e+04, 9.70e+04, 2.00e+03, 1.90e+03,\n",
              "       1.80e+03, 5.30e+03, 4.70e+04, 5.56e+02, 5.26e+02, 7.60e+04,\n",
              "       7.60e+03, 5.90e+04, 9.70e+03, 7.80e+04, 7.20e+04, 4.30e+04,\n",
              "       7.70e+03, 6.30e+03, 3.34e+02, 3.40e+04, 9.30e+04, 6.50e+04,\n",
              "       7.90e+04, 1.00e+05, 5.80e+04, 5.00e+04, 6.80e+04, 6.40e+04,\n",
              "       6.70e+04, 6.00e+04, 9.40e+04, 2.32e+02, 9.90e+04, 6.24e+02,\n",
              "       9.50e+04, 8.50e+00, 4.10e+01, 2.92e+02, 8.00e+04, 1.70e+03,\n",
              "       7.40e+04, 6.20e+04, 6.90e+04, 7.50e+04, 9.80e+04, 8.50e+04,\n",
              "       8.20e+04, 9.60e+04, 8.70e+04, 7.10e+04, 8.60e+04, 9.10e+04,\n",
              "       8.10e+04, 9.20e+04, 8.30e+04, 8.80e+04, 7.04e+02, 8.62e+02,\n",
              "       8.99e+02, 3.78e+02, 2.66e+02, 3.75e+02, 1.30e+03, 9.75e+02,\n",
              "       9.80e+02, 4.10e+03, 8.90e+04, 6.96e+02, 5.44e+02, 5.25e+02,\n",
              "       9.20e+02, 7.79e+02, 8.53e+02, 7.20e+02, 7.13e+02, 7.72e+02,\n",
              "       3.18e+02, 5.80e+01, 2.41e+02, 1.96e+02, 8.57e+02, 5.10e+01,\n",
              "       9.53e+02, 8.65e+02, 2.51e+02, 9.30e+02, 5.40e+02, 3.13e+02,\n",
              "       7.46e+02, 2.03e+02, 2.60e+01, 3.14e+02, 2.39e+02, 3.71e+02,\n",
              "       2.20e+02, 7.30e+02, 7.56e+02, 9.10e+01, 2.93e+02, 1.70e+01,\n",
              "       7.40e+01, 1.40e+01, 3.17e+02, 7.80e+01, 9.24e+02, 9.02e+02,\n",
              "       8.18e+02, 8.10e+01, 9.39e+02, 1.69e+02, 4.50e+01, 4.75e+02,\n",
              "       9.65e+02, 9.00e+04, 5.45e+02, 6.10e+01, 2.83e+02, 6.55e+02,\n",
              "       7.14e+02, 9.30e+01, 8.72e+02, 1.21e+02, 3.22e+02, 1.00e+03,\n",
              "       9.76e+02, 1.72e+02, 2.38e+02, 5.49e+02, 2.06e+02, 9.54e+02,\n",
              "       4.44e+02, 7.17e+02, 2.10e+02, 6.09e+02, 3.08e+02, 7.05e+02,\n",
              "       3.06e+02, 9.04e+02, 4.73e+02, 1.75e+02, 3.50e+02, 3.83e+02,\n",
              "       4.54e+02, 4.21e+02, 7.00e+01, 8.12e+02, 4.42e+02, 8.42e+02,\n",
              "       4.17e+02, 4.12e+02, 4.59e+02, 4.78e+02, 3.35e+02, 7.82e+02,\n",
              "       7.21e+02, 4.30e+02, 4.29e+02, 1.92e+02, 2.00e+02, 4.60e+02,\n",
              "       7.28e+02, 4.96e+02, 8.16e+02, 4.14e+02, 5.06e+02, 8.87e+02,\n",
              "       6.13e+02, 2.43e+02, 5.69e+02, 7.78e+02, 6.83e+02, 5.92e+02,\n",
              "       3.19e+02, 1.86e+02, 8.40e+02, 6.47e+02, 1.91e+02, 3.73e+02,\n",
              "       4.37e+02, 5.98e+02, 7.16e+02, 5.85e+02, 9.82e+02, 2.19e+02,\n",
              "       5.50e+01, 9.48e+02, 3.23e+02, 6.91e+02, 5.11e+02, 9.51e+02,\n",
              "       9.63e+02, 2.50e+01, 5.54e+02, 3.51e+02, 2.70e+01, 8.20e+01,\n",
              "       2.08e+02, 9.13e+02, 5.14e+02, 5.51e+02, 2.90e+01, 1.03e+02,\n",
              "       8.98e+02, 7.43e+02, 1.16e+02, 1.53e+02, 2.09e+02, 3.53e+02,\n",
              "       4.99e+02, 1.73e+02, 5.97e+02, 8.09e+02, 1.22e+02, 4.11e+02,\n",
              "       4.00e+02, 8.01e+02, 7.87e+02, 5.00e+01, 6.43e+02, 9.86e+02,\n",
              "       9.70e+01, 5.16e+02, 8.37e+02, 7.80e+02, 9.61e+02, 2.69e+02,\n",
              "       2.00e+01, 4.98e+02, 6.00e+02, 7.49e+02, 6.42e+02, 8.81e+02,\n",
              "       7.20e+01, 6.56e+02, 6.01e+02, 2.21e+02, 2.28e+02, 1.08e+02,\n",
              "       9.40e+02, 1.76e+02, 3.30e+01, 6.63e+02, 3.40e+01, 9.42e+02,\n",
              "       2.59e+02, 1.64e+02, 4.58e+02, 2.45e+02, 6.29e+02, 2.80e+01,\n",
              "       2.88e+02, 7.75e+02, 7.85e+02, 6.36e+02, 9.16e+02, 9.94e+02,\n",
              "       3.09e+02, 4.85e+02, 9.14e+02, 9.03e+02, 6.08e+02, 5.00e+02,\n",
              "       5.40e+01, 5.62e+02, 8.47e+02, 9.57e+02, 6.88e+02, 8.11e+02,\n",
              "       2.70e+02, 4.80e+01, 3.29e+02, 5.23e+02, 9.21e+02, 8.74e+02,\n",
              "       9.81e+02, 7.84e+02, 2.80e+02, 2.40e+01, 5.18e+02, 7.54e+02,\n",
              "       8.92e+02, 1.54e+02, 8.60e+02, 3.64e+02, 3.87e+02, 6.26e+02,\n",
              "       1.61e+02, 8.79e+02, 3.90e+01, 9.70e+02, 1.70e+02, 1.41e+02,\n",
              "       1.60e+02, 1.44e+02, 1.43e+02, 1.90e+02, 3.76e+02, 1.93e+02,\n",
              "       2.46e+02, 7.30e+01, 9.92e+02, 2.53e+02, 4.20e+02, 4.04e+02,\n",
              "       4.70e+02, 2.26e+02, 2.40e+02, 8.90e+01, 2.34e+02, 2.57e+02,\n",
              "       8.61e+02, 4.67e+02, 1.57e+02, 4.40e+01, 6.76e+02, 6.70e+01,\n",
              "       5.52e+02, 8.85e+02, 1.02e+03, 5.82e+02, 6.19e+02])"
            ]
          },
          "metadata": {},
          "execution_count": 45
        }
      ]
    },
    {
      "cell_type": "code",
      "source": [
        "#Inspecting the unique values in Installs \n",
        "playstore_df['Installs'].unique()"
      ],
      "metadata": {
        "id": "1r2dv0T_c0hB",
        "colab": {
          "base_uri": "https://localhost:8080/"
        },
        "outputId": "99037c0e-d5ee-4c28-b376-fa9fd71b25b6"
      },
      "execution_count": null,
      "outputs": [
        {
          "output_type": "execute_result",
          "data": {
            "text/plain": [
              "array(['10,000+', '500,000+', '5,000,000+', '50,000,000+', '100,000+',\n",
              "       '50,000+', '1,000,000+', '10,000,000+', '5,000+', '100,000,000+',\n",
              "       '1,000+', '500,000,000+', '50+', '100+', '500+', '10+', '1+', '5+',\n",
              "       '1,000,000,000+', '0+'], dtype=object)"
            ]
          },
          "metadata": {},
          "execution_count": 46
        }
      ]
    },
    {
      "cell_type": "markdown",
      "source": [
        "- As we can see that the unique elements in installs column contain some unwanted data and also the dtype is object, so we will now try to recover this column."
      ],
      "metadata": {
        "id": "IEiIqhcydiqv"
      }
    },
    {
      "cell_type": "code",
      "source": [
        "# Removing the commas present in values of Installs with empty string\n",
        "playstore_df['Installs'] = playstore_df.Installs.str.replace(\",\",\"\")\n",
        "# Removing the + sign from the string\n",
        "playstore_df['Installs'] = playstore_df.Installs.str.replace(\"+\",\"\")\n",
        "# Converting the datatype from object to string\n",
        "playstore_df['Installs'] = playstore_df['Installs'].astype(float)\n",
        "playstore_df['Installs'].dtype"
      ],
      "metadata": {
        "id": "MZlMV8DFddkZ",
        "colab": {
          "base_uri": "https://localhost:8080/"
        },
        "outputId": "ba864d86-efd3-4587-8f20-ae93900cf2c0"
      },
      "execution_count": null,
      "outputs": [
        {
          "output_type": "stream",
          "name": "stderr",
          "text": [
            "/usr/local/lib/python3.7/dist-packages/ipykernel_launcher.py:4: FutureWarning: The default value of regex will change from True to False in a future version. In addition, single character regular expressions will *not* be treated as literal strings when regex=True.\n",
            "  after removing the cwd from sys.path.\n"
          ]
        },
        {
          "output_type": "execute_result",
          "data": {
            "text/plain": [
              "dtype('float64')"
            ]
          },
          "metadata": {},
          "execution_count": 47
        }
      ]
    },
    {
      "cell_type": "code",
      "source": [
        "#Final checking of all the unique values of Installs\n",
        "playstore_df['Installs'].unique()"
      ],
      "metadata": {
        "id": "QF1CjzjLeR4q",
        "colab": {
          "base_uri": "https://localhost:8080/"
        },
        "outputId": "d476a13a-a458-404a-cf51-81c0d4b58126"
      },
      "execution_count": null,
      "outputs": [
        {
          "output_type": "execute_result",
          "data": {
            "text/plain": [
              "array([1.e+04, 5.e+05, 5.e+06, 5.e+07, 1.e+05, 5.e+04, 1.e+06, 1.e+07,\n",
              "       5.e+03, 1.e+08, 1.e+03, 5.e+08, 5.e+01, 1.e+02, 5.e+02, 1.e+01,\n",
              "       1.e+00, 5.e+00, 1.e+09, 0.e+00])"
            ]
          },
          "metadata": {},
          "execution_count": 48
        }
      ]
    },
    {
      "cell_type": "code",
      "source": [
        "#Inspecting the unique values in Price \n",
        "playstore_df['Price'].unique()"
      ],
      "metadata": {
        "id": "OUsA2j1lf1qM",
        "colab": {
          "base_uri": "https://localhost:8080/"
        },
        "outputId": "48b05781-89ce-4a39-f6be-5192ab9e2b92"
      },
      "execution_count": null,
      "outputs": [
        {
          "output_type": "execute_result",
          "data": {
            "text/plain": [
              "array(['0', '$4.99', '$6.99', '$1.49', '$2.99', '$3.99', '$7.99', '$5.99',\n",
              "       '$1.99', '$9.99', '$0.99', '$9.00', '$5.49', '$10.00', '$24.99',\n",
              "       '$11.99', '$79.99', '$16.99', '$14.99', '$1.00', '$29.99',\n",
              "       '$12.99', '$3.49', '$10.99', '$7.49', '$1.50', '$19.99', '$15.99',\n",
              "       '$33.99', '$74.99', '$39.99', '$2.49', '$4.49', '$1.70', '$2.00',\n",
              "       '$3.88', '$25.99', '$399.99', '$17.99', '$400.00', '$3.02',\n",
              "       '$1.76', '$4.84', '$4.77', '$1.61', '$1.59', '$6.49', '$1.29',\n",
              "       '$5.00', '$13.99', '$299.99', '$379.99', '$37.99', '$18.99',\n",
              "       '$389.99', '$19.90', '$8.49', '$1.75', '$14.00', '$4.85', '$46.99',\n",
              "       '$109.99', '$154.99', '$3.08', '$2.59', '$4.80', '$8.99', '$1.96',\n",
              "       '$19.40', '$15.46', '$3.04', '$4.29', '$2.60', '$3.28', '$4.60',\n",
              "       '$28.99', '$2.90', '$1.97', '$200.00', '$89.99', '$2.56', '$30.99',\n",
              "       '$3.61', '$394.99', '$1.26', '$1.20', '$1.04'], dtype=object)"
            ]
          },
          "metadata": {},
          "execution_count": 49
        }
      ]
    },
    {
      "cell_type": "code",
      "source": [
        "# Replacing the Dollar sign with empty string and also changing the data type to float\n",
        "playstore_df['Price'] = playstore_df.Price.str.replace(\"$\",\"\").astype(float)\n",
        "playstore_df['Price'].dtype"
      ],
      "metadata": {
        "colab": {
          "base_uri": "https://localhost:8080/"
        },
        "id": "R6radgb0hITx",
        "outputId": "14a7790f-999d-4459-f277-3bcaa7acb621"
      },
      "execution_count": null,
      "outputs": [
        {
          "output_type": "stream",
          "name": "stderr",
          "text": [
            "/usr/local/lib/python3.7/dist-packages/ipykernel_launcher.py:2: FutureWarning: The default value of regex will change from True to False in a future version. In addition, single character regular expressions will *not* be treated as literal strings when regex=True.\n",
            "  \n"
          ]
        },
        {
          "output_type": "execute_result",
          "data": {
            "text/plain": [
              "dtype('float64')"
            ]
          },
          "metadata": {},
          "execution_count": 50
        }
      ]
    },
    {
      "cell_type": "code",
      "source": [
        "#Final checking of all the unique values in price \n",
        "playstore_df['Price'].unique()"
      ],
      "metadata": {
        "id": "KXlipWsmjJ92",
        "colab": {
          "base_uri": "https://localhost:8080/"
        },
        "outputId": "8f4b47a6-5495-4348-e3aa-8d38bd321a5c"
      },
      "execution_count": null,
      "outputs": [
        {
          "output_type": "execute_result",
          "data": {
            "text/plain": [
              "array([  0.  ,   4.99,   6.99,   1.49,   2.99,   3.99,   7.99,   5.99,\n",
              "         1.99,   9.99,   0.99,   9.  ,   5.49,  10.  ,  24.99,  11.99,\n",
              "        79.99,  16.99,  14.99,   1.  ,  29.99,  12.99,   3.49,  10.99,\n",
              "         7.49,   1.5 ,  19.99,  15.99,  33.99,  74.99,  39.99,   2.49,\n",
              "         4.49,   1.7 ,   2.  ,   3.88,  25.99, 399.99,  17.99, 400.  ,\n",
              "         3.02,   1.76,   4.84,   4.77,   1.61,   1.59,   6.49,   1.29,\n",
              "         5.  ,  13.99, 299.99, 379.99,  37.99,  18.99, 389.99,  19.9 ,\n",
              "         8.49,   1.75,  14.  ,   4.85,  46.99, 109.99, 154.99,   3.08,\n",
              "         2.59,   4.8 ,   8.99,   1.96,  19.4 ,  15.46,   3.04,   4.29,\n",
              "         2.6 ,   3.28,   4.6 ,  28.99,   2.9 ,   1.97, 200.  ,  89.99,\n",
              "         2.56,  30.99,   3.61, 394.99,   1.26,   1.2 ,   1.04])"
            ]
          },
          "metadata": {},
          "execution_count": 51
        }
      ]
    },
    {
      "cell_type": "code",
      "source": [
        "#Inspecting the values in column Last Updated\n",
        "playstore_df['Last Updated'].unique()"
      ],
      "metadata": {
        "colab": {
          "base_uri": "https://localhost:8080/"
        },
        "id": "segj9C3hjhTl",
        "outputId": "796113e5-1d66-4c08-de35-c653d0bba681"
      },
      "execution_count": null,
      "outputs": [
        {
          "output_type": "execute_result",
          "data": {
            "text/plain": [
              "array(['January 7, 2018', 'January 15, 2018', 'August 1, 2018', ...,\n",
              "       'January 20, 2014', 'February 16, 2014', 'March 23, 2014'],\n",
              "      dtype=object)"
            ]
          },
          "metadata": {},
          "execution_count": 52
        }
      ]
    },
    {
      "cell_type": "markdown",
      "source": [
        "- As we can see that it is a datetime column so we will correct the format and change the dtype to datetime"
      ],
      "metadata": {
        "id": "d-oF0ipIkQrN"
      }
    },
    {
      "cell_type": "code",
      "source": [
        "# Changing the data type to datetime\n",
        "playstore_df['Last Updated'] = pd.to_datetime(playstore_df['Last Updated'])"
      ],
      "metadata": {
        "id": "tMuaBZ0akPGE"
      },
      "execution_count": null,
      "outputs": []
    },
    {
      "cell_type": "code",
      "source": [
        "# Checking the changes in Last Updated column\n",
        "playstore_df['Last Updated'].head()"
      ],
      "metadata": {
        "colab": {
          "base_uri": "https://localhost:8080/"
        },
        "id": "3Fx7pSBmkt3U",
        "outputId": "0a259bdf-ab42-4600-b685-5edb71450bc5"
      },
      "execution_count": null,
      "outputs": [
        {
          "output_type": "execute_result",
          "data": {
            "text/plain": [
              "0   2018-01-07\n",
              "1   2018-01-15\n",
              "2   2018-08-01\n",
              "3   2018-06-08\n",
              "4   2018-06-20\n",
              "Name: Last Updated, dtype: datetime64[ns]"
            ]
          },
          "metadata": {},
          "execution_count": 54
        }
      ]
    },
    {
      "cell_type": "markdown",
      "source": [
        "# As we have completed the analysing of Playstore Data, now we will do the analysis and cleaning of User Review data"
      ],
      "metadata": {
        "id": "n9_DX9wZlqMD"
      }
    },
    {
      "cell_type": "code",
      "source": [
        "# Checking the list of columns in user review data\n",
        "review_df.columns"
      ],
      "metadata": {
        "colab": {
          "base_uri": "https://localhost:8080/"
        },
        "id": "btEOkfGjlbXo",
        "outputId": "61fa9e66-832d-451c-d153-b02bc287899e"
      },
      "execution_count": null,
      "outputs": [
        {
          "output_type": "execute_result",
          "data": {
            "text/plain": [
              "Index(['App', 'Translated_Review', 'Sentiment', 'Sentiment_Polarity',\n",
              "       'Sentiment_Subjectivity'],\n",
              "      dtype='object')"
            ]
          },
          "metadata": {},
          "execution_count": 55
        }
      ]
    },
    {
      "cell_type": "code",
      "source": [
        "review_df.info()"
      ],
      "metadata": {
        "colab": {
          "base_uri": "https://localhost:8080/"
        },
        "id": "T6DP0lPTq640",
        "outputId": "b0cfcfdc-91d8-4b11-cbaa-dd459aa30e9b"
      },
      "execution_count": null,
      "outputs": [
        {
          "output_type": "stream",
          "name": "stdout",
          "text": [
            "<class 'pandas.core.frame.DataFrame'>\n",
            "RangeIndex: 64295 entries, 0 to 64294\n",
            "Data columns (total 5 columns):\n",
            " #   Column                  Non-Null Count  Dtype  \n",
            "---  ------                  --------------  -----  \n",
            " 0   App                     64295 non-null  object \n",
            " 1   Translated_Review       37427 non-null  object \n",
            " 2   Sentiment               37432 non-null  object \n",
            " 3   Sentiment_Polarity      37432 non-null  float64\n",
            " 4   Sentiment_Subjectivity  37432 non-null  float64\n",
            "dtypes: float64(2), object(3)\n",
            "memory usage: 2.5+ MB\n"
          ]
        }
      ]
    },
    {
      "cell_type": "code",
      "source": [
        "review_df.shape"
      ],
      "metadata": {
        "colab": {
          "base_uri": "https://localhost:8080/"
        },
        "id": "drRmACn8rAIm",
        "outputId": "306fa6b9-3bcb-448f-dd14-f00c48c12774"
      },
      "execution_count": null,
      "outputs": [
        {
          "output_type": "execute_result",
          "data": {
            "text/plain": [
              "(64295, 5)"
            ]
          },
          "metadata": {},
          "execution_count": 57
        }
      ]
    },
    {
      "cell_type": "markdown",
      "source": [
        "# Thus we can observe that there are no Null value in App column but rest all have too many null values and droping them is not a good option \n",
        "\n",
        "- So let us analyse all columns one by one and clean the data "
      ],
      "metadata": {
        "id": "aVyjeYfErG8t"
      }
    },
    {
      "cell_type": "code",
      "source": [
        "review_df['Sentiment'].unique()"
      ],
      "metadata": {
        "colab": {
          "base_uri": "https://localhost:8080/"
        },
        "id": "yK1EKDT1rFII",
        "outputId": "b6ef00ec-3e42-4e06-9e50-8f18a76c96b5"
      },
      "execution_count": null,
      "outputs": [
        {
          "output_type": "execute_result",
          "data": {
            "text/plain": [
              "array(['Positive', nan, 'Neutral', 'Negative'], dtype=object)"
            ]
          },
          "metadata": {},
          "execution_count": 58
        }
      ]
    },
    {
      "cell_type": "code",
      "source": [
        "# Since the number of NaN is huge and in most cases the NaN is common accross all the columns, except App, so we are going to drop the NaN data\n",
        "review_df.dropna(inplace = True)"
      ],
      "metadata": {
        "id": "W9swx6ntr74R"
      },
      "execution_count": null,
      "outputs": []
    },
    {
      "cell_type": "code",
      "source": [
        "review_df.info()"
      ],
      "metadata": {
        "colab": {
          "base_uri": "https://localhost:8080/"
        },
        "id": "OV8Bi1MUwCmy",
        "outputId": "048eb7a6-9d4c-436b-d202-30f334b8e339"
      },
      "execution_count": null,
      "outputs": [
        {
          "output_type": "stream",
          "name": "stdout",
          "text": [
            "<class 'pandas.core.frame.DataFrame'>\n",
            "Int64Index: 37427 entries, 0 to 64230\n",
            "Data columns (total 5 columns):\n",
            " #   Column                  Non-Null Count  Dtype  \n",
            "---  ------                  --------------  -----  \n",
            " 0   App                     37427 non-null  object \n",
            " 1   Translated_Review       37427 non-null  object \n",
            " 2   Sentiment               37427 non-null  object \n",
            " 3   Sentiment_Polarity      37427 non-null  float64\n",
            " 4   Sentiment_Subjectivity  37427 non-null  float64\n",
            "dtypes: float64(2), object(3)\n",
            "memory usage: 1.7+ MB\n"
          ]
        }
      ]
    },
    {
      "cell_type": "markdown",
      "source": [
        "- By comparing the info value before and after using dropna, we can see that there is not much difference in the list of values in all columns, showing that NaN was common in all the other columns, except App, so it is an appropriate method to remove the NaN \n",
        "\n",
        "- Now we will check the data of each column one by one \n",
        "- we are not going to check the values in Translated Reviews as it is a string value and doesn't give any scope to comapre the data\n"
      ],
      "metadata": {
        "id": "z7oOj93fF8Vy"
      }
    },
    {
      "cell_type": "code",
      "source": [
        "# Inspecting the unique values of Sentiment\n",
        "review_df['Sentiment'].unique()"
      ],
      "metadata": {
        "colab": {
          "base_uri": "https://localhost:8080/"
        },
        "id": "KuSOocpYz89U",
        "outputId": "0ed7d574-a622-4ad0-e24f-a6b22d70186f"
      },
      "execution_count": null,
      "outputs": [
        {
          "output_type": "execute_result",
          "data": {
            "text/plain": [
              "array(['Positive', 'Neutral', 'Negative'], dtype=object)"
            ]
          },
          "metadata": {},
          "execution_count": 61
        }
      ]
    },
    {
      "cell_type": "code",
      "source": [
        "# Inspecting the unique values of Sentiment_Polarity\n",
        "review_df['Sentiment_Polarity'].unique()"
      ],
      "metadata": {
        "colab": {
          "base_uri": "https://localhost:8080/"
        },
        "id": "jIt4cZP1HdIR",
        "outputId": "874b5039-bc82-4f1b-f46d-9e841444428c"
      },
      "execution_count": null,
      "outputs": [
        {
          "output_type": "execute_result",
          "data": {
            "text/plain": [
              "array([ 1.        ,  0.25      ,  0.4       , ..., -0.52857143,\n",
              "       -0.37777778,  0.17333333])"
            ]
          },
          "metadata": {},
          "execution_count": 62
        }
      ]
    },
    {
      "cell_type": "code",
      "source": [
        "# Inspecting the unique values of Sentiment_Subjectivity\n",
        "review_df['Sentiment_Subjectivity'].unique()"
      ],
      "metadata": {
        "colab": {
          "base_uri": "https://localhost:8080/"
        },
        "id": "tJbtVVRYH1bV",
        "outputId": "c0176755-a77a-4cc5-c757-0f2e3a8ccb87"
      },
      "execution_count": null,
      "outputs": [
        {
          "output_type": "execute_result",
          "data": {
            "text/plain": [
              "array([0.53333333, 0.28846154, 0.875     , ..., 0.51145833, 0.7172619 ,\n",
              "       0.2594697 ])"
            ]
          },
          "metadata": {},
          "execution_count": 63
        }
      ]
    },
    {
      "cell_type": "code",
      "source": [
        "review_df.describe()"
      ],
      "metadata": {
        "colab": {
          "base_uri": "https://localhost:8080/",
          "height": 300
        },
        "id": "nmFz2T6UIK4z",
        "outputId": "6b9b8ac8-913b-4705-844e-38143fbc4fff"
      },
      "execution_count": null,
      "outputs": [
        {
          "output_type": "execute_result",
          "data": {
            "text/plain": [
              "       Sentiment_Polarity  Sentiment_Subjectivity\n",
              "count        37427.000000            37427.000000\n",
              "mean             0.182171                0.492770\n",
              "std              0.351318                0.259904\n",
              "min             -1.000000                0.000000\n",
              "25%              0.000000                0.357143\n",
              "50%              0.150000                0.514286\n",
              "75%              0.400000                0.650000\n",
              "max              1.000000                1.000000"
            ],
            "text/html": [
              "\n",
              "  <div id=\"df-c6539c12-4b28-40af-94c6-52907018f7d5\">\n",
              "    <div class=\"colab-df-container\">\n",
              "      <div>\n",
              "<style scoped>\n",
              "    .dataframe tbody tr th:only-of-type {\n",
              "        vertical-align: middle;\n",
              "    }\n",
              "\n",
              "    .dataframe tbody tr th {\n",
              "        vertical-align: top;\n",
              "    }\n",
              "\n",
              "    .dataframe thead th {\n",
              "        text-align: right;\n",
              "    }\n",
              "</style>\n",
              "<table border=\"1\" class=\"dataframe\">\n",
              "  <thead>\n",
              "    <tr style=\"text-align: right;\">\n",
              "      <th></th>\n",
              "      <th>Sentiment_Polarity</th>\n",
              "      <th>Sentiment_Subjectivity</th>\n",
              "    </tr>\n",
              "  </thead>\n",
              "  <tbody>\n",
              "    <tr>\n",
              "      <th>count</th>\n",
              "      <td>37427.000000</td>\n",
              "      <td>37427.000000</td>\n",
              "    </tr>\n",
              "    <tr>\n",
              "      <th>mean</th>\n",
              "      <td>0.182171</td>\n",
              "      <td>0.492770</td>\n",
              "    </tr>\n",
              "    <tr>\n",
              "      <th>std</th>\n",
              "      <td>0.351318</td>\n",
              "      <td>0.259904</td>\n",
              "    </tr>\n",
              "    <tr>\n",
              "      <th>min</th>\n",
              "      <td>-1.000000</td>\n",
              "      <td>0.000000</td>\n",
              "    </tr>\n",
              "    <tr>\n",
              "      <th>25%</th>\n",
              "      <td>0.000000</td>\n",
              "      <td>0.357143</td>\n",
              "    </tr>\n",
              "    <tr>\n",
              "      <th>50%</th>\n",
              "      <td>0.150000</td>\n",
              "      <td>0.514286</td>\n",
              "    </tr>\n",
              "    <tr>\n",
              "      <th>75%</th>\n",
              "      <td>0.400000</td>\n",
              "      <td>0.650000</td>\n",
              "    </tr>\n",
              "    <tr>\n",
              "      <th>max</th>\n",
              "      <td>1.000000</td>\n",
              "      <td>1.000000</td>\n",
              "    </tr>\n",
              "  </tbody>\n",
              "</table>\n",
              "</div>\n",
              "      <button class=\"colab-df-convert\" onclick=\"convertToInteractive('df-c6539c12-4b28-40af-94c6-52907018f7d5')\"\n",
              "              title=\"Convert this dataframe to an interactive table.\"\n",
              "              style=\"display:none;\">\n",
              "        \n",
              "  <svg xmlns=\"http://www.w3.org/2000/svg\" height=\"24px\"viewBox=\"0 0 24 24\"\n",
              "       width=\"24px\">\n",
              "    <path d=\"M0 0h24v24H0V0z\" fill=\"none\"/>\n",
              "    <path d=\"M18.56 5.44l.94 2.06.94-2.06 2.06-.94-2.06-.94-.94-2.06-.94 2.06-2.06.94zm-11 1L8.5 8.5l.94-2.06 2.06-.94-2.06-.94L8.5 2.5l-.94 2.06-2.06.94zm10 10l.94 2.06.94-2.06 2.06-.94-2.06-.94-.94-2.06-.94 2.06-2.06.94z\"/><path d=\"M17.41 7.96l-1.37-1.37c-.4-.4-.92-.59-1.43-.59-.52 0-1.04.2-1.43.59L10.3 9.45l-7.72 7.72c-.78.78-.78 2.05 0 2.83L4 21.41c.39.39.9.59 1.41.59.51 0 1.02-.2 1.41-.59l7.78-7.78 2.81-2.81c.8-.78.8-2.07 0-2.86zM5.41 20L4 18.59l7.72-7.72 1.47 1.35L5.41 20z\"/>\n",
              "  </svg>\n",
              "      </button>\n",
              "      \n",
              "  <style>\n",
              "    .colab-df-container {\n",
              "      display:flex;\n",
              "      flex-wrap:wrap;\n",
              "      gap: 12px;\n",
              "    }\n",
              "\n",
              "    .colab-df-convert {\n",
              "      background-color: #E8F0FE;\n",
              "      border: none;\n",
              "      border-radius: 50%;\n",
              "      cursor: pointer;\n",
              "      display: none;\n",
              "      fill: #1967D2;\n",
              "      height: 32px;\n",
              "      padding: 0 0 0 0;\n",
              "      width: 32px;\n",
              "    }\n",
              "\n",
              "    .colab-df-convert:hover {\n",
              "      background-color: #E2EBFA;\n",
              "      box-shadow: 0px 1px 2px rgba(60, 64, 67, 0.3), 0px 1px 3px 1px rgba(60, 64, 67, 0.15);\n",
              "      fill: #174EA6;\n",
              "    }\n",
              "\n",
              "    [theme=dark] .colab-df-convert {\n",
              "      background-color: #3B4455;\n",
              "      fill: #D2E3FC;\n",
              "    }\n",
              "\n",
              "    [theme=dark] .colab-df-convert:hover {\n",
              "      background-color: #434B5C;\n",
              "      box-shadow: 0px 1px 3px 1px rgba(0, 0, 0, 0.15);\n",
              "      filter: drop-shadow(0px 1px 2px rgba(0, 0, 0, 0.3));\n",
              "      fill: #FFFFFF;\n",
              "    }\n",
              "  </style>\n",
              "\n",
              "      <script>\n",
              "        const buttonEl =\n",
              "          document.querySelector('#df-c6539c12-4b28-40af-94c6-52907018f7d5 button.colab-df-convert');\n",
              "        buttonEl.style.display =\n",
              "          google.colab.kernel.accessAllowed ? 'block' : 'none';\n",
              "\n",
              "        async function convertToInteractive(key) {\n",
              "          const element = document.querySelector('#df-c6539c12-4b28-40af-94c6-52907018f7d5');\n",
              "          const dataTable =\n",
              "            await google.colab.kernel.invokeFunction('convertToInteractive',\n",
              "                                                     [key], {});\n",
              "          if (!dataTable) return;\n",
              "\n",
              "          const docLinkHtml = 'Like what you see? Visit the ' +\n",
              "            '<a target=\"_blank\" href=https://colab.research.google.com/notebooks/data_table.ipynb>data table notebook</a>'\n",
              "            + ' to learn more about interactive tables.';\n",
              "          element.innerHTML = '';\n",
              "          dataTable['output_type'] = 'display_data';\n",
              "          await google.colab.output.renderOutput(dataTable, element);\n",
              "          const docLink = document.createElement('div');\n",
              "          docLink.innerHTML = docLinkHtml;\n",
              "          element.appendChild(docLink);\n",
              "        }\n",
              "      </script>\n",
              "    </div>\n",
              "  </div>\n",
              "  "
            ]
          },
          "metadata": {},
          "execution_count": 64
        }
      ]
    },
    {
      "cell_type": "code",
      "source": [
        "df1 = review_df.groupby('Sentiment')['App'].count().reset_index()\n",
        "df1"
      ],
      "metadata": {
        "colab": {
          "base_uri": "https://localhost:8080/",
          "height": 143
        },
        "id": "3cvf8obYIbx-",
        "outputId": "efcc423c-ebf5-4b96-df2e-e3841d2bab66"
      },
      "execution_count": null,
      "outputs": [
        {
          "output_type": "execute_result",
          "data": {
            "text/plain": [
              "  Sentiment    App\n",
              "0  Negative   8271\n",
              "1   Neutral   5158\n",
              "2  Positive  23998"
            ],
            "text/html": [
              "\n",
              "  <div id=\"df-54142009-4dc7-4d94-b8f3-b82a5a00fd04\">\n",
              "    <div class=\"colab-df-container\">\n",
              "      <div>\n",
              "<style scoped>\n",
              "    .dataframe tbody tr th:only-of-type {\n",
              "        vertical-align: middle;\n",
              "    }\n",
              "\n",
              "    .dataframe tbody tr th {\n",
              "        vertical-align: top;\n",
              "    }\n",
              "\n",
              "    .dataframe thead th {\n",
              "        text-align: right;\n",
              "    }\n",
              "</style>\n",
              "<table border=\"1\" class=\"dataframe\">\n",
              "  <thead>\n",
              "    <tr style=\"text-align: right;\">\n",
              "      <th></th>\n",
              "      <th>Sentiment</th>\n",
              "      <th>App</th>\n",
              "    </tr>\n",
              "  </thead>\n",
              "  <tbody>\n",
              "    <tr>\n",
              "      <th>0</th>\n",
              "      <td>Negative</td>\n",
              "      <td>8271</td>\n",
              "    </tr>\n",
              "    <tr>\n",
              "      <th>1</th>\n",
              "      <td>Neutral</td>\n",
              "      <td>5158</td>\n",
              "    </tr>\n",
              "    <tr>\n",
              "      <th>2</th>\n",
              "      <td>Positive</td>\n",
              "      <td>23998</td>\n",
              "    </tr>\n",
              "  </tbody>\n",
              "</table>\n",
              "</div>\n",
              "      <button class=\"colab-df-convert\" onclick=\"convertToInteractive('df-54142009-4dc7-4d94-b8f3-b82a5a00fd04')\"\n",
              "              title=\"Convert this dataframe to an interactive table.\"\n",
              "              style=\"display:none;\">\n",
              "        \n",
              "  <svg xmlns=\"http://www.w3.org/2000/svg\" height=\"24px\"viewBox=\"0 0 24 24\"\n",
              "       width=\"24px\">\n",
              "    <path d=\"M0 0h24v24H0V0z\" fill=\"none\"/>\n",
              "    <path d=\"M18.56 5.44l.94 2.06.94-2.06 2.06-.94-2.06-.94-.94-2.06-.94 2.06-2.06.94zm-11 1L8.5 8.5l.94-2.06 2.06-.94-2.06-.94L8.5 2.5l-.94 2.06-2.06.94zm10 10l.94 2.06.94-2.06 2.06-.94-2.06-.94-.94-2.06-.94 2.06-2.06.94z\"/><path d=\"M17.41 7.96l-1.37-1.37c-.4-.4-.92-.59-1.43-.59-.52 0-1.04.2-1.43.59L10.3 9.45l-7.72 7.72c-.78.78-.78 2.05 0 2.83L4 21.41c.39.39.9.59 1.41.59.51 0 1.02-.2 1.41-.59l7.78-7.78 2.81-2.81c.8-.78.8-2.07 0-2.86zM5.41 20L4 18.59l7.72-7.72 1.47 1.35L5.41 20z\"/>\n",
              "  </svg>\n",
              "      </button>\n",
              "      \n",
              "  <style>\n",
              "    .colab-df-container {\n",
              "      display:flex;\n",
              "      flex-wrap:wrap;\n",
              "      gap: 12px;\n",
              "    }\n",
              "\n",
              "    .colab-df-convert {\n",
              "      background-color: #E8F0FE;\n",
              "      border: none;\n",
              "      border-radius: 50%;\n",
              "      cursor: pointer;\n",
              "      display: none;\n",
              "      fill: #1967D2;\n",
              "      height: 32px;\n",
              "      padding: 0 0 0 0;\n",
              "      width: 32px;\n",
              "    }\n",
              "\n",
              "    .colab-df-convert:hover {\n",
              "      background-color: #E2EBFA;\n",
              "      box-shadow: 0px 1px 2px rgba(60, 64, 67, 0.3), 0px 1px 3px 1px rgba(60, 64, 67, 0.15);\n",
              "      fill: #174EA6;\n",
              "    }\n",
              "\n",
              "    [theme=dark] .colab-df-convert {\n",
              "      background-color: #3B4455;\n",
              "      fill: #D2E3FC;\n",
              "    }\n",
              "\n",
              "    [theme=dark] .colab-df-convert:hover {\n",
              "      background-color: #434B5C;\n",
              "      box-shadow: 0px 1px 3px 1px rgba(0, 0, 0, 0.15);\n",
              "      filter: drop-shadow(0px 1px 2px rgba(0, 0, 0, 0.3));\n",
              "      fill: #FFFFFF;\n",
              "    }\n",
              "  </style>\n",
              "\n",
              "      <script>\n",
              "        const buttonEl =\n",
              "          document.querySelector('#df-54142009-4dc7-4d94-b8f3-b82a5a00fd04 button.colab-df-convert');\n",
              "        buttonEl.style.display =\n",
              "          google.colab.kernel.accessAllowed ? 'block' : 'none';\n",
              "\n",
              "        async function convertToInteractive(key) {\n",
              "          const element = document.querySelector('#df-54142009-4dc7-4d94-b8f3-b82a5a00fd04');\n",
              "          const dataTable =\n",
              "            await google.colab.kernel.invokeFunction('convertToInteractive',\n",
              "                                                     [key], {});\n",
              "          if (!dataTable) return;\n",
              "\n",
              "          const docLinkHtml = 'Like what you see? Visit the ' +\n",
              "            '<a target=\"_blank\" href=https://colab.research.google.com/notebooks/data_table.ipynb>data table notebook</a>'\n",
              "            + ' to learn more about interactive tables.';\n",
              "          element.innerHTML = '';\n",
              "          dataTable['output_type'] = 'display_data';\n",
              "          await google.colab.output.renderOutput(dataTable, element);\n",
              "          const docLink = document.createElement('div');\n",
              "          docLink.innerHTML = docLinkHtml;\n",
              "          element.appendChild(docLink);\n",
              "        }\n",
              "      </script>\n",
              "    </div>\n",
              "  </div>\n",
              "  "
            ]
          },
          "metadata": {},
          "execution_count": 65
        }
      ]
    },
    {
      "cell_type": "markdown",
      "source": [
        "# Q1 How many apps recieved a positive or negative sentiment?\n",
        "- We can observe below that most of the app have received a positive review. \n",
        "- This shows that most of the apps are liked by the people and also over a few apps people are indifferent as well.\n"
      ],
      "metadata": {
        "id": "3KtX5qdUR-yD"
      }
    },
    {
      "cell_type": "code",
      "source": [
        "plt.figure(figsize=(15,10))\n",
        "sns.barplot(x=df1['Sentiment'], y=df1['App'])\n",
        "plt.xticks(rotation = 80)\n",
        "plt.xlabel('Sentiment Types')\n",
        "plt.ylabel('Number of Apps')\n",
        "plt.title('Apps and their sentiments', color = 'Blue', fontsize= 30)\n",
        "plt.show()"
      ],
      "metadata": {
        "id": "8a30jD0OJE1h",
        "colab": {
          "base_uri": "https://localhost:8080/",
          "height": 670
        },
        "outputId": "9c484d00-13ce-4c80-9ab7-e6a70305d17c"
      },
      "execution_count": null,
      "outputs": [
        {
          "output_type": "display_data",
          "data": {
            "text/plain": [
              "<Figure size 1080x720 with 1 Axes>"
            ],
            "image/png": "[encoded data removed]"
          },
          "metadata": {
            "needs_background": "light"
          }
        }
      ]
    },
    {
      "cell_type": "markdown",
      "source": [
        "- As we can see the most of the apps have got positive reviews from the users. It is an important observation as in the later half we are going to inllustrate how reviews are linked with installs. .\n",
        "- For now we can state that reviews are useful for getting more installs whcih we are going to dig deeper as we proceed the analysis"
      ],
      "metadata": {
        "id": "YrMbkBh8y0l-"
      }
    },
    {
      "cell_type": "markdown",
      "source": [
        "# Q2 What is the relationship between  Sentiment and Sentiment Polarity?\n",
        "\n",
        "- We can observe that the most of the density of the positive value and the negative value are concentarated between 0 to 0.5 and 0 to -0.5 respectively. \n",
        "\n",
        "- Also the second graph between Sentiment Polarity and Sentiment Subjectivity shows a higher concentration of dots at the top right corner giving an indication that most are of revies are true reviews, and users are connected to the reviews in real. "
      ],
      "metadata": {
        "id": "32t8-6XvSO6z"
      }
    },
    {
      "cell_type": "code",
      "source": [
        "sns.violinplot(data = review_df, y = 'Sentiment', x = 'Sentiment_Polarity' , orient = 'h')\n",
        "plt.title('Sentiments and Sentiments Polarity', fontsize = 20)\n",
        "plt.show()"
      ],
      "metadata": {
        "colab": {
          "base_uri": "https://localhost:8080/",
          "height": 301
        },
        "id": "AwNKrpjvtCMu",
        "outputId": "be620de3-f8d2-4c00-a4a6-cf08c7865c07"
      },
      "execution_count": null,
      "outputs": [
        {
          "output_type": "display_data",
          "data": {
            "text/plain": [
              "<Figure size 432x288 with 1 Axes>"
            ],
            "image/png": "[encoded data removed]"
          },
          "metadata": {
            "needs_background": "light"
          }
        }
      ]
    },
    {
      "cell_type": "code",
      "source": [
        "review_df.groupby('Sentiment')['Sentiment_Polarity'].count().reset_index()"
      ],
      "metadata": {
        "colab": {
          "base_uri": "https://localhost:8080/",
          "height": 143
        },
        "id": "8ws_I8fi0YW2",
        "outputId": "c084652c-02d6-4a2a-b296-16a72a7ef671"
      },
      "execution_count": null,
      "outputs": [
        {
          "output_type": "execute_result",
          "data": {
            "text/plain": [
              "  Sentiment  Sentiment_Polarity\n",
              "0  Negative                8271\n",
              "1   Neutral                5158\n",
              "2  Positive               23998"
            ],
            "text/html": [
              "\n",
              "  <div id=\"df-2b3ff3f6-26e0-431b-b116-461008a8bb88\">\n",
              "    <div class=\"colab-df-container\">\n",
              "      <div>\n",
              "<style scoped>\n",
              "    .dataframe tbody tr th:only-of-type {\n",
              "        vertical-align: middle;\n",
              "    }\n",
              "\n",
              "    .dataframe tbody tr th {\n",
              "        vertical-align: top;\n",
              "    }\n",
              "\n",
              "    .dataframe thead th {\n",
              "        text-align: right;\n",
              "    }\n",
              "</style>\n",
              "<table border=\"1\" class=\"dataframe\">\n",
              "  <thead>\n",
              "    <tr style=\"text-align: right;\">\n",
              "      <th></th>\n",
              "      <th>Sentiment</th>\n",
              "      <th>Sentiment_Polarity</th>\n",
              "    </tr>\n",
              "  </thead>\n",
              "  <tbody>\n",
              "    <tr>\n",
              "      <th>0</th>\n",
              "      <td>Negative</td>\n",
              "      <td>8271</td>\n",
              "    </tr>\n",
              "    <tr>\n",
              "      <th>1</th>\n",
              "      <td>Neutral</td>\n",
              "      <td>5158</td>\n",
              "    </tr>\n",
              "    <tr>\n",
              "      <th>2</th>\n",
              "      <td>Positive</td>\n",
              "      <td>23998</td>\n",
              "    </tr>\n",
              "  </tbody>\n",
              "</table>\n",
              "</div>\n",
              "      <button class=\"colab-df-convert\" onclick=\"convertToInteractive('df-2b3ff3f6-26e0-431b-b116-461008a8bb88')\"\n",
              "              title=\"Convert this dataframe to an interactive table.\"\n",
              "              style=\"display:none;\">\n",
              "        \n",
              "  <svg xmlns=\"http://www.w3.org/2000/svg\" height=\"24px\"viewBox=\"0 0 24 24\"\n",
              "       width=\"24px\">\n",
              "    <path d=\"M0 0h24v24H0V0z\" fill=\"none\"/>\n",
              "    <path d=\"M18.56 5.44l.94 2.06.94-2.06 2.06-.94-2.06-.94-.94-2.06-.94 2.06-2.06.94zm-11 1L8.5 8.5l.94-2.06 2.06-.94-2.06-.94L8.5 2.5l-.94 2.06-2.06.94zm10 10l.94 2.06.94-2.06 2.06-.94-2.06-.94-.94-2.06-.94 2.06-2.06.94z\"/><path d=\"M17.41 7.96l-1.37-1.37c-.4-.4-.92-.59-1.43-.59-.52 0-1.04.2-1.43.59L10.3 9.45l-7.72 7.72c-.78.78-.78 2.05 0 2.83L4 21.41c.39.39.9.59 1.41.59.51 0 1.02-.2 1.41-.59l7.78-7.78 2.81-2.81c.8-.78.8-2.07 0-2.86zM5.41 20L4 18.59l7.72-7.72 1.47 1.35L5.41 20z\"/>\n",
              "  </svg>\n",
              "      </button>\n",
              "      \n",
              "  <style>\n",
              "    .colab-df-container {\n",
              "      display:flex;\n",
              "      flex-wrap:wrap;\n",
              "      gap: 12px;\n",
              "    }\n",
              "\n",
              "    .colab-df-convert {\n",
              "      background-color: #E8F0FE;\n",
              "      border: none;\n",
              "      border-radius: 50%;\n",
              "      cursor: pointer;\n",
              "      display: none;\n",
              "      fill: #1967D2;\n",
              "      height: 32px;\n",
              "      padding: 0 0 0 0;\n",
              "      width: 32px;\n",
              "    }\n",
              "\n",
              "    .colab-df-convert:hover {\n",
              "      background-color: #E2EBFA;\n",
              "      box-shadow: 0px 1px 2px rgba(60, 64, 67, 0.3), 0px 1px 3px 1px rgba(60, 64, 67, 0.15);\n",
              "      fill: #174EA6;\n",
              "    }\n",
              "\n",
              "    [theme=dark] .colab-df-convert {\n",
              "      background-color: #3B4455;\n",
              "      fill: #D2E3FC;\n",
              "    }\n",
              "\n",
              "    [theme=dark] .colab-df-convert:hover {\n",
              "      background-color: #434B5C;\n",
              "      box-shadow: 0px 1px 3px 1px rgba(0, 0, 0, 0.15);\n",
              "      filter: drop-shadow(0px 1px 2px rgba(0, 0, 0, 0.3));\n",
              "      fill: #FFFFFF;\n",
              "    }\n",
              "  </style>\n",
              "\n",
              "      <script>\n",
              "        const buttonEl =\n",
              "          document.querySelector('#df-2b3ff3f6-26e0-431b-b116-461008a8bb88 button.colab-df-convert');\n",
              "        buttonEl.style.display =\n",
              "          google.colab.kernel.accessAllowed ? 'block' : 'none';\n",
              "\n",
              "        async function convertToInteractive(key) {\n",
              "          const element = document.querySelector('#df-2b3ff3f6-26e0-431b-b116-461008a8bb88');\n",
              "          const dataTable =\n",
              "            await google.colab.kernel.invokeFunction('convertToInteractive',\n",
              "                                                     [key], {});\n",
              "          if (!dataTable) return;\n",
              "\n",
              "          const docLinkHtml = 'Like what you see? Visit the ' +\n",
              "            '<a target=\"_blank\" href=https://colab.research.google.com/notebooks/data_table.ipynb>data table notebook</a>'\n",
              "            + ' to learn more about interactive tables.';\n",
              "          element.innerHTML = '';\n",
              "          dataTable['output_type'] = 'display_data';\n",
              "          await google.colab.output.renderOutput(dataTable, element);\n",
              "          const docLink = document.createElement('div');\n",
              "          docLink.innerHTML = docLinkHtml;\n",
              "          element.appendChild(docLink);\n",
              "        }\n",
              "      </script>\n",
              "    </div>\n",
              "  </div>\n",
              "  "
            ]
          },
          "metadata": {},
          "execution_count": 68
        }
      ]
    },
    {
      "cell_type": "markdown",
      "source": [
        "- Polarity is the extent of positiveness or negativeness of the context, and as in the above violin plot we can see that the density is more concentrated towards zero, means so the mean is nearer to the zero value. \n",
        "- Also we can see that there are 23998 positive polarity where as only 8271 negative polarity, whcih shows the authencity of the positive reviews. "
      ],
      "metadata": {
        "id": "SNU1I396zgRV"
      }
    },
    {
      "cell_type": "code",
      "source": [
        "# This graph shows the positive relation between Polarity and Subjectivity\n",
        "g = sns.PairGrid(review_df)\n",
        "g.map_diag(sns.histplot)\n",
        "g.map_offdiag(sns.scatterplot)\n"
      ],
      "metadata": {
        "colab": {
          "base_uri": "https://localhost:8080/",
          "height": 387
        },
        "id": "dEa1jmFXh1pw",
        "outputId": "f0ef320f-f3b7-4787-fbc3-d29aa134a988"
      },
      "execution_count": null,
      "outputs": [
        {
          "output_type": "execute_result",
          "data": {
            "text/plain": [
              "<seaborn.axisgrid.PairGrid at 0x7fee626f04d0>"
            ]
          },
          "metadata": {},
          "execution_count": 69
        },
        {
          "output_type": "display_data",
          "data": {
            "text/plain": [
              "<Figure size 360x360 with 6 Axes>"
            ],
            "image/png": "[encoded data removed]"
          },
          "metadata": {
            "needs_background": "light"
          }
        }
      ]
    },
    {
      "cell_type": "markdown",
      "source": [
        "- The Jointplot above shows that shows that both Sentiment_polarity and Sentiment_Subjectivity are related to each other as we can see higher concentration of scattered diagram "
      ],
      "metadata": {
        "id": "JjI5Pn5jsbAs"
      }
    },
    {
      "cell_type": "markdown",
      "source": [
        "# Q3 What is the correlation between Sentiment Polarity and Sentiment Subjectivity?\n",
        " - As we can see that the correlation is 0.26 whcih means that the dependency of both the data are less, whcih shows that it is not necessary that both the columns are acting in sincronisation. \n",
        " "
      ],
      "metadata": {
        "id": "-e9hIS7sZfU7"
      }
    },
    {
      "cell_type": "code",
      "source": [
        "# plotting correlation heatmap\n",
        "plt.figure(figsize=(10,6))\n",
        "dataplot = sns.heatmap(review_df.corr(), annot=True, vmin= -1, fmt='5g', cmap=\"PiYG\", cbar=True, linewidths = 5, linecolor = 'Orange')\n",
        "# displaying heatmap\n",
        "plt.title('Correlation among all numerical value coloumn of Playstore Data', color = 'Red')\n",
        "plt.show()"
      ],
      "metadata": {
        "colab": {
          "base_uri": "https://localhost:8080/",
          "height": 391
        },
        "id": "W-IbMBTJak8b",
        "outputId": "d8c1fd9a-5d9a-44d1-d093-1ddd0f835fb7"
      },
      "execution_count": null,
      "outputs": [
        {
          "output_type": "display_data",
          "data": {
            "text/plain": [
              "<Figure size 720x432 with 2 Axes>"
            ],
            "image/png": "[encoded data removed]"
          },
          "metadata": {
            "needs_background": "light"
          }
        }
      ]
    },
    {
      "cell_type": "code",
      "source": [
        "review_df.corr()"
      ],
      "metadata": {
        "colab": {
          "base_uri": "https://localhost:8080/",
          "height": 112
        },
        "id": "W3TrelmLZK7j",
        "outputId": "6de7981c-5811-49ce-bc6c-f27c5adb4f19"
      },
      "execution_count": null,
      "outputs": [
        {
          "output_type": "execute_result",
          "data": {
            "text/plain": [
              "                        Sentiment_Polarity  Sentiment_Subjectivity\n",
              "Sentiment_Polarity                1.000000                0.261587\n",
              "Sentiment_Subjectivity            0.261587                1.000000"
            ],
            "text/html": [
              "\n",
              "  <div id=\"df-7317a7ec-b52d-4ef9-a7a8-4b5bb727ebfa\">\n",
              "    <div class=\"colab-df-container\">\n",
              "      <div>\n",
              "<style scoped>\n",
              "    .dataframe tbody tr th:only-of-type {\n",
              "        vertical-align: middle;\n",
              "    }\n",
              "\n",
              "    .dataframe tbody tr th {\n",
              "        vertical-align: top;\n",
              "    }\n",
              "\n",
              "    .dataframe thead th {\n",
              "        text-align: right;\n",
              "    }\n",
              "</style>\n",
              "<table border=\"1\" class=\"dataframe\">\n",
              "  <thead>\n",
              "    <tr style=\"text-align: right;\">\n",
              "      <th></th>\n",
              "      <th>Sentiment_Polarity</th>\n",
              "      <th>Sentiment_Subjectivity</th>\n",
              "    </tr>\n",
              "  </thead>\n",
              "  <tbody>\n",
              "    <tr>\n",
              "      <th>Sentiment_Polarity</th>\n",
              "      <td>1.000000</td>\n",
              "      <td>0.261587</td>\n",
              "    </tr>\n",
              "    <tr>\n",
              "      <th>Sentiment_Subjectivity</th>\n",
              "      <td>0.261587</td>\n",
              "      <td>1.000000</td>\n",
              "    </tr>\n",
              "  </tbody>\n",
              "</table>\n",
              "</div>\n",
              "      <button class=\"colab-df-convert\" onclick=\"convertToInteractive('df-7317a7ec-b52d-4ef9-a7a8-4b5bb727ebfa')\"\n",
              "              title=\"Convert this dataframe to an interactive table.\"\n",
              "              style=\"display:none;\">\n",
              "        \n",
              "  <svg xmlns=\"http://www.w3.org/2000/svg\" height=\"24px\"viewBox=\"0 0 24 24\"\n",
              "       width=\"24px\">\n",
              "    <path d=\"M0 0h24v24H0V0z\" fill=\"none\"/>\n",
              "    <path d=\"M18.56 5.44l.94 2.06.94-2.06 2.06-.94-2.06-.94-.94-2.06-.94 2.06-2.06.94zm-11 1L8.5 8.5l.94-2.06 2.06-.94-2.06-.94L8.5 2.5l-.94 2.06-2.06.94zm10 10l.94 2.06.94-2.06 2.06-.94-2.06-.94-.94-2.06-.94 2.06-2.06.94z\"/><path d=\"M17.41 7.96l-1.37-1.37c-.4-.4-.92-.59-1.43-.59-.52 0-1.04.2-1.43.59L10.3 9.45l-7.72 7.72c-.78.78-.78 2.05 0 2.83L4 21.41c.39.39.9.59 1.41.59.51 0 1.02-.2 1.41-.59l7.78-7.78 2.81-2.81c.8-.78.8-2.07 0-2.86zM5.41 20L4 18.59l7.72-7.72 1.47 1.35L5.41 20z\"/>\n",
              "  </svg>\n",
              "      </button>\n",
              "      \n",
              "  <style>\n",
              "    .colab-df-container {\n",
              "      display:flex;\n",
              "      flex-wrap:wrap;\n",
              "      gap: 12px;\n",
              "    }\n",
              "\n",
              "    .colab-df-convert {\n",
              "      background-color: #E8F0FE;\n",
              "      border: none;\n",
              "      border-radius: 50%;\n",
              "      cursor: pointer;\n",
              "      display: none;\n",
              "      fill: #1967D2;\n",
              "      height: 32px;\n",
              "      padding: 0 0 0 0;\n",
              "      width: 32px;\n",
              "    }\n",
              "\n",
              "    .colab-df-convert:hover {\n",
              "      background-color: #E2EBFA;\n",
              "      box-shadow: 0px 1px 2px rgba(60, 64, 67, 0.3), 0px 1px 3px 1px rgba(60, 64, 67, 0.15);\n",
              "      fill: #174EA6;\n",
              "    }\n",
              "\n",
              "    [theme=dark] .colab-df-convert {\n",
              "      background-color: #3B4455;\n",
              "      fill: #D2E3FC;\n",
              "    }\n",
              "\n",
              "    [theme=dark] .colab-df-convert:hover {\n",
              "      background-color: #434B5C;\n",
              "      box-shadow: 0px 1px 3px 1px rgba(0, 0, 0, 0.15);\n",
              "      filter: drop-shadow(0px 1px 2px rgba(0, 0, 0, 0.3));\n",
              "      fill: #FFFFFF;\n",
              "    }\n",
              "  </style>\n",
              "\n",
              "      <script>\n",
              "        const buttonEl =\n",
              "          document.querySelector('#df-7317a7ec-b52d-4ef9-a7a8-4b5bb727ebfa button.colab-df-convert');\n",
              "        buttonEl.style.display =\n",
              "          google.colab.kernel.accessAllowed ? 'block' : 'none';\n",
              "\n",
              "        async function convertToInteractive(key) {\n",
              "          const element = document.querySelector('#df-7317a7ec-b52d-4ef9-a7a8-4b5bb727ebfa');\n",
              "          const dataTable =\n",
              "            await google.colab.kernel.invokeFunction('convertToInteractive',\n",
              "                                                     [key], {});\n",
              "          if (!dataTable) return;\n",
              "\n",
              "          const docLinkHtml = 'Like what you see? Visit the ' +\n",
              "            '<a target=\"_blank\" href=https://colab.research.google.com/notebooks/data_table.ipynb>data table notebook</a>'\n",
              "            + ' to learn more about interactive tables.';\n",
              "          element.innerHTML = '';\n",
              "          dataTable['output_type'] = 'display_data';\n",
              "          await google.colab.output.renderOutput(dataTable, element);\n",
              "          const docLink = document.createElement('div');\n",
              "          docLink.innerHTML = docLinkHtml;\n",
              "          element.appendChild(docLink);\n",
              "        }\n",
              "      </script>\n",
              "    </div>\n",
              "  </div>\n",
              "  "
            ]
          },
          "metadata": {},
          "execution_count": 71
        }
      ]
    },
    {
      "cell_type": "markdown",
      "source": [
        "# Q4 What are the most number of apps available according to the category available?\n",
        "\n",
        "- We can see that the apps under the category of Family are the most and their number is also double compared to the number of second most common category app, i.e. Games\n",
        "- This shows that app developers really preferr to prepare apps related to family. \n",
        "- Follwed by Family and Games Category we have Tools, Medical and Business as the next three prferred categories. \n",
        "\n",
        "- The coategory under which there are least number of apps is Beauty followed by Comic, Parenting, Health, and Event\n"
      ],
      "metadata": {
        "id": "KzU0s9qZQr88"
      }
    },
    {
      "cell_type": "code",
      "source": [
        "y = playstore_df['Category'].value_counts().index\n",
        "x = playstore_df['Category'].value_counts()\n",
        "xsis = []\n",
        "ysis = []\n",
        "for i in range(len(x)):\n",
        "  xsis.append(x[i])\n",
        "  ysis.append(y[i])\n"
      ],
      "metadata": {
        "id": "J0Z6uk-l9MbX"
      },
      "execution_count": null,
      "outputs": []
    },
    {
      "cell_type": "code",
      "source": [
        "plt.figure(figsize=(20,13),)\n",
        "plt.xlabel(\"Count\", fontsize = 15)\n",
        "plt.ylabel(\"Category\", fontsize = 15)\n",
        "plt.yticks(fontsize =15)\n",
        "graph = sns.barplot(x = xsis, y = ysis, palette= \"husl\")\n",
        "graph.set_title(\"Top categories of Apps on Google Playstore\", fontsize = 30, color = 'Blue')\n",
        "plt.show()"
      ],
      "metadata": {
        "colab": {
          "base_uri": "https://localhost:8080/",
          "height": 803
        },
        "id": "rMt2nLDmFEed",
        "outputId": "57076b77-4516-4bfd-fc5f-c8fd9733b3e9"
      },
      "execution_count": null,
      "outputs": [
        {
          "output_type": "display_data",
          "data": {
            "text/plain": [
              "<Figure size 1440x936 with 1 Axes>"
            ],
            "image/png": "[encoded data removed]"
          },
          "metadata": {
            "needs_background": "light"
          }
        }
      ]
    },
    {
      "cell_type": "markdown",
      "source": [
        "# So we can see that there are in total 33 categories of App out of which the most prefered one is FAMILY followed by GAMES,TOOLS, MEDICAL, and BUSINESS, where as the least prefered apps are BEAUTY, COMICS, PARENTING, WEATHER, and EVENTS. "
      ],
      "metadata": {
        "id": "4EoFe8R-Rwk0"
      }
    },
    {
      "cell_type": "markdown",
      "source": [
        "# Now let us check the correlation between all columns of playstore data  and prepare a heatmap for the same \n"
      ],
      "metadata": {
        "id": "kz6mo02WZtOg"
      }
    },
    {
      "cell_type": "markdown",
      "source": [
        "# Q5 What is the corelation between different columns in the Playstore Data. \n",
        "# Insights from the correlation table \n",
        "- There is a higher digree of correlation between reviews and installs, which suggets that better reviews are important to get more installations. \n",
        "- Another important factor is that price is having a small degree of negative correlation with Rating, Reviews and installs. "
      ],
      "metadata": {
        "id": "S8cMq-eJY26L"
      }
    },
    {
      "cell_type": "code",
      "source": [
        "playstore_df.corr().round(2)"
      ],
      "metadata": {
        "colab": {
          "base_uri": "https://localhost:8080/",
          "height": 206
        },
        "id": "fETuqjDTFNdb",
        "outputId": "d1be138b-b118-4c98-8204-c1073a2866e5"
      },
      "execution_count": null,
      "outputs": [
        {
          "output_type": "execute_result",
          "data": {
            "text/plain": [
              "          Rating  Reviews  Size  Installs  Price\n",
              "Rating      1.00     0.08  0.08      0.05  -0.02\n",
              "Reviews     0.08     1.00  0.24      0.63  -0.01\n",
              "Size        0.08     0.24  1.00      0.16  -0.02\n",
              "Installs    0.05     0.63  0.16      1.00  -0.01\n",
              "Price      -0.02    -0.01 -0.02     -0.01   1.00"
            ],
            "text/html": [
              "\n",
              "  <div id=\"df-7ff69218-022f-4248-abb2-098eec907d17\">\n",
              "    <div class=\"colab-df-container\">\n",
              "      <div>\n",
              "<style scoped>\n",
              "    .dataframe tbody tr th:only-of-type {\n",
              "        vertical-align: middle;\n",
              "    }\n",
              "\n",
              "    .dataframe tbody tr th {\n",
              "        vertical-align: top;\n",
              "    }\n",
              "\n",
              "    .dataframe thead th {\n",
              "        text-align: right;\n",
              "    }\n",
              "</style>\n",
              "<table border=\"1\" class=\"dataframe\">\n",
              "  <thead>\n",
              "    <tr style=\"text-align: right;\">\n",
              "      <th></th>\n",
              "      <th>Rating</th>\n",
              "      <th>Reviews</th>\n",
              "      <th>Size</th>\n",
              "      <th>Installs</th>\n",
              "      <th>Price</th>\n",
              "    </tr>\n",
              "  </thead>\n",
              "  <tbody>\n",
              "    <tr>\n",
              "      <th>Rating</th>\n",
              "      <td>1.00</td>\n",
              "      <td>0.08</td>\n",
              "      <td>0.08</td>\n",
              "      <td>0.05</td>\n",
              "      <td>-0.02</td>\n",
              "    </tr>\n",
              "    <tr>\n",
              "      <th>Reviews</th>\n",
              "      <td>0.08</td>\n",
              "      <td>1.00</td>\n",
              "      <td>0.24</td>\n",
              "      <td>0.63</td>\n",
              "      <td>-0.01</td>\n",
              "    </tr>\n",
              "    <tr>\n",
              "      <th>Size</th>\n",
              "      <td>0.08</td>\n",
              "      <td>0.24</td>\n",
              "      <td>1.00</td>\n",
              "      <td>0.16</td>\n",
              "      <td>-0.02</td>\n",
              "    </tr>\n",
              "    <tr>\n",
              "      <th>Installs</th>\n",
              "      <td>0.05</td>\n",
              "      <td>0.63</td>\n",
              "      <td>0.16</td>\n",
              "      <td>1.00</td>\n",
              "      <td>-0.01</td>\n",
              "    </tr>\n",
              "    <tr>\n",
              "      <th>Price</th>\n",
              "      <td>-0.02</td>\n",
              "      <td>-0.01</td>\n",
              "      <td>-0.02</td>\n",
              "      <td>-0.01</td>\n",
              "      <td>1.00</td>\n",
              "    </tr>\n",
              "  </tbody>\n",
              "</table>\n",
              "</div>\n",
              "      <button class=\"colab-df-convert\" onclick=\"convertToInteractive('df-7ff69218-022f-4248-abb2-098eec907d17')\"\n",
              "              title=\"Convert this dataframe to an interactive table.\"\n",
              "              style=\"display:none;\">\n",
              "        \n",
              "  <svg xmlns=\"http://www.w3.org/2000/svg\" height=\"24px\"viewBox=\"0 0 24 24\"\n",
              "       width=\"24px\">\n",
              "    <path d=\"M0 0h24v24H0V0z\" fill=\"none\"/>\n",
              "    <path d=\"M18.56 5.44l.94 2.06.94-2.06 2.06-.94-2.06-.94-.94-2.06-.94 2.06-2.06.94zm-11 1L8.5 8.5l.94-2.06 2.06-.94-2.06-.94L8.5 2.5l-.94 2.06-2.06.94zm10 10l.94 2.06.94-2.06 2.06-.94-2.06-.94-.94-2.06-.94 2.06-2.06.94z\"/><path d=\"M17.41 7.96l-1.37-1.37c-.4-.4-.92-.59-1.43-.59-.52 0-1.04.2-1.43.59L10.3 9.45l-7.72 7.72c-.78.78-.78 2.05 0 2.83L4 21.41c.39.39.9.59 1.41.59.51 0 1.02-.2 1.41-.59l7.78-7.78 2.81-2.81c.8-.78.8-2.07 0-2.86zM5.41 20L4 18.59l7.72-7.72 1.47 1.35L5.41 20z\"/>\n",
              "  </svg>\n",
              "      </button>\n",
              "      \n",
              "  <style>\n",
              "    .colab-df-container {\n",
              "      display:flex;\n",
              "      flex-wrap:wrap;\n",
              "      gap: 12px;\n",
              "    }\n",
              "\n",
              "    .colab-df-convert {\n",
              "      background-color: #E8F0FE;\n",
              "      border: none;\n",
              "      border-radius: 50%;\n",
              "      cursor: pointer;\n",
              "      display: none;\n",
              "      fill: #1967D2;\n",
              "      height: 32px;\n",
              "      padding: 0 0 0 0;\n",
              "      width: 32px;\n",
              "    }\n",
              "\n",
              "    .colab-df-convert:hover {\n",
              "      background-color: #E2EBFA;\n",
              "      box-shadow: 0px 1px 2px rgba(60, 64, 67, 0.3), 0px 1px 3px 1px rgba(60, 64, 67, 0.15);\n",
              "      fill: #174EA6;\n",
              "    }\n",
              "\n",
              "    [theme=dark] .colab-df-convert {\n",
              "      background-color: #3B4455;\n",
              "      fill: #D2E3FC;\n",
              "    }\n",
              "\n",
              "    [theme=dark] .colab-df-convert:hover {\n",
              "      background-color: #434B5C;\n",
              "      box-shadow: 0px 1px 3px 1px rgba(0, 0, 0, 0.15);\n",
              "      filter: drop-shadow(0px 1px 2px rgba(0, 0, 0, 0.3));\n",
              "      fill: #FFFFFF;\n",
              "    }\n",
              "  </style>\n",
              "\n",
              "      <script>\n",
              "        const buttonEl =\n",
              "          document.querySelector('#df-7ff69218-022f-4248-abb2-098eec907d17 button.colab-df-convert');\n",
              "        buttonEl.style.display =\n",
              "          google.colab.kernel.accessAllowed ? 'block' : 'none';\n",
              "\n",
              "        async function convertToInteractive(key) {\n",
              "          const element = document.querySelector('#df-7ff69218-022f-4248-abb2-098eec907d17');\n",
              "          const dataTable =\n",
              "            await google.colab.kernel.invokeFunction('convertToInteractive',\n",
              "                                                     [key], {});\n",
              "          if (!dataTable) return;\n",
              "\n",
              "          const docLinkHtml = 'Like what you see? Visit the ' +\n",
              "            '<a target=\"_blank\" href=https://colab.research.google.com/notebooks/data_table.ipynb>data table notebook</a>'\n",
              "            + ' to learn more about interactive tables.';\n",
              "          element.innerHTML = '';\n",
              "          dataTable['output_type'] = 'display_data';\n",
              "          await google.colab.output.renderOutput(dataTable, element);\n",
              "          const docLink = document.createElement('div');\n",
              "          docLink.innerHTML = docLinkHtml;\n",
              "          element.appendChild(docLink);\n",
              "        }\n",
              "      </script>\n",
              "    </div>\n",
              "  </div>\n",
              "  "
            ]
          },
          "metadata": {},
          "execution_count": 74
        }
      ]
    },
    {
      "cell_type": "code",
      "source": [
        "# plotting correlation heatmap\n",
        "plt.figure(figsize=(10,6))\n",
        "dataplot = sns.heatmap(playstore_df.corr(), annot=True, vmin= -1, fmt='5g', cmap=\"YlGnBu\", cbar=True, linewidths = 5, linecolor = 'Orange')\n",
        "# displaying heatmap\n",
        "plt.title('Correlation among all numerical value coloumn of Playstore Data', color = 'Red')\n",
        "plt.show()"
      ],
      "metadata": {
        "colab": {
          "base_uri": "https://localhost:8080/",
          "height": 390
        },
        "id": "lx5NGoGNZ55q",
        "outputId": "4c9f4324-e0c0-4a5f-a448-32426f99e21e"
      },
      "execution_count": null,
      "outputs": [
        {
          "output_type": "display_data",
          "data": {
            "text/plain": [
              "<Figure size 720x432 with 2 Axes>"
            ],
            "image/png": "[encoded data removed]"
          },
          "metadata": {
            "needs_background": "light"
          }
        }
      ]
    },
    {
      "cell_type": "markdown",
      "source": [
        "# Q6 What is the average price of all paid app of different categories?\n",
        "\n",
        "- As we can see there are many apps in the low cost or Free aone and there are very few apps whcih costs high \n",
        "\n",
        "- The density plot is also showing the greater concentration of apps in the range close to zero \n",
        "\n",
        "- The lineplot shows the apps of category Entertainment, Event, Finance, Food and Drink are highest cost applications "
      ],
      "metadata": {
        "id": "iZgQchkhekNX"
      }
    },
    {
      "cell_type": "code",
      "source": [
        "plt.figure(figsize = (15,10))\n",
        "plt.plot(playstore_df.Price)\n",
        "plt.show()"
      ],
      "metadata": {
        "colab": {
          "base_uri": "https://localhost:8080/",
          "height": 592
        },
        "id": "pCkUnAgIaaQn",
        "outputId": "49d83147-3d76-4de3-9707-eab47c51b9c7"
      },
      "execution_count": null,
      "outputs": [
        {
          "output_type": "display_data",
          "data": {
            "text/plain": [
              "<Figure size 1080x720 with 1 Axes>"
            ],
            "image/png": "[encoded data removed]"
          },
          "metadata": {
            "needs_background": "light"
          }
        }
      ]
    },
    {
      "cell_type": "code",
      "source": [
        "plt.figure(figsize = (10,10))\n",
        "sns.kdeplot(data = playstore_df, x = playstore_df['Price'], color = 'Blue', shade = True)\n",
        "plt.title('Density of apps in according to the price', color = 'Red')\n",
        "plt.xlabel('Price of apps on playstore')\n",
        "plt.ylabel('Density of apps on playstore')\n",
        "plt.show()\n",
        "print(\"skewness: %f\" %playstore_df['Price'].skew())\n",
        "print(\"kurtosis: %f\" %playstore_df['Price'].kurt())"
      ],
      "metadata": {
        "colab": {
          "base_uri": "https://localhost:8080/",
          "height": 656
        },
        "id": "B0TRKBxpeouR",
        "outputId": "3c5f540b-bf60-4073-d8aa-f3195f4ca9cd"
      },
      "execution_count": null,
      "outputs": [
        {
          "output_type": "display_data",
          "data": {
            "text/plain": [
              "<Figure size 720x720 with 1 Axes>"
            ],
            "image/png": "[encoded data removed]"
          },
          "metadata": {
            "needs_background": "light"
          }
        },
        {
          "output_type": "stream",
          "name": "stdout",
          "text": [
            "skewness: 21.771974\n",
            "kurtosis: 487.052955\n"
          ]
        }
      ]
    },
    {
      "cell_type": "code",
      "source": [
        "plt.figure(figsize=(15,9))\n",
        "sns.lineplot(x= playstore_df.Category, y= playstore_df.Price)\n",
        "plt.xlabel(\"Category\")\n",
        "plt.ylabel(\"Price\")\n",
        "plt.tick_params(rotation=80)\n",
        "plt.title(\"Category Vs Price\")\n",
        "plt.show()"
      ],
      "metadata": {
        "colab": {
          "base_uri": "https://localhost:8080/",
          "height": 683
        },
        "id": "2K_-HQ1sfF9E",
        "outputId": "4f7c79e1-e800-4184-8d11-dcaa767e8b5c"
      },
      "execution_count": null,
      "outputs": [
        {
          "output_type": "display_data",
          "data": {
            "text/plain": [
              "<Figure size 1080x648 with 1 Axes>"
            ],
            "image/png": "[encoded data removed]"
          },
          "metadata": {
            "needs_background": "light"
          }
        }
      ]
    },
    {
      "cell_type": "markdown",
      "source": [
        "# Q7 Which category of App got greater review?\n",
        "\n",
        "- As we can see from the bar graph, though that the most number of apps are available in the category of Family, but the Category Review recieved the highest number of reviews/ \n",
        "\n",
        "- Also from the heatmap of Playstore dataframe it is already clear that Rating are an important factor for installation, so we have a greater probablity of apps under Games category to get install. "
      ],
      "metadata": {
        "id": "irqdKYjMp7eP"
      }
    },
    {
      "cell_type": "code",
      "source": [
        "# Creating a list of all categories under reviews \n",
        "category_list = list(playstore_df['Category'].unique())\n",
        "category_review = []\n",
        "for i in category_list:\n",
        "  x = playstore_df[playstore_df['Category'] == i]\n",
        "  if(len(x)!=0):\n",
        "    review = sum(x.Reviews)/len(x)\n",
        "    category_review.append(review)\n",
        "  else:\n",
        "    review = sum(x.Reviews)\n",
        "    category_review.append(review)"
      ],
      "metadata": {
        "id": "a2pjuTwYpOay"
      },
      "execution_count": null,
      "outputs": []
    },
    {
      "cell_type": "code",
      "source": [
        "# Checking the outcome of the above for loop through the groupby dataframe\n",
        "group_review = playstore_df.groupby('Category')['Reviews'].mean()"
      ],
      "metadata": {
        "id": "QdWONBf8qEzY"
      },
      "execution_count": null,
      "outputs": []
    },
    {
      "cell_type": "code",
      "source": [
        "group_review"
      ],
      "metadata": {
        "colab": {
          "base_uri": "https://localhost:8080/"
        },
        "id": "wiCiVMehqYyq",
        "outputId": "2c7c4500-1e14-4db1-8d92-b50993a7c3fe"
      },
      "execution_count": null,
      "outputs": [
        {
          "output_type": "execute_result",
          "data": {
            "text/plain": [
              "Category\n",
              "ART_AND_DESIGN         1.782439e+04\n",
              "AUTO_AND_VEHICLES      1.323096e+04\n",
              "BEAUTY                 3.975660e+03\n",
              "BOOKS_AND_REFERENCE    2.068582e+04\n",
              "BUSINESS               1.536240e+04\n",
              "COMICS                 1.208224e+04\n",
              "COMMUNICATION          4.419043e+05\n",
              "DATING                 1.839861e+04\n",
              "EDUCATION              6.377884e+04\n",
              "ENTERTAINMENT          1.621530e+05\n",
              "EVENTS                 2.221912e+03\n",
              "FAMILY                 1.591540e+05\n",
              "FINANCE                3.381877e+04\n",
              "FOOD_AND_DRINK         4.287507e+04\n",
              "GAME                   1.330281e+06\n",
              "HEALTH_AND_FITNESS     3.817291e+04\n",
              "HOUSE_AND_HOME         2.418441e+04\n",
              "LIBRARIES_AND_DEMO     1.233731e+04\n",
              "LIFESTYLE              2.523556e+04\n",
              "MAPS_AND_NAVIGATION    3.394591e+04\n",
              "MEDICAL                3.279832e+03\n",
              "NEWS_AND_MAGAZINES     4.559378e+04\n",
              "PARENTING              1.638333e+04\n",
              "PERSONALIZATION        9.901074e+04\n",
              "PHOTOGRAPHY            3.029269e+05\n",
              "PRODUCTIVITY           1.438466e+05\n",
              "SHOPPING               2.337216e+05\n",
              "SOCIAL                 1.543188e+05\n",
              "SPORTS                 1.690429e+05\n",
              "TOOLS                  1.428451e+05\n",
              "TRAVEL_AND_LOCAL       4.020539e+04\n",
              "VIDEO_PLAYERS          1.836710e+05\n",
              "WEATHER                6.835140e+04\n",
              "Name: Reviews, dtype: float64"
            ]
          },
          "metadata": {},
          "execution_count": 81
        }
      ]
    },
    {
      "cell_type": "code",
      "source": [
        "data_category_reviews = pd.DataFrame({'category': category_list,'review':category_review})"
      ],
      "metadata": {
        "id": "5Y277PldqTKS"
      },
      "execution_count": null,
      "outputs": []
    },
    {
      "cell_type": "code",
      "source": [
        "data_category_reviews"
      ],
      "metadata": {
        "colab": {
          "base_uri": "https://localhost:8080/",
          "height": 1000
        },
        "id": "9oyFfe4YqXEr",
        "outputId": "2e87e876-3a05-4d93-e862-c43dfec371a4"
      },
      "execution_count": null,
      "outputs": [
        {
          "output_type": "execute_result",
          "data": {
            "text/plain": [
              "               category        review\n",
              "0        ART_AND_DESIGN  1.782439e+04\n",
              "1     AUTO_AND_VEHICLES  1.323096e+04\n",
              "2                BEAUTY  3.975660e+03\n",
              "3   BOOKS_AND_REFERENCE  2.068582e+04\n",
              "4              BUSINESS  1.536240e+04\n",
              "5                COMICS  1.208224e+04\n",
              "6         COMMUNICATION  4.419043e+05\n",
              "7                DATING  1.839861e+04\n",
              "8             EDUCATION  6.377884e+04\n",
              "9         ENTERTAINMENT  1.621530e+05\n",
              "10               EVENTS  2.221912e+03\n",
              "11              FINANCE  3.381877e+04\n",
              "12       FOOD_AND_DRINK  4.287507e+04\n",
              "13   HEALTH_AND_FITNESS  3.817291e+04\n",
              "14       HOUSE_AND_HOME  2.418441e+04\n",
              "15   LIBRARIES_AND_DEMO  1.233731e+04\n",
              "16            LIFESTYLE  2.523556e+04\n",
              "17                 GAME  1.330281e+06\n",
              "18               FAMILY  1.591540e+05\n",
              "19              MEDICAL  3.279832e+03\n",
              "20               SOCIAL  1.543188e+05\n",
              "21             SHOPPING  2.337216e+05\n",
              "22          PHOTOGRAPHY  3.029269e+05\n",
              "23               SPORTS  1.690429e+05\n",
              "24     TRAVEL_AND_LOCAL  4.020539e+04\n",
              "25                TOOLS  1.428451e+05\n",
              "26      PERSONALIZATION  9.901074e+04\n",
              "27         PRODUCTIVITY  1.438466e+05\n",
              "28            PARENTING  1.638333e+04\n",
              "29              WEATHER  6.835140e+04\n",
              "30        VIDEO_PLAYERS  1.836710e+05\n",
              "31   NEWS_AND_MAGAZINES  4.559378e+04\n",
              "32  MAPS_AND_NAVIGATION  3.394591e+04"
            ],
            "text/html": [
              "\n",
              "  <div id=\"df-cafa7f0e-92d6-4275-9b1e-7226330b46ae\">\n",
              "    <div class=\"colab-df-container\">\n",
              "      <div>\n",
              "<style scoped>\n",
              "    .dataframe tbody tr th:only-of-type {\n",
              "        vertical-align: middle;\n",
              "    }\n",
              "\n",
              "    .dataframe tbody tr th {\n",
              "        vertical-align: top;\n",
              "    }\n",
              "\n",
              "    .dataframe thead th {\n",
              "        text-align: right;\n",
              "    }\n",
              "</style>\n",
              "<table border=\"1\" class=\"dataframe\">\n",
              "  <thead>\n",
              "    <tr style=\"text-align: right;\">\n",
              "      <th></th>\n",
              "      <th>category</th>\n",
              "      <th>review</th>\n",
              "    </tr>\n",
              "  </thead>\n",
              "  <tbody>\n",
              "    <tr>\n",
              "      <th>0</th>\n",
              "      <td>ART_AND_DESIGN</td>\n",
              "      <td>1.782439e+04</td>\n",
              "    </tr>\n",
              "    <tr>\n",
              "      <th>1</th>\n",
              "      <td>AUTO_AND_VEHICLES</td>\n",
              "      <td>1.323096e+04</td>\n",
              "    </tr>\n",
              "    <tr>\n",
              "      <th>2</th>\n",
              "      <td>BEAUTY</td>\n",
              "      <td>3.975660e+03</td>\n",
              "    </tr>\n",
              "    <tr>\n",
              "      <th>3</th>\n",
              "      <td>BOOKS_AND_REFERENCE</td>\n",
              "      <td>2.068582e+04</td>\n",
              "    </tr>\n",
              "    <tr>\n",
              "      <th>4</th>\n",
              "      <td>BUSINESS</td>\n",
              "      <td>1.536240e+04</td>\n",
              "    </tr>\n",
              "    <tr>\n",
              "      <th>5</th>\n",
              "      <td>COMICS</td>\n",
              "      <td>1.208224e+04</td>\n",
              "    </tr>\n",
              "    <tr>\n",
              "      <th>6</th>\n",
              "      <td>COMMUNICATION</td>\n",
              "      <td>4.419043e+05</td>\n",
              "    </tr>\n",
              "    <tr>\n",
              "      <th>7</th>\n",
              "      <td>DATING</td>\n",
              "      <td>1.839861e+04</td>\n",
              "    </tr>\n",
              "    <tr>\n",
              "      <th>8</th>\n",
              "      <td>EDUCATION</td>\n",
              "      <td>6.377884e+04</td>\n",
              "    </tr>\n",
              "    <tr>\n",
              "      <th>9</th>\n",
              "      <td>ENTERTAINMENT</td>\n",
              "      <td>1.621530e+05</td>\n",
              "    </tr>\n",
              "    <tr>\n",
              "      <th>10</th>\n",
              "      <td>EVENTS</td>\n",
              "      <td>2.221912e+03</td>\n",
              "    </tr>\n",
              "    <tr>\n",
              "      <th>11</th>\n",
              "      <td>FINANCE</td>\n",
              "      <td>3.381877e+04</td>\n",
              "    </tr>\n",
              "    <tr>\n",
              "      <th>12</th>\n",
              "      <td>FOOD_AND_DRINK</td>\n",
              "      <td>4.287507e+04</td>\n",
              "    </tr>\n",
              "    <tr>\n",
              "      <th>13</th>\n",
              "      <td>HEALTH_AND_FITNESS</td>\n",
              "      <td>3.817291e+04</td>\n",
              "    </tr>\n",
              "    <tr>\n",
              "      <th>14</th>\n",
              "      <td>HOUSE_AND_HOME</td>\n",
              "      <td>2.418441e+04</td>\n",
              "    </tr>\n",
              "    <tr>\n",
              "      <th>15</th>\n",
              "      <td>LIBRARIES_AND_DEMO</td>\n",
              "      <td>1.233731e+04</td>\n",
              "    </tr>\n",
              "    <tr>\n",
              "      <th>16</th>\n",
              "      <td>LIFESTYLE</td>\n",
              "      <td>2.523556e+04</td>\n",
              "    </tr>\n",
              "    <tr>\n",
              "      <th>17</th>\n",
              "      <td>GAME</td>\n",
              "      <td>1.330281e+06</td>\n",
              "    </tr>\n",
              "    <tr>\n",
              "      <th>18</th>\n",
              "      <td>FAMILY</td>\n",
              "      <td>1.591540e+05</td>\n",
              "    </tr>\n",
              "    <tr>\n",
              "      <th>19</th>\n",
              "      <td>MEDICAL</td>\n",
              "      <td>3.279832e+03</td>\n",
              "    </tr>\n",
              "    <tr>\n",
              "      <th>20</th>\n",
              "      <td>SOCIAL</td>\n",
              "      <td>1.543188e+05</td>\n",
              "    </tr>\n",
              "    <tr>\n",
              "      <th>21</th>\n",
              "      <td>SHOPPING</td>\n",
              "      <td>2.337216e+05</td>\n",
              "    </tr>\n",
              "    <tr>\n",
              "      <th>22</th>\n",
              "      <td>PHOTOGRAPHY</td>\n",
              "      <td>3.029269e+05</td>\n",
              "    </tr>\n",
              "    <tr>\n",
              "      <th>23</th>\n",
              "      <td>SPORTS</td>\n",
              "      <td>1.690429e+05</td>\n",
              "    </tr>\n",
              "    <tr>\n",
              "      <th>24</th>\n",
              "      <td>TRAVEL_AND_LOCAL</td>\n",
              "      <td>4.020539e+04</td>\n",
              "    </tr>\n",
              "    <tr>\n",
              "      <th>25</th>\n",
              "      <td>TOOLS</td>\n",
              "      <td>1.428451e+05</td>\n",
              "    </tr>\n",
              "    <tr>\n",
              "      <th>26</th>\n",
              "      <td>PERSONALIZATION</td>\n",
              "      <td>9.901074e+04</td>\n",
              "    </tr>\n",
              "    <tr>\n",
              "      <th>27</th>\n",
              "      <td>PRODUCTIVITY</td>\n",
              "      <td>1.438466e+05</td>\n",
              "    </tr>\n",
              "    <tr>\n",
              "      <th>28</th>\n",
              "      <td>PARENTING</td>\n",
              "      <td>1.638333e+04</td>\n",
              "    </tr>\n",
              "    <tr>\n",
              "      <th>29</th>\n",
              "      <td>WEATHER</td>\n",
              "      <td>6.835140e+04</td>\n",
              "    </tr>\n",
              "    <tr>\n",
              "      <th>30</th>\n",
              "      <td>VIDEO_PLAYERS</td>\n",
              "      <td>1.836710e+05</td>\n",
              "    </tr>\n",
              "    <tr>\n",
              "      <th>31</th>\n",
              "      <td>NEWS_AND_MAGAZINES</td>\n",
              "      <td>4.559378e+04</td>\n",
              "    </tr>\n",
              "    <tr>\n",
              "      <th>32</th>\n",
              "      <td>MAPS_AND_NAVIGATION</td>\n",
              "      <td>3.394591e+04</td>\n",
              "    </tr>\n",
              "  </tbody>\n",
              "</table>\n",
              "</div>\n",
              "      <button class=\"colab-df-convert\" onclick=\"convertToInteractive('df-cafa7f0e-92d6-4275-9b1e-7226330b46ae')\"\n",
              "              title=\"Convert this dataframe to an interactive table.\"\n",
              "              style=\"display:none;\">\n",
              "        \n",
              "  <svg xmlns=\"http://www.w3.org/2000/svg\" height=\"24px\"viewBox=\"0 0 24 24\"\n",
              "       width=\"24px\">\n",
              "    <path d=\"M0 0h24v24H0V0z\" fill=\"none\"/>\n",
              "    <path d=\"M18.56 5.44l.94 2.06.94-2.06 2.06-.94-2.06-.94-.94-2.06-.94 2.06-2.06.94zm-11 1L8.5 8.5l.94-2.06 2.06-.94-2.06-.94L8.5 2.5l-.94 2.06-2.06.94zm10 10l.94 2.06.94-2.06 2.06-.94-2.06-.94-.94-2.06-.94 2.06-2.06.94z\"/><path d=\"M17.41 7.96l-1.37-1.37c-.4-.4-.92-.59-1.43-.59-.52 0-1.04.2-1.43.59L10.3 9.45l-7.72 7.72c-.78.78-.78 2.05 0 2.83L4 21.41c.39.39.9.59 1.41.59.51 0 1.02-.2 1.41-.59l7.78-7.78 2.81-2.81c.8-.78.8-2.07 0-2.86zM5.41 20L4 18.59l7.72-7.72 1.47 1.35L5.41 20z\"/>\n",
              "  </svg>\n",
              "      </button>\n",
              "      \n",
              "  <style>\n",
              "    .colab-df-container {\n",
              "      display:flex;\n",
              "      flex-wrap:wrap;\n",
              "      gap: 12px;\n",
              "    }\n",
              "\n",
              "    .colab-df-convert {\n",
              "      background-color: #E8F0FE;\n",
              "      border: none;\n",
              "      border-radius: 50%;\n",
              "      cursor: pointer;\n",
              "      display: none;\n",
              "      fill: #1967D2;\n",
              "      height: 32px;\n",
              "      padding: 0 0 0 0;\n",
              "      width: 32px;\n",
              "    }\n",
              "\n",
              "    .colab-df-convert:hover {\n",
              "      background-color: #E2EBFA;\n",
              "      box-shadow: 0px 1px 2px rgba(60, 64, 67, 0.3), 0px 1px 3px 1px rgba(60, 64, 67, 0.15);\n",
              "      fill: #174EA6;\n",
              "    }\n",
              "\n",
              "    [theme=dark] .colab-df-convert {\n",
              "      background-color: #3B4455;\n",
              "      fill: #D2E3FC;\n",
              "    }\n",
              "\n",
              "    [theme=dark] .colab-df-convert:hover {\n",
              "      background-color: #434B5C;\n",
              "      box-shadow: 0px 1px 3px 1px rgba(0, 0, 0, 0.15);\n",
              "      filter: drop-shadow(0px 1px 2px rgba(0, 0, 0, 0.3));\n",
              "      fill: #FFFFFF;\n",
              "    }\n",
              "  </style>\n",
              "\n",
              "      <script>\n",
              "        const buttonEl =\n",
              "          document.querySelector('#df-cafa7f0e-92d6-4275-9b1e-7226330b46ae button.colab-df-convert');\n",
              "        buttonEl.style.display =\n",
              "          google.colab.kernel.accessAllowed ? 'block' : 'none';\n",
              "\n",
              "        async function convertToInteractive(key) {\n",
              "          const element = document.querySelector('#df-cafa7f0e-92d6-4275-9b1e-7226330b46ae');\n",
              "          const dataTable =\n",
              "            await google.colab.kernel.invokeFunction('convertToInteractive',\n",
              "                                                     [key], {});\n",
              "          if (!dataTable) return;\n",
              "\n",
              "          const docLinkHtml = 'Like what you see? Visit the ' +\n",
              "            '<a target=\"_blank\" href=https://colab.research.google.com/notebooks/data_table.ipynb>data table notebook</a>'\n",
              "            + ' to learn more about interactive tables.';\n",
              "          element.innerHTML = '';\n",
              "          dataTable['output_type'] = 'display_data';\n",
              "          await google.colab.output.renderOutput(dataTable, element);\n",
              "          const docLink = document.createElement('div');\n",
              "          docLink.innerHTML = docLinkHtml;\n",
              "          element.appendChild(docLink);\n",
              "        }\n",
              "      </script>\n",
              "    </div>\n",
              "  </div>\n",
              "  "
            ]
          },
          "metadata": {},
          "execution_count": 83
        }
      ]
    },
    {
      "cell_type": "code",
      "source": [
        "# Sorting the dataframe data_category_review in descending order\n",
        "sorted_data = data_category_reviews.sort_values('review', ascending = False, ignore_index=True)"
      ],
      "metadata": {
        "id": "2nYrUshiqdOz"
      },
      "execution_count": null,
      "outputs": []
    },
    {
      "cell_type": "code",
      "source": [
        "sorted_data"
      ],
      "metadata": {
        "colab": {
          "base_uri": "https://localhost:8080/",
          "height": 1000
        },
        "id": "LpAiL6iJquIq",
        "outputId": "c7b9aab0-c913-4cfa-c379-6542ac4915a6"
      },
      "execution_count": null,
      "outputs": [
        {
          "output_type": "execute_result",
          "data": {
            "text/plain": [
              "               category        review\n",
              "0                  GAME  1.330281e+06\n",
              "1         COMMUNICATION  4.419043e+05\n",
              "2           PHOTOGRAPHY  3.029269e+05\n",
              "3              SHOPPING  2.337216e+05\n",
              "4         VIDEO_PLAYERS  1.836710e+05\n",
              "5                SPORTS  1.690429e+05\n",
              "6         ENTERTAINMENT  1.621530e+05\n",
              "7                FAMILY  1.591540e+05\n",
              "8                SOCIAL  1.543188e+05\n",
              "9          PRODUCTIVITY  1.438466e+05\n",
              "10                TOOLS  1.428451e+05\n",
              "11      PERSONALIZATION  9.901074e+04\n",
              "12              WEATHER  6.835140e+04\n",
              "13            EDUCATION  6.377884e+04\n",
              "14   NEWS_AND_MAGAZINES  4.559378e+04\n",
              "15       FOOD_AND_DRINK  4.287507e+04\n",
              "16     TRAVEL_AND_LOCAL  4.020539e+04\n",
              "17   HEALTH_AND_FITNESS  3.817291e+04\n",
              "18  MAPS_AND_NAVIGATION  3.394591e+04\n",
              "19              FINANCE  3.381877e+04\n",
              "20            LIFESTYLE  2.523556e+04\n",
              "21       HOUSE_AND_HOME  2.418441e+04\n",
              "22  BOOKS_AND_REFERENCE  2.068582e+04\n",
              "23               DATING  1.839861e+04\n",
              "24       ART_AND_DESIGN  1.782439e+04\n",
              "25            PARENTING  1.638333e+04\n",
              "26             BUSINESS  1.536240e+04\n",
              "27    AUTO_AND_VEHICLES  1.323096e+04\n",
              "28   LIBRARIES_AND_DEMO  1.233731e+04\n",
              "29               COMICS  1.208224e+04\n",
              "30               BEAUTY  3.975660e+03\n",
              "31              MEDICAL  3.279832e+03\n",
              "32               EVENTS  2.221912e+03"
            ],
            "text/html": [
              "\n",
              "  <div id=\"df-42e56573-4f8f-4588-b9ab-d4bcc7b91874\">\n",
              "    <div class=\"colab-df-container\">\n",
              "      <div>\n",
              "<style scoped>\n",
              "    .dataframe tbody tr th:only-of-type {\n",
              "        vertical-align: middle;\n",
              "    }\n",
              "\n",
              "    .dataframe tbody tr th {\n",
              "        vertical-align: top;\n",
              "    }\n",
              "\n",
              "    .dataframe thead th {\n",
              "        text-align: right;\n",
              "    }\n",
              "</style>\n",
              "<table border=\"1\" class=\"dataframe\">\n",
              "  <thead>\n",
              "    <tr style=\"text-align: right;\">\n",
              "      <th></th>\n",
              "      <th>category</th>\n",
              "      <th>review</th>\n",
              "    </tr>\n",
              "  </thead>\n",
              "  <tbody>\n",
              "    <tr>\n",
              "      <th>0</th>\n",
              "      <td>GAME</td>\n",
              "      <td>1.330281e+06</td>\n",
              "    </tr>\n",
              "    <tr>\n",
              "      <th>1</th>\n",
              "      <td>COMMUNICATION</td>\n",
              "      <td>4.419043e+05</td>\n",
              "    </tr>\n",
              "    <tr>\n",
              "      <th>2</th>\n",
              "      <td>PHOTOGRAPHY</td>\n",
              "      <td>3.029269e+05</td>\n",
              "    </tr>\n",
              "    <tr>\n",
              "      <th>3</th>\n",
              "      <td>SHOPPING</td>\n",
              "      <td>2.337216e+05</td>\n",
              "    </tr>\n",
              "    <tr>\n",
              "      <th>4</th>\n",
              "      <td>VIDEO_PLAYERS</td>\n",
              "      <td>1.836710e+05</td>\n",
              "    </tr>\n",
              "    <tr>\n",
              "      <th>5</th>\n",
              "      <td>SPORTS</td>\n",
              "      <td>1.690429e+05</td>\n",
              "    </tr>\n",
              "    <tr>\n",
              "      <th>6</th>\n",
              "      <td>ENTERTAINMENT</td>\n",
              "      <td>1.621530e+05</td>\n",
              "    </tr>\n",
              "    <tr>\n",
              "      <th>7</th>\n",
              "      <td>FAMILY</td>\n",
              "      <td>1.591540e+05</td>\n",
              "    </tr>\n",
              "    <tr>\n",
              "      <th>8</th>\n",
              "      <td>SOCIAL</td>\n",
              "      <td>1.543188e+05</td>\n",
              "    </tr>\n",
              "    <tr>\n",
              "      <th>9</th>\n",
              "      <td>PRODUCTIVITY</td>\n",
              "      <td>1.438466e+05</td>\n",
              "    </tr>\n",
              "    <tr>\n",
              "      <th>10</th>\n",
              "      <td>TOOLS</td>\n",
              "      <td>1.428451e+05</td>\n",
              "    </tr>\n",
              "    <tr>\n",
              "      <th>11</th>\n",
              "      <td>PERSONALIZATION</td>\n",
              "      <td>9.901074e+04</td>\n",
              "    </tr>\n",
              "    <tr>\n",
              "      <th>12</th>\n",
              "      <td>WEATHER</td>\n",
              "      <td>6.835140e+04</td>\n",
              "    </tr>\n",
              "    <tr>\n",
              "      <th>13</th>\n",
              "      <td>EDUCATION</td>\n",
              "      <td>6.377884e+04</td>\n",
              "    </tr>\n",
              "    <tr>\n",
              "      <th>14</th>\n",
              "      <td>NEWS_AND_MAGAZINES</td>\n",
              "      <td>4.559378e+04</td>\n",
              "    </tr>\n",
              "    <tr>\n",
              "      <th>15</th>\n",
              "      <td>FOOD_AND_DRINK</td>\n",
              "      <td>4.287507e+04</td>\n",
              "    </tr>\n",
              "    <tr>\n",
              "      <th>16</th>\n",
              "      <td>TRAVEL_AND_LOCAL</td>\n",
              "      <td>4.020539e+04</td>\n",
              "    </tr>\n",
              "    <tr>\n",
              "      <th>17</th>\n",
              "      <td>HEALTH_AND_FITNESS</td>\n",
              "      <td>3.817291e+04</td>\n",
              "    </tr>\n",
              "    <tr>\n",
              "      <th>18</th>\n",
              "      <td>MAPS_AND_NAVIGATION</td>\n",
              "      <td>3.394591e+04</td>\n",
              "    </tr>\n",
              "    <tr>\n",
              "      <th>19</th>\n",
              "      <td>FINANCE</td>\n",
              "      <td>3.381877e+04</td>\n",
              "    </tr>\n",
              "    <tr>\n",
              "      <th>20</th>\n",
              "      <td>LIFESTYLE</td>\n",
              "      <td>2.523556e+04</td>\n",
              "    </tr>\n",
              "    <tr>\n",
              "      <th>21</th>\n",
              "      <td>HOUSE_AND_HOME</td>\n",
              "      <td>2.418441e+04</td>\n",
              "    </tr>\n",
              "    <tr>\n",
              "      <th>22</th>\n",
              "      <td>BOOKS_AND_REFERENCE</td>\n",
              "      <td>2.068582e+04</td>\n",
              "    </tr>\n",
              "    <tr>\n",
              "      <th>23</th>\n",
              "      <td>DATING</td>\n",
              "      <td>1.839861e+04</td>\n",
              "    </tr>\n",
              "    <tr>\n",
              "      <th>24</th>\n",
              "      <td>ART_AND_DESIGN</td>\n",
              "      <td>1.782439e+04</td>\n",
              "    </tr>\n",
              "    <tr>\n",
              "      <th>25</th>\n",
              "      <td>PARENTING</td>\n",
              "      <td>1.638333e+04</td>\n",
              "    </tr>\n",
              "    <tr>\n",
              "      <th>26</th>\n",
              "      <td>BUSINESS</td>\n",
              "      <td>1.536240e+04</td>\n",
              "    </tr>\n",
              "    <tr>\n",
              "      <th>27</th>\n",
              "      <td>AUTO_AND_VEHICLES</td>\n",
              "      <td>1.323096e+04</td>\n",
              "    </tr>\n",
              "    <tr>\n",
              "      <th>28</th>\n",
              "      <td>LIBRARIES_AND_DEMO</td>\n",
              "      <td>1.233731e+04</td>\n",
              "    </tr>\n",
              "    <tr>\n",
              "      <th>29</th>\n",
              "      <td>COMICS</td>\n",
              "      <td>1.208224e+04</td>\n",
              "    </tr>\n",
              "    <tr>\n",
              "      <th>30</th>\n",
              "      <td>BEAUTY</td>\n",
              "      <td>3.975660e+03</td>\n",
              "    </tr>\n",
              "    <tr>\n",
              "      <th>31</th>\n",
              "      <td>MEDICAL</td>\n",
              "      <td>3.279832e+03</td>\n",
              "    </tr>\n",
              "    <tr>\n",
              "      <th>32</th>\n",
              "      <td>EVENTS</td>\n",
              "      <td>2.221912e+03</td>\n",
              "    </tr>\n",
              "  </tbody>\n",
              "</table>\n",
              "</div>\n",
              "      <button class=\"colab-df-convert\" onclick=\"convertToInteractive('df-42e56573-4f8f-4588-b9ab-d4bcc7b91874')\"\n",
              "              title=\"Convert this dataframe to an interactive table.\"\n",
              "              style=\"display:none;\">\n",
              "        \n",
              "  <svg xmlns=\"http://www.w3.org/2000/svg\" height=\"24px\"viewBox=\"0 0 24 24\"\n",
              "       width=\"24px\">\n",
              "    <path d=\"M0 0h24v24H0V0z\" fill=\"none\"/>\n",
              "    <path d=\"M18.56 5.44l.94 2.06.94-2.06 2.06-.94-2.06-.94-.94-2.06-.94 2.06-2.06.94zm-11 1L8.5 8.5l.94-2.06 2.06-.94-2.06-.94L8.5 2.5l-.94 2.06-2.06.94zm10 10l.94 2.06.94-2.06 2.06-.94-2.06-.94-.94-2.06-.94 2.06-2.06.94z\"/><path d=\"M17.41 7.96l-1.37-1.37c-.4-.4-.92-.59-1.43-.59-.52 0-1.04.2-1.43.59L10.3 9.45l-7.72 7.72c-.78.78-.78 2.05 0 2.83L4 21.41c.39.39.9.59 1.41.59.51 0 1.02-.2 1.41-.59l7.78-7.78 2.81-2.81c.8-.78.8-2.07 0-2.86zM5.41 20L4 18.59l7.72-7.72 1.47 1.35L5.41 20z\"/>\n",
              "  </svg>\n",
              "      </button>\n",
              "      \n",
              "  <style>\n",
              "    .colab-df-container {\n",
              "      display:flex;\n",
              "      flex-wrap:wrap;\n",
              "      gap: 12px;\n",
              "    }\n",
              "\n",
              "    .colab-df-convert {\n",
              "      background-color: #E8F0FE;\n",
              "      border: none;\n",
              "      border-radius: 50%;\n",
              "      cursor: pointer;\n",
              "      display: none;\n",
              "      fill: #1967D2;\n",
              "      height: 32px;\n",
              "      padding: 0 0 0 0;\n",
              "      width: 32px;\n",
              "    }\n",
              "\n",
              "    .colab-df-convert:hover {\n",
              "      background-color: #E2EBFA;\n",
              "      box-shadow: 0px 1px 2px rgba(60, 64, 67, 0.3), 0px 1px 3px 1px rgba(60, 64, 67, 0.15);\n",
              "      fill: #174EA6;\n",
              "    }\n",
              "\n",
              "    [theme=dark] .colab-df-convert {\n",
              "      background-color: #3B4455;\n",
              "      fill: #D2E3FC;\n",
              "    }\n",
              "\n",
              "    [theme=dark] .colab-df-convert:hover {\n",
              "      background-color: #434B5C;\n",
              "      box-shadow: 0px 1px 3px 1px rgba(0, 0, 0, 0.15);\n",
              "      filter: drop-shadow(0px 1px 2px rgba(0, 0, 0, 0.3));\n",
              "      fill: #FFFFFF;\n",
              "    }\n",
              "  </style>\n",
              "\n",
              "      <script>\n",
              "        const buttonEl =\n",
              "          document.querySelector('#df-42e56573-4f8f-4588-b9ab-d4bcc7b91874 button.colab-df-convert');\n",
              "        buttonEl.style.display =\n",
              "          google.colab.kernel.accessAllowed ? 'block' : 'none';\n",
              "\n",
              "        async function convertToInteractive(key) {\n",
              "          const element = document.querySelector('#df-42e56573-4f8f-4588-b9ab-d4bcc7b91874');\n",
              "          const dataTable =\n",
              "            await google.colab.kernel.invokeFunction('convertToInteractive',\n",
              "                                                     [key], {});\n",
              "          if (!dataTable) return;\n",
              "\n",
              "          const docLinkHtml = 'Like what you see? Visit the ' +\n",
              "            '<a target=\"_blank\" href=https://colab.research.google.com/notebooks/data_table.ipynb>data table notebook</a>'\n",
              "            + ' to learn more about interactive tables.';\n",
              "          element.innerHTML = '';\n",
              "          dataTable['output_type'] = 'display_data';\n",
              "          await google.colab.output.renderOutput(dataTable, element);\n",
              "          const docLink = document.createElement('div');\n",
              "          docLink.innerHTML = docLinkHtml;\n",
              "          element.appendChild(docLink);\n",
              "        }\n",
              "      </script>\n",
              "    </div>\n",
              "  </div>\n",
              "  "
            ]
          },
          "metadata": {},
          "execution_count": 85
        }
      ]
    },
    {
      "cell_type": "code",
      "source": [
        "#visualisation\n",
        "plt.figure(figsize=(15,5))\n",
        "sns.barplot(x=sorted_data['category'], y=sorted_data['review'])\n",
        "plt.xticks(rotation=90)\n",
        "plt.xlabel(\"Category\")\n",
        "plt.ylabel(\"Reviews\")\n",
        "plt.title(\"Category and Reviews\")\n",
        "plt.show()"
      ],
      "metadata": {
        "colab": {
          "base_uri": "https://localhost:8080/",
          "height": 466
        },
        "id": "0ImRlBrCqv9c",
        "outputId": "283a7909-d1ca-4e65-9113-1eb459b6fbd9"
      },
      "execution_count": null,
      "outputs": [
        {
          "output_type": "display_data",
          "data": {
            "text/plain": [
              "<Figure size 1080x360 with 1 Axes>"
            ],
            "image/png": "[encoded data removed]"
          },
          "metadata": {
            "needs_background": "light"
          }
        }
      ]
    },
    {
      "cell_type": "markdown",
      "source": [
        "# Q8 What is the impact of Rating on paid apps?\n",
        "\n",
        "- What we can observe from the bar graph, is that most of the paid apps have rating 4+ whcih shows that people trust these apps, and that's why they are paid \n",
        "\n"
      ],
      "metadata": {
        "id": "M7vZYmBUs4Fi"
      }
    },
    {
      "cell_type": "code",
      "source": [
        "# Creating a dataframe of all paid apps only \n",
        "paid_app_playstore_df = playstore_df[playstore_df['Type']=='Paid'].reset_index()\n",
        "paid_app_playstore_df.set_index('index', inplace =True)"
      ],
      "metadata": {
        "id": "nl91zU-Pu-3q"
      },
      "execution_count": null,
      "outputs": []
    },
    {
      "cell_type": "code",
      "source": [
        "paid_app_playstore_df.head()"
      ],
      "metadata": {
        "colab": {
          "base_uri": "https://localhost:8080/",
          "height": 237
        },
        "id": "85fPNO8-_0AM",
        "outputId": "d4623f78-99d2-4a61-83fc-2c2357df04e3"
      },
      "execution_count": null,
      "outputs": [
        {
          "output_type": "execute_result",
          "data": {
            "text/plain": [
              "                                                 App  Category  Rating  \\\n",
              "index                                                                    \n",
              "234    TurboScan: scan documents and receipts in PDF  BUSINESS     4.7   \n",
              "235                   Tiny Scanner Pro: PDF Doc Scan  BUSINESS     4.8   \n",
              "290    TurboScan: scan documents and receipts in PDF  BUSINESS     4.7   \n",
              "291                   Tiny Scanner Pro: PDF Doc Scan  BUSINESS     4.8   \n",
              "477                                       Calculator    DATING     2.6   \n",
              "\n",
              "       Reviews     Size  Installs  Type  Price Content Rating    Genres  \\\n",
              "index                                                                     \n",
              "234      11442   6800.0  100000.0  Paid   4.99       Everyone  Business   \n",
              "235      10295  39000.0  100000.0  Paid   4.99       Everyone  Business   \n",
              "290      11442   6800.0  100000.0  Paid   4.99       Everyone  Business   \n",
              "291      10295  39000.0  100000.0  Paid   4.99       Everyone  Business   \n",
              "477         57   6200.0    1000.0  Paid   6.99       Everyone    Dating   \n",
              "\n",
              "      Last Updated Current Ver Android Ver  \n",
              "index                                       \n",
              "234     2018-03-25       1.5.2  4.0 and up  \n",
              "235     2017-04-11       3.4.6  3.0 and up  \n",
              "290     2018-03-25       1.5.2  4.0 and up  \n",
              "291     2017-04-11       3.4.6  3.0 and up  \n",
              "477     2017-10-25       1.1.6  4.0 and up  "
            ],
            "text/html": [
              "\n",
              "  <div id=\"df-ebd89f35-a5df-4f67-ad6d-f8a9e0cb9b99\">\n",
              "    <div class=\"colab-df-container\">\n",
              "      <div>\n",
              "<style scoped>\n",
              "    .dataframe tbody tr th:only-of-type {\n",
              "        vertical-align: middle;\n",
              "    }\n",
              "\n",
              "    .dataframe tbody tr th {\n",
              "        vertical-align: top;\n",
              "    }\n",
              "\n",
              "    .dataframe thead th {\n",
              "        text-align: right;\n",
              "    }\n",
              "</style>\n",
              "<table border=\"1\" class=\"dataframe\">\n",
              "  <thead>\n",
              "    <tr style=\"text-align: right;\">\n",
              "      <th></th>\n",
              "      <th>App</th>\n",
              "      <th>Category</th>\n",
              "      <th>Rating</th>\n",
              "      <th>Reviews</th>\n",
              "      <th>Size</th>\n",
              "      <th>Installs</th>\n",
              "      <th>Type</th>\n",
              "      <th>Price</th>\n",
              "      <th>Content Rating</th>\n",
              "      <th>Genres</th>\n",
              "      <th>Last Updated</th>\n",
              "      <th>Current Ver</th>\n",
              "      <th>Android Ver</th>\n",
              "    </tr>\n",
              "    <tr>\n",
              "      <th>index</th>\n",
              "      <th></th>\n",
              "      <th></th>\n",
              "      <th></th>\n",
              "      <th></th>\n",
              "      <th></th>\n",
              "      <th></th>\n",
              "      <th></th>\n",
              "      <th></th>\n",
              "      <th></th>\n",
              "      <th></th>\n",
              "      <th></th>\n",
              "      <th></th>\n",
              "      <th></th>\n",
              "    </tr>\n",
              "  </thead>\n",
              "  <tbody>\n",
              "    <tr>\n",
              "      <th>234</th>\n",
              "      <td>TurboScan: scan documents and receipts in PDF</td>\n",
              "      <td>BUSINESS</td>\n",
              "      <td>4.7</td>\n",
              "      <td>11442</td>\n",
              "      <td>6800.0</td>\n",
              "      <td>100000.0</td>\n",
              "      <td>Paid</td>\n",
              "      <td>4.99</td>\n",
              "      <td>Everyone</td>\n",
              "      <td>Business</td>\n",
              "      <td>2018-03-25</td>\n",
              "      <td>1.5.2</td>\n",
              "      <td>4.0 and up</td>\n",
              "    </tr>\n",
              "    <tr>\n",
              "      <th>235</th>\n",
              "      <td>Tiny Scanner Pro: PDF Doc Scan</td>\n",
              "      <td>BUSINESS</td>\n",
              "      <td>4.8</td>\n",
              "      <td>10295</td>\n",
              "      <td>39000.0</td>\n",
              "      <td>100000.0</td>\n",
              "      <td>Paid</td>\n",
              "      <td>4.99</td>\n",
              "      <td>Everyone</td>\n",
              "      <td>Business</td>\n",
              "      <td>2017-04-11</td>\n",
              "      <td>3.4.6</td>\n",
              "      <td>3.0 and up</td>\n",
              "    </tr>\n",
              "    <tr>\n",
              "      <th>290</th>\n",
              "      <td>TurboScan: scan documents and receipts in PDF</td>\n",
              "      <td>BUSINESS</td>\n",
              "      <td>4.7</td>\n",
              "      <td>11442</td>\n",
              "      <td>6800.0</td>\n",
              "      <td>100000.0</td>\n",
              "      <td>Paid</td>\n",
              "      <td>4.99</td>\n",
              "      <td>Everyone</td>\n",
              "      <td>Business</td>\n",
              "      <td>2018-03-25</td>\n",
              "      <td>1.5.2</td>\n",
              "      <td>4.0 and up</td>\n",
              "    </tr>\n",
              "    <tr>\n",
              "      <th>291</th>\n",
              "      <td>Tiny Scanner Pro: PDF Doc Scan</td>\n",
              "      <td>BUSINESS</td>\n",
              "      <td>4.8</td>\n",
              "      <td>10295</td>\n",
              "      <td>39000.0</td>\n",
              "      <td>100000.0</td>\n",
              "      <td>Paid</td>\n",
              "      <td>4.99</td>\n",
              "      <td>Everyone</td>\n",
              "      <td>Business</td>\n",
              "      <td>2017-04-11</td>\n",
              "      <td>3.4.6</td>\n",
              "      <td>3.0 and up</td>\n",
              "    </tr>\n",
              "    <tr>\n",
              "      <th>477</th>\n",
              "      <td>Calculator</td>\n",
              "      <td>DATING</td>\n",
              "      <td>2.6</td>\n",
              "      <td>57</td>\n",
              "      <td>6200.0</td>\n",
              "      <td>1000.0</td>\n",
              "      <td>Paid</td>\n",
              "      <td>6.99</td>\n",
              "      <td>Everyone</td>\n",
              "      <td>Dating</td>\n",
              "      <td>2017-10-25</td>\n",
              "      <td>1.1.6</td>\n",
              "      <td>4.0 and up</td>\n",
              "    </tr>\n",
              "  </tbody>\n",
              "</table>\n",
              "</div>\n",
              "      <button class=\"colab-df-convert\" onclick=\"convertToInteractive('df-ebd89f35-a5df-4f67-ad6d-f8a9e0cb9b99')\"\n",
              "              title=\"Convert this dataframe to an interactive table.\"\n",
              "              style=\"display:none;\">\n",
              "        \n",
              "  <svg xmlns=\"http://www.w3.org/2000/svg\" height=\"24px\"viewBox=\"0 0 24 24\"\n",
              "       width=\"24px\">\n",
              "    <path d=\"M0 0h24v24H0V0z\" fill=\"none\"/>\n",
              "    <path d=\"M18.56 5.44l.94 2.06.94-2.06 2.06-.94-2.06-.94-.94-2.06-.94 2.06-2.06.94zm-11 1L8.5 8.5l.94-2.06 2.06-.94-2.06-.94L8.5 2.5l-.94 2.06-2.06.94zm10 10l.94 2.06.94-2.06 2.06-.94-2.06-.94-.94-2.06-.94 2.06-2.06.94z\"/><path d=\"M17.41 7.96l-1.37-1.37c-.4-.4-.92-.59-1.43-.59-.52 0-1.04.2-1.43.59L10.3 9.45l-7.72 7.72c-.78.78-.78 2.05 0 2.83L4 21.41c.39.39.9.59 1.41.59.51 0 1.02-.2 1.41-.59l7.78-7.78 2.81-2.81c.8-.78.8-2.07 0-2.86zM5.41 20L4 18.59l7.72-7.72 1.47 1.35L5.41 20z\"/>\n",
              "  </svg>\n",
              "      </button>\n",
              "      \n",
              "  <style>\n",
              "    .colab-df-container {\n",
              "      display:flex;\n",
              "      flex-wrap:wrap;\n",
              "      gap: 12px;\n",
              "    }\n",
              "\n",
              "    .colab-df-convert {\n",
              "      background-color: #E8F0FE;\n",
              "      border: none;\n",
              "      border-radius: 50%;\n",
              "      cursor: pointer;\n",
              "      display: none;\n",
              "      fill: #1967D2;\n",
              "      height: 32px;\n",
              "      padding: 0 0 0 0;\n",
              "      width: 32px;\n",
              "    }\n",
              "\n",
              "    .colab-df-convert:hover {\n",
              "      background-color: #E2EBFA;\n",
              "      box-shadow: 0px 1px 2px rgba(60, 64, 67, 0.3), 0px 1px 3px 1px rgba(60, 64, 67, 0.15);\n",
              "      fill: #174EA6;\n",
              "    }\n",
              "\n",
              "    [theme=dark] .colab-df-convert {\n",
              "      background-color: #3B4455;\n",
              "      fill: #D2E3FC;\n",
              "    }\n",
              "\n",
              "    [theme=dark] .colab-df-convert:hover {\n",
              "      background-color: #434B5C;\n",
              "      box-shadow: 0px 1px 3px 1px rgba(0, 0, 0, 0.15);\n",
              "      filter: drop-shadow(0px 1px 2px rgba(0, 0, 0, 0.3));\n",
              "      fill: #FFFFFF;\n",
              "    }\n",
              "  </style>\n",
              "\n",
              "      <script>\n",
              "        const buttonEl =\n",
              "          document.querySelector('#df-ebd89f35-a5df-4f67-ad6d-f8a9e0cb9b99 button.colab-df-convert');\n",
              "        buttonEl.style.display =\n",
              "          google.colab.kernel.accessAllowed ? 'block' : 'none';\n",
              "\n",
              "        async function convertToInteractive(key) {\n",
              "          const element = document.querySelector('#df-ebd89f35-a5df-4f67-ad6d-f8a9e0cb9b99');\n",
              "          const dataTable =\n",
              "            await google.colab.kernel.invokeFunction('convertToInteractive',\n",
              "                                                     [key], {});\n",
              "          if (!dataTable) return;\n",
              "\n",
              "          const docLinkHtml = 'Like what you see? Visit the ' +\n",
              "            '<a target=\"_blank\" href=https://colab.research.google.com/notebooks/data_table.ipynb>data table notebook</a>'\n",
              "            + ' to learn more about interactive tables.';\n",
              "          element.innerHTML = '';\n",
              "          dataTable['output_type'] = 'display_data';\n",
              "          await google.colab.output.renderOutput(dataTable, element);\n",
              "          const docLink = document.createElement('div');\n",
              "          docLink.innerHTML = docLinkHtml;\n",
              "          element.appendChild(docLink);\n",
              "        }\n",
              "      </script>\n",
              "    </div>\n",
              "  </div>\n",
              "  "
            ]
          },
          "metadata": {},
          "execution_count": 88
        }
      ]
    },
    {
      "cell_type": "code",
      "source": [
        "#visualisation\n",
        "plt.figure(figsize=(15,5))\n",
        "sns.barplot(x=paid_app_playstore_df['Category'], y=paid_app_playstore_df['Rating'])\n",
        "plt.xticks(rotation=90)\n",
        "plt.xlabel(\"Category\")\n",
        "plt.ylabel(\"Ratings\")\n",
        "plt.title(\"Category and Ratings\")\n",
        "plt.show()"
      ],
      "metadata": {
        "colab": {
          "base_uri": "https://localhost:8080/",
          "height": 466
        },
        "id": "k7PYfCx_zBoN",
        "outputId": "615f30b6-61d0-4d62-bec7-57cc3356cb93"
      },
      "execution_count": null,
      "outputs": [
        {
          "output_type": "display_data",
          "data": {
            "text/plain": [
              "<Figure size 1080x360 with 1 Axes>"
            ],
            "image/png": "[encoded data removed]"
          },
          "metadata": {
            "needs_background": "light"
          }
        }
      ]
    },
    {
      "cell_type": "markdown",
      "source": [
        "# Q9 What is the relationship between paid apps and Installations?\n",
        "\n",
        "- As we can observe from the graph that paid games app has highest number of installations which means they have a greater average earning. \n",
        "\n",
        "- Also we can observe that most of the paid apps categories have very few installations, whcih shows that users preferr Free apps. "
      ],
      "metadata": {
        "id": "rmZ6Fxzu1q2p"
      }
    },
    {
      "cell_type": "code",
      "source": [
        "plt.figure(figsize=(15,5))\n",
        "sns.barplot(x=paid_app_playstore_df['Category'], y=paid_app_playstore_df['Installs'])\n",
        "plt.xticks(rotation=90)\n",
        "plt.xlabel(\"Category\")\n",
        "plt.ylabel(\"Installs\")\n",
        "plt.title(\"Category and Reviews\")\n",
        "plt.show()"
      ],
      "metadata": {
        "colab": {
          "base_uri": "https://localhost:8080/",
          "height": 466
        },
        "id": "yxg9g30z0Ktb",
        "outputId": "5b330c88-69a1-4987-9a46-d07f5c793c48"
      },
      "execution_count": null,
      "outputs": [
        {
          "output_type": "display_data",
          "data": {
            "text/plain": [
              "<Figure size 1080x360 with 1 Axes>"
            ],
            "image/png": "[encoded data removed]"
          },
          "metadata": {
            "needs_background": "light"
          }
        }
      ]
    },
    {
      "cell_type": "markdown",
      "source": [
        "# Q10 What is the relation between review and installation?\n",
        "\n",
        "- Analysis\n",
        "\n",
        "- From the above bar diagram, it is concluded that REVIEWS have no much impact on INSTALLIONS of Paid Apps. Futher, as the no. of intalls increased, the more the Reviews for those apps.\n",
        "\n",
        "- Also, it shows that users are more frequntly giving reviews for paid apps. "
      ],
      "metadata": {
        "id": "NShLfXMLBOMz"
      }
    },
    {
      "cell_type": "code",
      "source": [
        "review_installs = paid_app_playstore_df[['App','Reviews','Installs']]"
      ],
      "metadata": {
        "id": "0xJw0m6G048l"
      },
      "execution_count": null,
      "outputs": []
    },
    {
      "cell_type": "code",
      "source": [
        "sorted_apps = review_installs.sort_values('Reviews', ascending = False, ignore_index=True)\n",
        "sorted_apps"
      ],
      "metadata": {
        "colab": {
          "base_uri": "https://localhost:8080/",
          "height": 424
        },
        "id": "pCnUx7MDAiGh",
        "outputId": "43a4053a-f34a-4761-f095-a32ee3153ed8"
      },
      "execution_count": null,
      "outputs": [
        {
          "output_type": "execute_result",
          "data": {
            "text/plain": [
              "                                App  Reviews    Installs\n",
              "0                     Hitman Sniper   408292  10000000.0\n",
              "1     Grand Theft Auto: San Andreas   348962   1000000.0\n",
              "2                       Bloons TD 5   190086   1000000.0\n",
              "3                 Where's My Water?   188740   1000000.0\n",
              "4        Card Wars - Adventure Time   129603   1000000.0\n",
              "..                              ...      ...         ...\n",
              "716  CZ-38 (vz 38) pistol explained        0         5.0\n",
              "717                    Reksio cz. 1        0        10.0\n",
              "718        Glanceable Ap Watch Face        0         5.0\n",
              "719  ReDNAKET DB Normalization Tool        0        10.0\n",
              "720            Word Search Tab 1 FR        0        50.0\n",
              "\n",
              "[721 rows x 3 columns]"
            ],
            "text/html": [
              "\n",
              "  <div id=\"df-0876f462-3cd6-40a6-8663-afccc50b1b0e\">\n",
              "    <div class=\"colab-df-container\">\n",
              "      <div>\n",
              "<style scoped>\n",
              "    .dataframe tbody tr th:only-of-type {\n",
              "        vertical-align: middle;\n",
              "    }\n",
              "\n",
              "    .dataframe tbody tr th {\n",
              "        vertical-align: top;\n",
              "    }\n",
              "\n",
              "    .dataframe thead th {\n",
              "        text-align: right;\n",
              "    }\n",
              "</style>\n",
              "<table border=\"1\" class=\"dataframe\">\n",
              "  <thead>\n",
              "    <tr style=\"text-align: right;\">\n",
              "      <th></th>\n",
              "      <th>App</th>\n",
              "      <th>Reviews</th>\n",
              "      <th>Installs</th>\n",
              "    </tr>\n",
              "  </thead>\n",
              "  <tbody>\n",
              "    <tr>\n",
              "      <th>0</th>\n",
              "      <td>Hitman Sniper</td>\n",
              "      <td>408292</td>\n",
              "      <td>10000000.0</td>\n",
              "    </tr>\n",
              "    <tr>\n",
              "      <th>1</th>\n",
              "      <td>Grand Theft Auto: San Andreas</td>\n",
              "      <td>348962</td>\n",
              "      <td>1000000.0</td>\n",
              "    </tr>\n",
              "    <tr>\n",
              "      <th>2</th>\n",
              "      <td>Bloons TD 5</td>\n",
              "      <td>190086</td>\n",
              "      <td>1000000.0</td>\n",
              "    </tr>\n",
              "    <tr>\n",
              "      <th>3</th>\n",
              "      <td>Where's My Water?</td>\n",
              "      <td>188740</td>\n",
              "      <td>1000000.0</td>\n",
              "    </tr>\n",
              "    <tr>\n",
              "      <th>4</th>\n",
              "      <td>Card Wars - Adventure Time</td>\n",
              "      <td>129603</td>\n",
              "      <td>1000000.0</td>\n",
              "    </tr>\n",
              "    <tr>\n",
              "      <th>...</th>\n",
              "      <td>...</td>\n",
              "      <td>...</td>\n",
              "      <td>...</td>\n",
              "    </tr>\n",
              "    <tr>\n",
              "      <th>716</th>\n",
              "      <td>CZ-38 (vz 38) pistol explained</td>\n",
              "      <td>0</td>\n",
              "      <td>5.0</td>\n",
              "    </tr>\n",
              "    <tr>\n",
              "      <th>717</th>\n",
              "      <td>Reksio cz. 1</td>\n",
              "      <td>0</td>\n",
              "      <td>10.0</td>\n",
              "    </tr>\n",
              "    <tr>\n",
              "      <th>718</th>\n",
              "      <td>Glanceable Ap Watch Face</td>\n",
              "      <td>0</td>\n",
              "      <td>5.0</td>\n",
              "    </tr>\n",
              "    <tr>\n",
              "      <th>719</th>\n",
              "      <td>ReDNAKET DB Normalization Tool</td>\n",
              "      <td>0</td>\n",
              "      <td>10.0</td>\n",
              "    </tr>\n",
              "    <tr>\n",
              "      <th>720</th>\n",
              "      <td>Word Search Tab 1 FR</td>\n",
              "      <td>0</td>\n",
              "      <td>50.0</td>\n",
              "    </tr>\n",
              "  </tbody>\n",
              "</table>\n",
              "<p>721 rows × 3 columns</p>\n",
              "</div>\n",
              "      <button class=\"colab-df-convert\" onclick=\"convertToInteractive('df-0876f462-3cd6-40a6-8663-afccc50b1b0e')\"\n",
              "              title=\"Convert this dataframe to an interactive table.\"\n",
              "              style=\"display:none;\">\n",
              "        \n",
              "  <svg xmlns=\"http://www.w3.org/2000/svg\" height=\"24px\"viewBox=\"0 0 24 24\"\n",
              "       width=\"24px\">\n",
              "    <path d=\"M0 0h24v24H0V0z\" fill=\"none\"/>\n",
              "    <path d=\"M18.56 5.44l.94 2.06.94-2.06 2.06-.94-2.06-.94-.94-2.06-.94 2.06-2.06.94zm-11 1L8.5 8.5l.94-2.06 2.06-.94-2.06-.94L8.5 2.5l-.94 2.06-2.06.94zm10 10l.94 2.06.94-2.06 2.06-.94-2.06-.94-.94-2.06-.94 2.06-2.06.94z\"/><path d=\"M17.41 7.96l-1.37-1.37c-.4-.4-.92-.59-1.43-.59-.52 0-1.04.2-1.43.59L10.3 9.45l-7.72 7.72c-.78.78-.78 2.05 0 2.83L4 21.41c.39.39.9.59 1.41.59.51 0 1.02-.2 1.41-.59l7.78-7.78 2.81-2.81c.8-.78.8-2.07 0-2.86zM5.41 20L4 18.59l7.72-7.72 1.47 1.35L5.41 20z\"/>\n",
              "  </svg>\n",
              "      </button>\n",
              "      \n",
              "  <style>\n",
              "    .colab-df-container {\n",
              "      display:flex;\n",
              "      flex-wrap:wrap;\n",
              "      gap: 12px;\n",
              "    }\n",
              "\n",
              "    .colab-df-convert {\n",
              "      background-color: #E8F0FE;\n",
              "      border: none;\n",
              "      border-radius: 50%;\n",
              "      cursor: pointer;\n",
              "      display: none;\n",
              "      fill: #1967D2;\n",
              "      height: 32px;\n",
              "      padding: 0 0 0 0;\n",
              "      width: 32px;\n",
              "    }\n",
              "\n",
              "    .colab-df-convert:hover {\n",
              "      background-color: #E2EBFA;\n",
              "      box-shadow: 0px 1px 2px rgba(60, 64, 67, 0.3), 0px 1px 3px 1px rgba(60, 64, 67, 0.15);\n",
              "      fill: #174EA6;\n",
              "    }\n",
              "\n",
              "    [theme=dark] .colab-df-convert {\n",
              "      background-color: #3B4455;\n",
              "      fill: #D2E3FC;\n",
              "    }\n",
              "\n",
              "    [theme=dark] .colab-df-convert:hover {\n",
              "      background-color: #434B5C;\n",
              "      box-shadow: 0px 1px 3px 1px rgba(0, 0, 0, 0.15);\n",
              "      filter: drop-shadow(0px 1px 2px rgba(0, 0, 0, 0.3));\n",
              "      fill: #FFFFFF;\n",
              "    }\n",
              "  </style>\n",
              "\n",
              "      <script>\n",
              "        const buttonEl =\n",
              "          document.querySelector('#df-0876f462-3cd6-40a6-8663-afccc50b1b0e button.colab-df-convert');\n",
              "        buttonEl.style.display =\n",
              "          google.colab.kernel.accessAllowed ? 'block' : 'none';\n",
              "\n",
              "        async function convertToInteractive(key) {\n",
              "          const element = document.querySelector('#df-0876f462-3cd6-40a6-8663-afccc50b1b0e');\n",
              "          const dataTable =\n",
              "            await google.colab.kernel.invokeFunction('convertToInteractive',\n",
              "                                                     [key], {});\n",
              "          if (!dataTable) return;\n",
              "\n",
              "          const docLinkHtml = 'Like what you see? Visit the ' +\n",
              "            '<a target=\"_blank\" href=https://colab.research.google.com/notebooks/data_table.ipynb>data table notebook</a>'\n",
              "            + ' to learn more about interactive tables.';\n",
              "          element.innerHTML = '';\n",
              "          dataTable['output_type'] = 'display_data';\n",
              "          await google.colab.output.renderOutput(dataTable, element);\n",
              "          const docLink = document.createElement('div');\n",
              "          docLink.innerHTML = docLinkHtml;\n",
              "          element.appendChild(docLink);\n",
              "        }\n",
              "      </script>\n",
              "    </div>\n",
              "  </div>\n",
              "  "
            ]
          },
          "metadata": {},
          "execution_count": 92
        }
      ]
    },
    {
      "cell_type": "code",
      "source": [
        "#visualisation\n",
        "plt.figure(figsize=(25,10))\n",
        "sns.barplot(x=sorted_apps['Installs'], y=sorted_apps['Reviews'])\n",
        "plt.xticks(rotation=60)\n",
        "plt.xlabel(\"Installs\")\n",
        "plt.ylabel(\"Reviews\")\n",
        "plt.title(\"Installs and Reviews\")\n",
        "plt.show()"
      ],
      "metadata": {
        "colab": {
          "base_uri": "https://localhost:8080/",
          "height": 644
        },
        "id": "-R_tfjOkAm4H",
        "outputId": "19445a95-72f6-40e2-ce46-82c0acc3c536"
      },
      "execution_count": null,
      "outputs": [
        {
          "output_type": "display_data",
          "data": {
            "text/plain": [
              "<Figure size 1800x720 with 1 Axes>"
            ],
            "image/png": "[encoded data removed]"
          },
          "metadata": {
            "needs_background": "light"
          }
        }
      ]
    },
    {
      "cell_type": "markdown",
      "source": [
        "# Q11 What is the relationship between Category and Installation in case of Free Apps?\n",
        "\n",
        "- Here also we can observe that Apps under the category Games is most installed\n",
        "\n",
        "- Also the number of installs in free apps under Games category are 5 times more than those of the second highest number of installs under the Family category\n"
      ],
      "metadata": {
        "id": "lkcvQG7aLBFw"
      }
    },
    {
      "cell_type": "code",
      "source": [
        "free_and_category_df = playstore_df[['Type','Category','Installs']]"
      ],
      "metadata": {
        "id": "1T6Hp-oWCqDf"
      },
      "execution_count": null,
      "outputs": []
    },
    {
      "cell_type": "code",
      "source": [
        "free_and_category_df=free_and_category_df[free_and_category_df.Type != 'Paid']"
      ],
      "metadata": {
        "id": "LnmzMYpwKIT_"
      },
      "execution_count": null,
      "outputs": []
    },
    {
      "cell_type": "code",
      "source": [
        "free_and_category_df"
      ],
      "metadata": {
        "colab": {
          "base_uri": "https://localhost:8080/",
          "height": 424
        },
        "id": "8H3CNOioKkZw",
        "outputId": "3447a6e4-c4d8-4037-ce18-916ed6fab219"
      },
      "execution_count": null,
      "outputs": [
        {
          "output_type": "execute_result",
          "data": {
            "text/plain": [
              "       Type        Category    Installs\n",
              "0      Free  ART_AND_DESIGN     10000.0\n",
              "1      Free  ART_AND_DESIGN    500000.0\n",
              "2      Free  ART_AND_DESIGN   5000000.0\n",
              "3      Free  ART_AND_DESIGN  50000000.0\n",
              "4      Free  ART_AND_DESIGN    100000.0\n",
              "...     ...             ...         ...\n",
              "10835  Free        BUSINESS        10.0\n",
              "10836  Free          FAMILY      5000.0\n",
              "10837  Free          FAMILY       100.0\n",
              "10838  Free         MEDICAL      1000.0\n",
              "10840  Free       LIFESTYLE  10000000.0\n",
              "\n",
              "[8414 rows x 3 columns]"
            ],
            "text/html": [
              "\n",
              "  <div id=\"df-ade1a6f4-6847-4af6-8853-51c9e4ecea20\">\n",
              "    <div class=\"colab-df-container\">\n",
              "      <div>\n",
              "<style scoped>\n",
              "    .dataframe tbody tr th:only-of-type {\n",
              "        vertical-align: middle;\n",
              "    }\n",
              "\n",
              "    .dataframe tbody tr th {\n",
              "        vertical-align: top;\n",
              "    }\n",
              "\n",
              "    .dataframe thead th {\n",
              "        text-align: right;\n",
              "    }\n",
              "</style>\n",
              "<table border=\"1\" class=\"dataframe\">\n",
              "  <thead>\n",
              "    <tr style=\"text-align: right;\">\n",
              "      <th></th>\n",
              "      <th>Type</th>\n",
              "      <th>Category</th>\n",
              "      <th>Installs</th>\n",
              "    </tr>\n",
              "  </thead>\n",
              "  <tbody>\n",
              "    <tr>\n",
              "      <th>0</th>\n",
              "      <td>Free</td>\n",
              "      <td>ART_AND_DESIGN</td>\n",
              "      <td>10000.0</td>\n",
              "    </tr>\n",
              "    <tr>\n",
              "      <th>1</th>\n",
              "      <td>Free</td>\n",
              "      <td>ART_AND_DESIGN</td>\n",
              "      <td>500000.0</td>\n",
              "    </tr>\n",
              "    <tr>\n",
              "      <th>2</th>\n",
              "      <td>Free</td>\n",
              "      <td>ART_AND_DESIGN</td>\n",
              "      <td>5000000.0</td>\n",
              "    </tr>\n",
              "    <tr>\n",
              "      <th>3</th>\n",
              "      <td>Free</td>\n",
              "      <td>ART_AND_DESIGN</td>\n",
              "      <td>50000000.0</td>\n",
              "    </tr>\n",
              "    <tr>\n",
              "      <th>4</th>\n",
              "      <td>Free</td>\n",
              "      <td>ART_AND_DESIGN</td>\n",
              "      <td>100000.0</td>\n",
              "    </tr>\n",
              "    <tr>\n",
              "      <th>...</th>\n",
              "      <td>...</td>\n",
              "      <td>...</td>\n",
              "      <td>...</td>\n",
              "    </tr>\n",
              "    <tr>\n",
              "      <th>10835</th>\n",
              "      <td>Free</td>\n",
              "      <td>BUSINESS</td>\n",
              "      <td>10.0</td>\n",
              "    </tr>\n",
              "    <tr>\n",
              "      <th>10836</th>\n",
              "      <td>Free</td>\n",
              "      <td>FAMILY</td>\n",
              "      <td>5000.0</td>\n",
              "    </tr>\n",
              "    <tr>\n",
              "      <th>10837</th>\n",
              "      <td>Free</td>\n",
              "      <td>FAMILY</td>\n",
              "      <td>100.0</td>\n",
              "    </tr>\n",
              "    <tr>\n",
              "      <th>10838</th>\n",
              "      <td>Free</td>\n",
              "      <td>MEDICAL</td>\n",
              "      <td>1000.0</td>\n",
              "    </tr>\n",
              "    <tr>\n",
              "      <th>10840</th>\n",
              "      <td>Free</td>\n",
              "      <td>LIFESTYLE</td>\n",
              "      <td>10000000.0</td>\n",
              "    </tr>\n",
              "  </tbody>\n",
              "</table>\n",
              "<p>8414 rows × 3 columns</p>\n",
              "</div>\n",
              "      <button class=\"colab-df-convert\" onclick=\"convertToInteractive('df-ade1a6f4-6847-4af6-8853-51c9e4ecea20')\"\n",
              "              title=\"Convert this dataframe to an interactive table.\"\n",
              "              style=\"display:none;\">\n",
              "        \n",
              "  <svg xmlns=\"http://www.w3.org/2000/svg\" height=\"24px\"viewBox=\"0 0 24 24\"\n",
              "       width=\"24px\">\n",
              "    <path d=\"M0 0h24v24H0V0z\" fill=\"none\"/>\n",
              "    <path d=\"M18.56 5.44l.94 2.06.94-2.06 2.06-.94-2.06-.94-.94-2.06-.94 2.06-2.06.94zm-11 1L8.5 8.5l.94-2.06 2.06-.94-2.06-.94L8.5 2.5l-.94 2.06-2.06.94zm10 10l.94 2.06.94-2.06 2.06-.94-2.06-.94-.94-2.06-.94 2.06-2.06.94z\"/><path d=\"M17.41 7.96l-1.37-1.37c-.4-.4-.92-.59-1.43-.59-.52 0-1.04.2-1.43.59L10.3 9.45l-7.72 7.72c-.78.78-.78 2.05 0 2.83L4 21.41c.39.39.9.59 1.41.59.51 0 1.02-.2 1.41-.59l7.78-7.78 2.81-2.81c.8-.78.8-2.07 0-2.86zM5.41 20L4 18.59l7.72-7.72 1.47 1.35L5.41 20z\"/>\n",
              "  </svg>\n",
              "      </button>\n",
              "      \n",
              "  <style>\n",
              "    .colab-df-container {\n",
              "      display:flex;\n",
              "      flex-wrap:wrap;\n",
              "      gap: 12px;\n",
              "    }\n",
              "\n",
              "    .colab-df-convert {\n",
              "      background-color: #E8F0FE;\n",
              "      border: none;\n",
              "      border-radius: 50%;\n",
              "      cursor: pointer;\n",
              "      display: none;\n",
              "      fill: #1967D2;\n",
              "      height: 32px;\n",
              "      padding: 0 0 0 0;\n",
              "      width: 32px;\n",
              "    }\n",
              "\n",
              "    .colab-df-convert:hover {\n",
              "      background-color: #E2EBFA;\n",
              "      box-shadow: 0px 1px 2px rgba(60, 64, 67, 0.3), 0px 1px 3px 1px rgba(60, 64, 67, 0.15);\n",
              "      fill: #174EA6;\n",
              "    }\n",
              "\n",
              "    [theme=dark] .colab-df-convert {\n",
              "      background-color: #3B4455;\n",
              "      fill: #D2E3FC;\n",
              "    }\n",
              "\n",
              "    [theme=dark] .colab-df-convert:hover {\n",
              "      background-color: #434B5C;\n",
              "      box-shadow: 0px 1px 3px 1px rgba(0, 0, 0, 0.15);\n",
              "      filter: drop-shadow(0px 1px 2px rgba(0, 0, 0, 0.3));\n",
              "      fill: #FFFFFF;\n",
              "    }\n",
              "  </style>\n",
              "\n",
              "      <script>\n",
              "        const buttonEl =\n",
              "          document.querySelector('#df-ade1a6f4-6847-4af6-8853-51c9e4ecea20 button.colab-df-convert');\n",
              "        buttonEl.style.display =\n",
              "          google.colab.kernel.accessAllowed ? 'block' : 'none';\n",
              "\n",
              "        async function convertToInteractive(key) {\n",
              "          const element = document.querySelector('#df-ade1a6f4-6847-4af6-8853-51c9e4ecea20');\n",
              "          const dataTable =\n",
              "            await google.colab.kernel.invokeFunction('convertToInteractive',\n",
              "                                                     [key], {});\n",
              "          if (!dataTable) return;\n",
              "\n",
              "          const docLinkHtml = 'Like what you see? Visit the ' +\n",
              "            '<a target=\"_blank\" href=https://colab.research.google.com/notebooks/data_table.ipynb>data table notebook</a>'\n",
              "            + ' to learn more about interactive tables.';\n",
              "          element.innerHTML = '';\n",
              "          dataTable['output_type'] = 'display_data';\n",
              "          await google.colab.output.renderOutput(dataTable, element);\n",
              "          const docLink = document.createElement('div');\n",
              "          docLink.innerHTML = docLinkHtml;\n",
              "          element.appendChild(docLink);\n",
              "        }\n",
              "      </script>\n",
              "    </div>\n",
              "  </div>\n",
              "  "
            ]
          },
          "metadata": {},
          "execution_count": 96
        }
      ]
    },
    {
      "cell_type": "code",
      "source": [
        "free_highest_Installs_df = free_and_category_df.groupby('Category')[['Installs']].sum().sort_values(by='Installs', ascending=False)"
      ],
      "metadata": {
        "id": "ybFhUb3NKpZX"
      },
      "execution_count": null,
      "outputs": []
    },
    {
      "cell_type": "code",
      "source": [
        "x2sis = []\n",
        "y2sis = []\n",
        "\n",
        "for i in range(len(free_highest_Installs_df)):\n",
        "    x2sis.append(free_highest_Installs_df.Installs[i])\n",
        "    y2sis.append(free_highest_Installs_df.index[i])\n",
        "\n",
        "plt.figure(figsize=(16,13))\n",
        "\n",
        "plt.xlabel(\"Installs\")\n",
        "plt.ylabel(\"Category\")\n",
        "graph = sns.barplot(x = x2sis, y = y2sis, alpha =0.9, palette= \"viridis\")\n",
        "graph.set_title(\"Installs\", fontsize = 25);"
      ],
      "metadata": {
        "colab": {
          "base_uri": "https://localhost:8080/",
          "height": 794
        },
        "id": "q689BQynKwEI",
        "outputId": "d29f2798-e553-42b1-aa20-c224613bc66e"
      },
      "execution_count": null,
      "outputs": [
        {
          "output_type": "display_data",
          "data": {
            "text/plain": [
              "<Figure size 1152x936 with 1 Axes>"
            ],
            "image/png": "[encoded data removed]"
          },
          "metadata": {
            "needs_background": "light"
          }
        }
      ]
    },
    {
      "cell_type": "markdown",
      "source": [
        "# Q12 What is the realtion between content rating and app installation?\n",
        "\n",
        "- As we can see the apps with the rating for \"everyone\" has the highest number of installation in both free and paid section. \n",
        "\n",
        "- Also the apps with rating 'Audults only 18+' and 'Unrated' has installation close to zero. \n",
        "\n"
      ],
      "metadata": {
        "id": "OV_bG07DQpOH"
      }
    },
    {
      "cell_type": "code",
      "source": [
        "plt.figure(figsize = (15, 6))\n",
        "sns.countplot(data = playstore_df, x='Content Rating', hue= 'Type')\n",
        "plt.title('Free and Paid Apps on the basis of Content Rating', color = 'Red', fontsize = 25)\n",
        "plt.xlabel('Content Rating', color = 'Blue', fontsize = 20)\n",
        "plt.ylabel('Free and Paid Apps', color = 'Blue', fontsize = 20)\n",
        "plt.show()"
      ],
      "metadata": {
        "colab": {
          "base_uri": "https://localhost:8080/",
          "height": 422
        },
        "id": "P0g8Rec0K5AA",
        "outputId": "f3fd1a3f-c32a-4f24-f913-e4fb0124527e"
      },
      "execution_count": null,
      "outputs": [
        {
          "output_type": "display_data",
          "data": {
            "text/plain": [
              "<Figure size 1080x432 with 1 Axes>"
            ],
            "image/png": "[encoded data removed]"
          },
          "metadata": {
            "needs_background": "light"
          }
        }
      ]
    },
    {
      "cell_type": "markdown",
      "source": [
        "# Q13 What are the top five apps on the basis of reviews?"
      ],
      "metadata": {
        "id": "S4IVUXtGRqPJ"
      }
    },
    {
      "cell_type": "code",
      "source": [
        "top_five_apps_review_df = playstore_df.groupby(by=['App', 'Category', 'Rating'])[['Reviews']].sum().reset_index()\n",
        "top_five_apps_review_df = top_five_apps_review_df.sort_values(by=['Reviews'], ascending=False)\n",
        "top_five_apps_review_df.head(5)"
      ],
      "metadata": {
        "colab": {
          "base_uri": "https://localhost:8080/",
          "height": 206
        },
        "id": "a3fsrfxTPb-4",
        "outputId": "a1dbb2f6-9654-4509-ce21-567c78517043"
      },
      "execution_count": null,
      "outputs": [
        {
          "output_type": "execute_result",
          "data": {
            "text/plain": [
              "                   App Category  Rating    Reviews\n",
              "7165    Subway Surfers     GAME     4.5  166331958\n",
              "2333    Clash of Clans     GAME     4.6  134677334\n",
              "2151  Candy Crush Saga     GAME     4.4  134573681\n",
              "89         8 Ball Pool     GAME     4.5   85201288\n",
              "2329      Clash Royale     GAME     4.6   69405018"
            ],
            "text/html": [
              "\n",
              "  <div id=\"df-ddc7e5a9-7429-4301-82de-ee2193232df3\">\n",
              "    <div class=\"colab-df-container\">\n",
              "      <div>\n",
              "<style scoped>\n",
              "    .dataframe tbody tr th:only-of-type {\n",
              "        vertical-align: middle;\n",
              "    }\n",
              "\n",
              "    .dataframe tbody tr th {\n",
              "        vertical-align: top;\n",
              "    }\n",
              "\n",
              "    .dataframe thead th {\n",
              "        text-align: right;\n",
              "    }\n",
              "</style>\n",
              "<table border=\"1\" class=\"dataframe\">\n",
              "  <thead>\n",
              "    <tr style=\"text-align: right;\">\n",
              "      <th></th>\n",
              "      <th>App</th>\n",
              "      <th>Category</th>\n",
              "      <th>Rating</th>\n",
              "      <th>Reviews</th>\n",
              "    </tr>\n",
              "  </thead>\n",
              "  <tbody>\n",
              "    <tr>\n",
              "      <th>7165</th>\n",
              "      <td>Subway Surfers</td>\n",
              "      <td>GAME</td>\n",
              "      <td>4.5</td>\n",
              "      <td>166331958</td>\n",
              "    </tr>\n",
              "    <tr>\n",
              "      <th>2333</th>\n",
              "      <td>Clash of Clans</td>\n",
              "      <td>GAME</td>\n",
              "      <td>4.6</td>\n",
              "      <td>134677334</td>\n",
              "    </tr>\n",
              "    <tr>\n",
              "      <th>2151</th>\n",
              "      <td>Candy Crush Saga</td>\n",
              "      <td>GAME</td>\n",
              "      <td>4.4</td>\n",
              "      <td>134573681</td>\n",
              "    </tr>\n",
              "    <tr>\n",
              "      <th>89</th>\n",
              "      <td>8 Ball Pool</td>\n",
              "      <td>GAME</td>\n",
              "      <td>4.5</td>\n",
              "      <td>85201288</td>\n",
              "    </tr>\n",
              "    <tr>\n",
              "      <th>2329</th>\n",
              "      <td>Clash Royale</td>\n",
              "      <td>GAME</td>\n",
              "      <td>4.6</td>\n",
              "      <td>69405018</td>\n",
              "    </tr>\n",
              "  </tbody>\n",
              "</table>\n",
              "</div>\n",
              "      <button class=\"colab-df-convert\" onclick=\"convertToInteractive('df-ddc7e5a9-7429-4301-82de-ee2193232df3')\"\n",
              "              title=\"Convert this dataframe to an interactive table.\"\n",
              "              style=\"display:none;\">\n",
              "        \n",
              "  <svg xmlns=\"http://www.w3.org/2000/svg\" height=\"24px\"viewBox=\"0 0 24 24\"\n",
              "       width=\"24px\">\n",
              "    <path d=\"M0 0h24v24H0V0z\" fill=\"none\"/>\n",
              "    <path d=\"M18.56 5.44l.94 2.06.94-2.06 2.06-.94-2.06-.94-.94-2.06-.94 2.06-2.06.94zm-11 1L8.5 8.5l.94-2.06 2.06-.94-2.06-.94L8.5 2.5l-.94 2.06-2.06.94zm10 10l.94 2.06.94-2.06 2.06-.94-2.06-.94-.94-2.06-.94 2.06-2.06.94z\"/><path d=\"M17.41 7.96l-1.37-1.37c-.4-.4-.92-.59-1.43-.59-.52 0-1.04.2-1.43.59L10.3 9.45l-7.72 7.72c-.78.78-.78 2.05 0 2.83L4 21.41c.39.39.9.59 1.41.59.51 0 1.02-.2 1.41-.59l7.78-7.78 2.81-2.81c.8-.78.8-2.07 0-2.86zM5.41 20L4 18.59l7.72-7.72 1.47 1.35L5.41 20z\"/>\n",
              "  </svg>\n",
              "      </button>\n",
              "      \n",
              "  <style>\n",
              "    .colab-df-container {\n",
              "      display:flex;\n",
              "      flex-wrap:wrap;\n",
              "      gap: 12px;\n",
              "    }\n",
              "\n",
              "    .colab-df-convert {\n",
              "      background-color: #E8F0FE;\n",
              "      border: none;\n",
              "      border-radius: 50%;\n",
              "      cursor: pointer;\n",
              "      display: none;\n",
              "      fill: #1967D2;\n",
              "      height: 32px;\n",
              "      padding: 0 0 0 0;\n",
              "      width: 32px;\n",
              "    }\n",
              "\n",
              "    .colab-df-convert:hover {\n",
              "      background-color: #E2EBFA;\n",
              "      box-shadow: 0px 1px 2px rgba(60, 64, 67, 0.3), 0px 1px 3px 1px rgba(60, 64, 67, 0.15);\n",
              "      fill: #174EA6;\n",
              "    }\n",
              "\n",
              "    [theme=dark] .colab-df-convert {\n",
              "      background-color: #3B4455;\n",
              "      fill: #D2E3FC;\n",
              "    }\n",
              "\n",
              "    [theme=dark] .colab-df-convert:hover {\n",
              "      background-color: #434B5C;\n",
              "      box-shadow: 0px 1px 3px 1px rgba(0, 0, 0, 0.15);\n",
              "      filter: drop-shadow(0px 1px 2px rgba(0, 0, 0, 0.3));\n",
              "      fill: #FFFFFF;\n",
              "    }\n",
              "  </style>\n",
              "\n",
              "      <script>\n",
              "        const buttonEl =\n",
              "          document.querySelector('#df-ddc7e5a9-7429-4301-82de-ee2193232df3 button.colab-df-convert');\n",
              "        buttonEl.style.display =\n",
              "          google.colab.kernel.accessAllowed ? 'block' : 'none';\n",
              "\n",
              "        async function convertToInteractive(key) {\n",
              "          const element = document.querySelector('#df-ddc7e5a9-7429-4301-82de-ee2193232df3');\n",
              "          const dataTable =\n",
              "            await google.colab.kernel.invokeFunction('convertToInteractive',\n",
              "                                                     [key], {});\n",
              "          if (!dataTable) return;\n",
              "\n",
              "          const docLinkHtml = 'Like what you see? Visit the ' +\n",
              "            '<a target=\"_blank\" href=https://colab.research.google.com/notebooks/data_table.ipynb>data table notebook</a>'\n",
              "            + ' to learn more about interactive tables.';\n",
              "          element.innerHTML = '';\n",
              "          dataTable['output_type'] = 'display_data';\n",
              "          await google.colab.output.renderOutput(dataTable, element);\n",
              "          const docLink = document.createElement('div');\n",
              "          docLink.innerHTML = docLinkHtml;\n",
              "          element.appendChild(docLink);\n",
              "        }\n",
              "      </script>\n",
              "    </div>\n",
              "  </div>\n",
              "  "
            ]
          },
          "metadata": {},
          "execution_count": 100
        }
      ]
    },
    {
      "cell_type": "markdown",
      "source": [
        "# Q14 What are the top 5 Apps on the basis of installation?"
      ],
      "metadata": {
        "id": "GLIwsbFUU11-"
      }
    },
    {
      "cell_type": "code",
      "source": [
        "top_five_apps_installs_df = playstore_df.groupby(by=['App', 'Category', 'Rating'])[['Installs']].sum().reset_index()\n",
        "top_five_apps_installs_df = top_five_apps_installs_df.sort_values(by=['Installs'], ascending=False)\n",
        "top_five_apps_installs_df.head(5)"
      ],
      "metadata": {
        "colab": {
          "base_uri": "https://localhost:8080/",
          "height": 206
        },
        "id": "CBvWKgtaTuLg",
        "outputId": "7a5b5487-a44a-41a9-ffbc-19bf1d64a877"
      },
      "execution_count": null,
      "outputs": [
        {
          "output_type": "execute_result",
          "data": {
            "text/plain": [
              "                                App            Category  Rating      Installs\n",
              "7165                 Subway Surfers                GAME     4.5  6.000000e+09\n",
              "4450                    Google News  NEWS_AND_MAGAZINES     3.9  4.000000e+09\n",
              "7363                   Temple Run 2                GAME     4.3  3.000000e+09\n",
              "2151               Candy Crush Saga                GAME     4.4  3.000000e+09\n",
              "8367  imo free video calls and chat       COMMUNICATION     4.3  2.000000e+09"
            ],
            "text/html": [
              "\n",
              "  <div id=\"df-820237c5-63e5-49f5-8136-c22d579130ca\">\n",
              "    <div class=\"colab-df-container\">\n",
              "      <div>\n",
              "<style scoped>\n",
              "    .dataframe tbody tr th:only-of-type {\n",
              "        vertical-align: middle;\n",
              "    }\n",
              "\n",
              "    .dataframe tbody tr th {\n",
              "        vertical-align: top;\n",
              "    }\n",
              "\n",
              "    .dataframe thead th {\n",
              "        text-align: right;\n",
              "    }\n",
              "</style>\n",
              "<table border=\"1\" class=\"dataframe\">\n",
              "  <thead>\n",
              "    <tr style=\"text-align: right;\">\n",
              "      <th></th>\n",
              "      <th>App</th>\n",
              "      <th>Category</th>\n",
              "      <th>Rating</th>\n",
              "      <th>Installs</th>\n",
              "    </tr>\n",
              "  </thead>\n",
              "  <tbody>\n",
              "    <tr>\n",
              "      <th>7165</th>\n",
              "      <td>Subway Surfers</td>\n",
              "      <td>GAME</td>\n",
              "      <td>4.5</td>\n",
              "      <td>6.000000e+09</td>\n",
              "    </tr>\n",
              "    <tr>\n",
              "      <th>4450</th>\n",
              "      <td>Google News</td>\n",
              "      <td>NEWS_AND_MAGAZINES</td>\n",
              "      <td>3.9</td>\n",
              "      <td>4.000000e+09</td>\n",
              "    </tr>\n",
              "    <tr>\n",
              "      <th>7363</th>\n",
              "      <td>Temple Run 2</td>\n",
              "      <td>GAME</td>\n",
              "      <td>4.3</td>\n",
              "      <td>3.000000e+09</td>\n",
              "    </tr>\n",
              "    <tr>\n",
              "      <th>2151</th>\n",
              "      <td>Candy Crush Saga</td>\n",
              "      <td>GAME</td>\n",
              "      <td>4.4</td>\n",
              "      <td>3.000000e+09</td>\n",
              "    </tr>\n",
              "    <tr>\n",
              "      <th>8367</th>\n",
              "      <td>imo free video calls and chat</td>\n",
              "      <td>COMMUNICATION</td>\n",
              "      <td>4.3</td>\n",
              "      <td>2.000000e+09</td>\n",
              "    </tr>\n",
              "  </tbody>\n",
              "</table>\n",
              "</div>\n",
              "      <button class=\"colab-df-convert\" onclick=\"convertToInteractive('df-820237c5-63e5-49f5-8136-c22d579130ca')\"\n",
              "              title=\"Convert this dataframe to an interactive table.\"\n",
              "              style=\"display:none;\">\n",
              "        \n",
              "  <svg xmlns=\"http://www.w3.org/2000/svg\" height=\"24px\"viewBox=\"0 0 24 24\"\n",
              "       width=\"24px\">\n",
              "    <path d=\"M0 0h24v24H0V0z\" fill=\"none\"/>\n",
              "    <path d=\"M18.56 5.44l.94 2.06.94-2.06 2.06-.94-2.06-.94-.94-2.06-.94 2.06-2.06.94zm-11 1L8.5 8.5l.94-2.06 2.06-.94-2.06-.94L8.5 2.5l-.94 2.06-2.06.94zm10 10l.94 2.06.94-2.06 2.06-.94-2.06-.94-.94-2.06-.94 2.06-2.06.94z\"/><path d=\"M17.41 7.96l-1.37-1.37c-.4-.4-.92-.59-1.43-.59-.52 0-1.04.2-1.43.59L10.3 9.45l-7.72 7.72c-.78.78-.78 2.05 0 2.83L4 21.41c.39.39.9.59 1.41.59.51 0 1.02-.2 1.41-.59l7.78-7.78 2.81-2.81c.8-.78.8-2.07 0-2.86zM5.41 20L4 18.59l7.72-7.72 1.47 1.35L5.41 20z\"/>\n",
              "  </svg>\n",
              "      </button>\n",
              "      \n",
              "  <style>\n",
              "    .colab-df-container {\n",
              "      display:flex;\n",
              "      flex-wrap:wrap;\n",
              "      gap: 12px;\n",
              "    }\n",
              "\n",
              "    .colab-df-convert {\n",
              "      background-color: #E8F0FE;\n",
              "      border: none;\n",
              "      border-radius: 50%;\n",
              "      cursor: pointer;\n",
              "      display: none;\n",
              "      fill: #1967D2;\n",
              "      height: 32px;\n",
              "      padding: 0 0 0 0;\n",
              "      width: 32px;\n",
              "    }\n",
              "\n",
              "    .colab-df-convert:hover {\n",
              "      background-color: #E2EBFA;\n",
              "      box-shadow: 0px 1px 2px rgba(60, 64, 67, 0.3), 0px 1px 3px 1px rgba(60, 64, 67, 0.15);\n",
              "      fill: #174EA6;\n",
              "    }\n",
              "\n",
              "    [theme=dark] .colab-df-convert {\n",
              "      background-color: #3B4455;\n",
              "      fill: #D2E3FC;\n",
              "    }\n",
              "\n",
              "    [theme=dark] .colab-df-convert:hover {\n",
              "      background-color: #434B5C;\n",
              "      box-shadow: 0px 1px 3px 1px rgba(0, 0, 0, 0.15);\n",
              "      filter: drop-shadow(0px 1px 2px rgba(0, 0, 0, 0.3));\n",
              "      fill: #FFFFFF;\n",
              "    }\n",
              "  </style>\n",
              "\n",
              "      <script>\n",
              "        const buttonEl =\n",
              "          document.querySelector('#df-820237c5-63e5-49f5-8136-c22d579130ca button.colab-df-convert');\n",
              "        buttonEl.style.display =\n",
              "          google.colab.kernel.accessAllowed ? 'block' : 'none';\n",
              "\n",
              "        async function convertToInteractive(key) {\n",
              "          const element = document.querySelector('#df-820237c5-63e5-49f5-8136-c22d579130ca');\n",
              "          const dataTable =\n",
              "            await google.colab.kernel.invokeFunction('convertToInteractive',\n",
              "                                                     [key], {});\n",
              "          if (!dataTable) return;\n",
              "\n",
              "          const docLinkHtml = 'Like what you see? Visit the ' +\n",
              "            '<a target=\"_blank\" href=https://colab.research.google.com/notebooks/data_table.ipynb>data table notebook</a>'\n",
              "            + ' to learn more about interactive tables.';\n",
              "          element.innerHTML = '';\n",
              "          dataTable['output_type'] = 'display_data';\n",
              "          await google.colab.output.renderOutput(dataTable, element);\n",
              "          const docLink = document.createElement('div');\n",
              "          docLink.innerHTML = docLinkHtml;\n",
              "          element.appendChild(docLink);\n",
              "        }\n",
              "      </script>\n",
              "    </div>\n",
              "  </div>\n",
              "  "
            ]
          },
          "metadata": {},
          "execution_count": 101
        }
      ]
    },
    {
      "cell_type": "markdown",
      "source": [
        "# Q15 What are the top five Apps on the basis of Rating?"
      ],
      "metadata": {
        "id": "WbCh0gkNV1ku"
      }
    },
    {
      "cell_type": "code",
      "source": [
        "top_five_apps_rating_df = playstore_df.groupby(by=['App', 'Category'])[['Rating']].mean().reset_index()\n",
        "top_five_apps_rating_df = top_five_apps_rating_df.sort_values(by=['Rating'], ascending=False)\n",
        "top_five_apps_rating_df.head(5)"
      ],
      "metadata": {
        "colab": {
          "base_uri": "https://localhost:8080/",
          "height": 206
        },
        "id": "KtktNSt3T6uo",
        "outputId": "85e0f845-0362-4ba9-a377-fa3021ea1601"
      },
      "execution_count": null,
      "outputs": [
        {
          "output_type": "execute_result",
          "data": {
            "text/plain": [
              "                                                    App      Category  Rating\n",
              "3508                               Easy Hotspot Ad Free         TOOLS     5.0\n",
              "161                                        ADS-B Driver         TOOLS     5.0\n",
              "5796  NCLEX Multi-topic Nursing Exam Review-Quiz & n...       MEDICAL     5.0\n",
              "3206                                         EB Scanner  PRODUCTIVITY     5.0\n",
              "3199                                EB Cash Collections      BUSINESS     5.0"
            ],
            "text/html": [
              "\n",
              "  <div id=\"df-73de3708-7f4b-47c7-8385-c5beec1b3938\">\n",
              "    <div class=\"colab-df-container\">\n",
              "      <div>\n",
              "<style scoped>\n",
              "    .dataframe tbody tr th:only-of-type {\n",
              "        vertical-align: middle;\n",
              "    }\n",
              "\n",
              "    .dataframe tbody tr th {\n",
              "        vertical-align: top;\n",
              "    }\n",
              "\n",
              "    .dataframe thead th {\n",
              "        text-align: right;\n",
              "    }\n",
              "</style>\n",
              "<table border=\"1\" class=\"dataframe\">\n",
              "  <thead>\n",
              "    <tr style=\"text-align: right;\">\n",
              "      <th></th>\n",
              "      <th>App</th>\n",
              "      <th>Category</th>\n",
              "      <th>Rating</th>\n",
              "    </tr>\n",
              "  </thead>\n",
              "  <tbody>\n",
              "    <tr>\n",
              "      <th>3508</th>\n",
              "      <td>Easy Hotspot Ad Free</td>\n",
              "      <td>TOOLS</td>\n",
              "      <td>5.0</td>\n",
              "    </tr>\n",
              "    <tr>\n",
              "      <th>161</th>\n",
              "      <td>ADS-B Driver</td>\n",
              "      <td>TOOLS</td>\n",
              "      <td>5.0</td>\n",
              "    </tr>\n",
              "    <tr>\n",
              "      <th>5796</th>\n",
              "      <td>NCLEX Multi-topic Nursing Exam Review-Quiz &amp; n...</td>\n",
              "      <td>MEDICAL</td>\n",
              "      <td>5.0</td>\n",
              "    </tr>\n",
              "    <tr>\n",
              "      <th>3206</th>\n",
              "      <td>EB Scanner</td>\n",
              "      <td>PRODUCTIVITY</td>\n",
              "      <td>5.0</td>\n",
              "    </tr>\n",
              "    <tr>\n",
              "      <th>3199</th>\n",
              "      <td>EB Cash Collections</td>\n",
              "      <td>BUSINESS</td>\n",
              "      <td>5.0</td>\n",
              "    </tr>\n",
              "  </tbody>\n",
              "</table>\n",
              "</div>\n",
              "      <button class=\"colab-df-convert\" onclick=\"convertToInteractive('df-73de3708-7f4b-47c7-8385-c5beec1b3938')\"\n",
              "              title=\"Convert this dataframe to an interactive table.\"\n",
              "              style=\"display:none;\">\n",
              "        \n",
              "  <svg xmlns=\"http://www.w3.org/2000/svg\" height=\"24px\"viewBox=\"0 0 24 24\"\n",
              "       width=\"24px\">\n",
              "    <path d=\"M0 0h24v24H0V0z\" fill=\"none\"/>\n",
              "    <path d=\"M18.56 5.44l.94 2.06.94-2.06 2.06-.94-2.06-.94-.94-2.06-.94 2.06-2.06.94zm-11 1L8.5 8.5l.94-2.06 2.06-.94-2.06-.94L8.5 2.5l-.94 2.06-2.06.94zm10 10l.94 2.06.94-2.06 2.06-.94-2.06-.94-.94-2.06-.94 2.06-2.06.94z\"/><path d=\"M17.41 7.96l-1.37-1.37c-.4-.4-.92-.59-1.43-.59-.52 0-1.04.2-1.43.59L10.3 9.45l-7.72 7.72c-.78.78-.78 2.05 0 2.83L4 21.41c.39.39.9.59 1.41.59.51 0 1.02-.2 1.41-.59l7.78-7.78 2.81-2.81c.8-.78.8-2.07 0-2.86zM5.41 20L4 18.59l7.72-7.72 1.47 1.35L5.41 20z\"/>\n",
              "  </svg>\n",
              "      </button>\n",
              "      \n",
              "  <style>\n",
              "    .colab-df-container {\n",
              "      display:flex;\n",
              "      flex-wrap:wrap;\n",
              "      gap: 12px;\n",
              "    }\n",
              "\n",
              "    .colab-df-convert {\n",
              "      background-color: #E8F0FE;\n",
              "      border: none;\n",
              "      border-radius: 50%;\n",
              "      cursor: pointer;\n",
              "      display: none;\n",
              "      fill: #1967D2;\n",
              "      height: 32px;\n",
              "      padding: 0 0 0 0;\n",
              "      width: 32px;\n",
              "    }\n",
              "\n",
              "    .colab-df-convert:hover {\n",
              "      background-color: #E2EBFA;\n",
              "      box-shadow: 0px 1px 2px rgba(60, 64, 67, 0.3), 0px 1px 3px 1px rgba(60, 64, 67, 0.15);\n",
              "      fill: #174EA6;\n",
              "    }\n",
              "\n",
              "    [theme=dark] .colab-df-convert {\n",
              "      background-color: #3B4455;\n",
              "      fill: #D2E3FC;\n",
              "    }\n",
              "\n",
              "    [theme=dark] .colab-df-convert:hover {\n",
              "      background-color: #434B5C;\n",
              "      box-shadow: 0px 1px 3px 1px rgba(0, 0, 0, 0.15);\n",
              "      filter: drop-shadow(0px 1px 2px rgba(0, 0, 0, 0.3));\n",
              "      fill: #FFFFFF;\n",
              "    }\n",
              "  </style>\n",
              "\n",
              "      <script>\n",
              "        const buttonEl =\n",
              "          document.querySelector('#df-73de3708-7f4b-47c7-8385-c5beec1b3938 button.colab-df-convert');\n",
              "        buttonEl.style.display =\n",
              "          google.colab.kernel.accessAllowed ? 'block' : 'none';\n",
              "\n",
              "        async function convertToInteractive(key) {\n",
              "          const element = document.querySelector('#df-73de3708-7f4b-47c7-8385-c5beec1b3938');\n",
              "          const dataTable =\n",
              "            await google.colab.kernel.invokeFunction('convertToInteractive',\n",
              "                                                     [key], {});\n",
              "          if (!dataTable) return;\n",
              "\n",
              "          const docLinkHtml = 'Like what you see? Visit the ' +\n",
              "            '<a target=\"_blank\" href=https://colab.research.google.com/notebooks/data_table.ipynb>data table notebook</a>'\n",
              "            + ' to learn more about interactive tables.';\n",
              "          element.innerHTML = '';\n",
              "          dataTable['output_type'] = 'display_data';\n",
              "          await google.colab.output.renderOutput(dataTable, element);\n",
              "          const docLink = document.createElement('div');\n",
              "          docLink.innerHTML = docLinkHtml;\n",
              "          element.appendChild(docLink);\n",
              "        }\n",
              "      </script>\n",
              "    </div>\n",
              "  </div>\n",
              "  "
            ]
          },
          "metadata": {},
          "execution_count": 102
        }
      ]
    },
    {
      "cell_type": "code",
      "source": [],
      "metadata": {
        "id": "4h4wF0Wzt_UM"
      },
      "execution_count": null,
      "outputs": []
    }
  ]
}